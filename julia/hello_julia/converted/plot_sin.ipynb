{
  "cells": [
    {
      "outputs": [],
      "cell_type": "code",
      "source": [
        "import Pkg\nPkg.add(\"Plots\")"
      ],
      "metadata": {},
      "execution_count": null
    },
    {
      "outputs": [],
      "cell_type": "code",
      "source": [
        "1 + 1"
      ],
      "metadata": {},
      "execution_count": null
    },
    {
      "outputs": [],
      "cell_type": "code",
      "source": [
        "using Plots\n\nplot(sin)"
      ],
      "metadata": {},
      "execution_count": null
    }
  ],
  "nbformat_minor": 2,
  "metadata": {
    "language_info": {
      "file_extension": ".jl",
      "mimetype": "application/julia",
      "name": "julia",
      "version": "1.7.1"
    },
    "kernelspec": {
      "name": "julia-1.7",
      "display_name": "Julia 1.7.1",
      "language": "julia"
    }
  },
  "nbformat": 4
}

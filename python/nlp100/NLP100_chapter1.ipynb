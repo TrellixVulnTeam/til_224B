{
  "nbformat": 4,
  "nbformat_minor": 0,
  "metadata": {
    "colab": {
      "name": "NLP100_chapter1.ipynb",
      "version": "0.3.2",
      "provenance": [],
      "collapsed_sections": [
        "UdaJk8ZofAvV",
        "T5CGEIU9fPQg",
        "8Wyun5q8fe-_",
        "yRR9EweTgOrD",
        "znCzDx6yqMox",
        "cDcHwhy9xvJc",
        "QfzfJ9T9S5Xb",
        "KTjFTGwKTMgv",
        "xguqA5FtTPs3"
      ],
      "toc_visible": true,
      "include_colab_link": true
    },
    "kernelspec": {
      "name": "python3",
      "display_name": "Python 3"
    }
  },
  "cells": [
    {
      "cell_type": "markdown",
      "metadata": {
        "id": "view-in-github",
        "colab_type": "text"
      },
      "source": [
        "<a href=\"https://colab.research.google.com/github/iimuz/nlp100/blob/master/NLP100_chapter1.ipynb\" target=\"_parent\"><img src=\"https://colab.research.google.com/assets/colab-badge.svg\" alt=\"Open In Colab\"/></a>"
      ]
    },
    {
      "metadata": {
        "id": "GOPk1z1Jem7x",
        "colab_type": "text"
      },
      "cell_type": "markdown",
      "source": [
        "# 言語処理100本ノック 2015 Chapter 1\n",
        "\n",
        "[言語処理100本ノック 2015][nlp100] を練習します。\n",
        "ここでは、 \"Chapter 1 準備運動\" を実施します。\n",
        "\n",
        "[nlp100]: http://www.cl.ecei.tohoku.ac.jp/nlp100/"
      ]
    },
    {
      "metadata": {
        "id": "UdaJk8ZofAvV",
        "colab_type": "text"
      },
      "cell_type": "markdown",
      "source": [
        "## 00. 文字列の逆順\n",
        "\n",
        "> 文字列\"stressed\"の文字を逆に（末尾から先頭に向かって）並べた文字列を得よ．"
      ]
    },
    {
      "metadata": {
        "id": "uztD-9iCzX1q",
        "colab_type": "code",
        "outputId": "70e6a62b-ad18-499b-ac5b-c82ed8cb3801",
        "colab": {
          "base_uri": "https://localhost:8080/",
          "height": 54
        }
      },
      "cell_type": "code",
      "source": [
        "def problem001():\n",
        "    buff = 'stressed'\n",
        "    print(buff[::-1])\n",
        "\n",
        "\n",
        "problem001()"
      ],
      "execution_count": 1,
      "outputs": [
        {
          "output_type": "stream",
          "text": [
            "desserts\n"
          ],
          "name": "stdout"
        }
      ]
    },
    {
      "metadata": {
        "id": "T5CGEIU9fPQg",
        "colab_type": "text"
      },
      "cell_type": "markdown",
      "source": [
        "## 01. 「パタトクカシーー」\n",
        "\n",
        "> 「パタトクカシーー」という文字列の1,3,5,7文字目を取り出して連結した文字列を得よ．"
      ]
    },
    {
      "metadata": {
        "id": "04T4xvSm0KWj",
        "colab_type": "code",
        "outputId": "05e1ad67-5f14-44ad-f8e5-a46ccfc7024b",
        "colab": {
          "base_uri": "https://localhost:8080/",
          "height": 54
        }
      },
      "cell_type": "code",
      "source": [
        "def problem002():\n",
        "    buff = 'パタトクカシーー'\n",
        "    print(buff[::2])\n",
        "\n",
        "\n",
        "problem002()"
      ],
      "execution_count": 2,
      "outputs": [
        {
          "output_type": "stream",
          "text": [
            "パトカー\n"
          ],
          "name": "stdout"
        }
      ]
    },
    {
      "metadata": {
        "id": "8Wyun5q8fe-_",
        "colab_type": "text"
      },
      "cell_type": "markdown",
      "source": [
        "## 02. 「パトカー」＋「タクシー」＝「パタトクカシーー」\n",
        "\n",
        "> 「パトカー」＋「タクシー」の文字を先頭から交互に連結して文字列「パタトクカシーー」を得よ．"
      ]
    },
    {
      "metadata": {
        "id": "iDZCfn9W0l-s",
        "colab_type": "code",
        "outputId": "d1e7505d-b61e-4d43-96a6-5b04a79127b0",
        "colab": {
          "base_uri": "https://localhost:8080/",
          "height": 54
        }
      },
      "cell_type": "code",
      "source": [
        "def problem003():\n",
        "    buff1 = 'パトカー'\n",
        "    buff2 = 'タクシー'\n",
        "    print(''.join([s1 + s2 for s1, s2 in zip(buff1, buff2)]))\n",
        "\n",
        "\n",
        "problem003()"
      ],
      "execution_count": 3,
      "outputs": [
        {
          "output_type": "stream",
          "text": [
            "パタトクカシーー\n"
          ],
          "name": "stdout"
        }
      ]
    },
    {
      "metadata": {
        "id": "63-0sRta3XQV",
        "colab_type": "text"
      },
      "cell_type": "markdown",
      "source": [
        "### 別解\n",
        "\n",
        "[素人の言語処理100本ノック:02][segavvy] によると、\n",
        "もう少し記述量を減らせるようです。\n",
        "functools.reduce を利用します。\n",
        "\n",
        "[segavvy]: https://qiita.com/segavvy/items/725b20f21951975a06fd"
      ]
    },
    {
      "metadata": {
        "id": "wTa6jRW64S0Q",
        "colab_type": "code",
        "outputId": "43f1bc26-49d3-4f76-e293-550c52521a50",
        "colab": {
          "base_uri": "https://localhost:8080/",
          "height": 54
        }
      },
      "cell_type": "code",
      "source": [
        "import functools\n",
        "\n",
        "\n",
        "def problem003_1():\n",
        "    buff1 = 'パトカー'\n",
        "    buff2 = 'タクシー'\n",
        "    print(''.join(functools.reduce(lambda x, y: x + y, zip(buff1, buff2))))\n",
        "\n",
        "\n",
        "problem003_1()"
      ],
      "execution_count": 4,
      "outputs": [
        {
          "output_type": "stream",
          "text": [
            "パタトクカシーー\n"
          ],
          "name": "stdout"
        }
      ]
    },
    {
      "metadata": {
        "id": "i8rQqhi0jceR",
        "colab_type": "text"
      },
      "cell_type": "markdown",
      "source": [
        "* [10.2. functools — 高階関数と呼び出し可能オブジェクトの操作][py3-lib]\n",
        "* [【Python3】 functools.reduceの使い方][st-hakky]\n",
        "\n",
        "> 1. まず、引数を２つとるfuncと、リストsample_listを用意します\n",
        "> 1. reduce(func, sample_list) を呼び出すと、sample_listの最初の2つの要素に関数funcが適用されます(つまり、func(sample_list[0], sample_list[1])の用な感じ)\n",
        "> 1. 最初の2つの要素を使って計算された値をresult1とすると、今度はこの値とsample_list[2]をfuncは引数にとって、計算をします(つまり、func(result1, sample_list[[2]) の用な感じです)\n",
        "> 1. あとは、これが要素がなくなるまで繰り返します。\n",
        "\n",
        "上記説明を見ると一番簡単に思いつく用途は、 sum のように感じました。\n",
        "\n",
        "[st-hakky]: https://www.st-hakky-blog.com/entry/2017/11/28/173033\n",
        "[py3-lib]: https://docs.python.jp/3/library/functools.html"
      ]
    },
    {
      "metadata": {
        "id": "iGyvm9VSvYhL",
        "colab_type": "code",
        "outputId": "f9c1d0b7-0150-4c58-95c9-c3b2d1b557d0",
        "colab": {
          "base_uri": "https://localhost:8080/",
          "height": 72
        }
      },
      "cell_type": "code",
      "source": [
        "import functools\n",
        "\n",
        "\n",
        "def example_reduce():\n",
        "    arr = list(range(1, 11))\n",
        "    val = functools.reduce(lambda x, y: x + y, arr)\n",
        "\n",
        "    print(f'array: {arr}')\n",
        "    print(f'sum: {val}')\n",
        "\n",
        "\n",
        "example_reduce()"
      ],
      "execution_count": 5,
      "outputs": [
        {
          "output_type": "stream",
          "text": [
            "array: [1, 2, 3, 4, 5, 6, 7, 8, 9, 10]\n",
            "sum: 55\n"
          ],
          "name": "stdout"
        }
      ]
    },
    {
      "metadata": {
        "id": "x7UTxdbDwFTL",
        "colab_type": "text"
      },
      "cell_type": "markdown",
      "source": [
        "ただ、このような場合は、単純に sum 関数があるので、\n",
        "簡単な処理だが、組み込み関数では足りない場合に利用する感じでしょうか。"
      ]
    },
    {
      "metadata": {
        "id": "iv4PuQ9OwhRT",
        "colab_type": "code",
        "outputId": "4b7248ea-4d0a-42f6-dc41-264e886b1ca4",
        "colab": {
          "base_uri": "https://localhost:8080/",
          "height": 72
        }
      },
      "cell_type": "code",
      "source": [
        "import functools\n",
        "\n",
        "\n",
        "def example_sum():\n",
        "    arr = list(range(1, 11))\n",
        "    val = sum(arr)\n",
        "    \n",
        "    print(f'array: {arr}')\n",
        "    print(f'sum: {val}')\n",
        "\n",
        "\n",
        "example_sum()"
      ],
      "execution_count": 6,
      "outputs": [
        {
          "output_type": "stream",
          "text": [
            "array: [1, 2, 3, 4, 5, 6, 7, 8, 9, 10]\n",
            "sum: 55\n"
          ],
          "name": "stdout"
        }
      ]
    },
    {
      "metadata": {
        "id": "yRR9EweTgOrD",
        "colab_type": "text"
      },
      "cell_type": "markdown",
      "source": [
        "## 03. 円周率\n",
        "\n",
        "> \"Now I need a drink, alcoholic of course, after the heavy lectures involving quantum mechanics.\"という文を単語に分解し，各単語の（アルファベットの）文字数を先頭から出現順に並べたリストを作成せよ．"
      ]
    },
    {
      "metadata": {
        "id": "DTnlIaoEPMmo",
        "colab_type": "code",
        "outputId": "556177ce-4951-45d4-e52a-2ef3d2278f4f",
        "colab": {
          "base_uri": "https://localhost:8080/",
          "height": 54
        }
      },
      "cell_type": "code",
      "source": [
        "def problem004():\n",
        "    buff = (\n",
        "        'Now I need a drink, alcoholic of course,'\n",
        "        ' after the heavy lectures involving quantum mechanics.'\n",
        "    )\n",
        "    buff = buff.replace(',', '').replace('.', '')\n",
        "    char_num_list = [len(word) for word in buff.split(' ')]\n",
        "\n",
        "    print(char_num_list)\n",
        "\n",
        "\n",
        "problem004()"
      ],
      "execution_count": 7,
      "outputs": [
        {
          "output_type": "stream",
          "text": [
            "[3, 1, 4, 1, 5, 9, 2, 6, 5, 3, 5, 8, 9, 7, 9]\n"
          ],
          "name": "stdout"
        }
      ]
    },
    {
      "metadata": {
        "id": "znCzDx6yqMox",
        "colab_type": "text"
      },
      "cell_type": "markdown",
      "source": [
        "## 04. 元素記号\n",
        "\n",
        "> \"Hi He Lied Because Boron Could Not Oxidize Fluorine. New Nations Might Also Sign Peace Security Clause. Arthur King Can.\"という文を単語に分解し，1, 5, 6, 7, 8, 9, 15, 16, 19番目の単語は先頭の1文字，それ以外の単語は先頭に2文字を取り出し，取り出した文字列から単語の位置（先頭から何番目の単語か）への連想配列（辞書型もしくはマップ型）を作成せよ．"
      ]
    },
    {
      "metadata": {
        "id": "r81Fcbg-Q2I6",
        "colab_type": "code",
        "outputId": "95d2b964-e80a-451a-dbd5-8059a6a2e296",
        "colab": {
          "base_uri": "https://localhost:8080/",
          "height": 387
        }
      },
      "cell_type": "code",
      "source": [
        "from pprint import pprint\n",
        "\n",
        "\n",
        "def problem005():\n",
        "    buff = (\n",
        "        'Hi He Lied Because Boron Could Not Oxidize Fluorine.'\n",
        "        ' New Nations Might Also Sign Peace Security Clause. Arthur King Can.'\n",
        "    )\n",
        "    one_char_index = [1, 5, 6, 7, 8, 9, 15, 16, 19]\n",
        "    data = {\n",
        "        idx: word[:1 if idx in one_char_index else 2]\n",
        "        for idx, word in enumerate(buff.split(' '), start=1)\n",
        "    }\n",
        "\n",
        "    pprint(data)\n",
        "\n",
        "\n",
        "problem005()"
      ],
      "execution_count": 8,
      "outputs": [
        {
          "output_type": "stream",
          "text": [
            "{1: 'H',\n",
            " 2: 'He',\n",
            " 3: 'Li',\n",
            " 4: 'Be',\n",
            " 5: 'B',\n",
            " 6: 'C',\n",
            " 7: 'N',\n",
            " 8: 'O',\n",
            " 9: 'F',\n",
            " 10: 'Ne',\n",
            " 11: 'Na',\n",
            " 12: 'Mi',\n",
            " 13: 'Al',\n",
            " 14: 'Si',\n",
            " 15: 'P',\n",
            " 16: 'S',\n",
            " 17: 'Cl',\n",
            " 18: 'Ar',\n",
            " 19: 'K',\n",
            " 20: 'Ca'}\n"
          ],
          "name": "stdout"
        }
      ]
    },
    {
      "metadata": {
        "id": "cDcHwhy9xvJc",
        "colab_type": "text"
      },
      "cell_type": "markdown",
      "source": [
        "## 05. n-gram\n",
        "\n",
        "> 与えられたシーケンス（文字列やリストなど）からn-gramを作る関数を作成せよ．この関数を用い，\"I am an NLPer\"という文から単語bi-gram，文字bi-gramを得よ．\n",
        "\n"
      ]
    },
    {
      "metadata": {
        "id": "jQSr6gphx0Sy",
        "colab_type": "code",
        "colab": {}
      },
      "cell_type": "code",
      "source": [
        "from typing import Sequence\n",
        "\n",
        "\n",
        "def n_gram(seq: Sequence[str], n: int) -> Sequence[str]:\n",
        "    \"\"\" 入力シーケンスから n-gram を返す\n",
        "    \"\"\"\n",
        "    data = [\n",
        "        seq[s:s+n]\n",
        "        for s in range(0, len(seq) - n + 1)\n",
        "    ]\n",
        "    return data"
      ],
      "execution_count": 0,
      "outputs": []
    },
    {
      "metadata": {
        "id": "I7umKCXvcLIZ",
        "colab_type": "code",
        "outputId": "b20d9241-cf3d-4266-ea0d-e22c399a33ca",
        "colab": {
          "base_uri": "https://localhost:8080/",
          "height": 72
        }
      },
      "cell_type": "code",
      "source": [
        "from pprint import pprint\n",
        "\n",
        "\n",
        "def problem005():\n",
        "    buff = 'I am an NLPer'\n",
        "\n",
        "    word_bi_gram = n_gram(buff.split(' '), 2)\n",
        "    char_bi_gram = n_gram(buff, 2)\n",
        "\n",
        "    pprint(word_bi_gram)\n",
        "    pprint(char_bi_gram)\n",
        "\n",
        "\n",
        "problem005()"
      ],
      "execution_count": 10,
      "outputs": [
        {
          "output_type": "stream",
          "text": [
            "[['I', 'am'], ['am', 'an'], ['an', 'NLPer']]\n",
            "['I ', ' a', 'am', 'm ', ' a', 'an', 'n ', ' N', 'NL', 'LP', 'Pe', 'er']\n"
          ],
          "name": "stdout"
        }
      ]
    },
    {
      "metadata": {
        "id": "uSBbRNy0T6gQ",
        "colab_type": "text"
      },
      "cell_type": "markdown",
      "source": [
        "### n-gram とは\n",
        "\n",
        "[図書館情報学用語辞典の解説][kotobank]\n",
        "\n",
        "> 任意の文字列や文書を連続したn個の文字で分割するテキスト分割方法．\n",
        "> 特に，nが1の場合をユニグラム（uni-gram），\n",
        "> 2の場合をバイグラム（bi-gram），\n",
        "> 3の場合をトライグラム（tri-gram）と呼ぶ．\n",
        ">\n",
        "> 例えば，「図書館情報学」をバイグラムで分割すると，「図書」「書館」「館情」「情報」「報学」となる．\n",
        "\n",
        "[StackOverflow: What exactly is an n Gram?][stack]\n",
        "\n",
        "> N-grams are simply all combinations of adjacent words or letters of length n that you can find in your source text. For example, given the word fox, all 2-grams (or “bigrams”) are fo and ox. You may also count the word boundary – that would expand the list of 2-grams to #f, fo, ox, and x#, where # denotes a word boundary.\n",
        ">\n",
        "> You can do the same on the word level. As an example, the hello, world! text contains the following word-level bigrams: # hello, hello world, world #.\n",
        "\n",
        "最初のスペースを含むかどうかは、スペースをワードとしてとらえるかどうかによるということでよい?\n",
        "\n",
        "[kotobank]: https://kotobank.jp/word/N%E3%82%B0%E3%83%A9%E3%83%A0-1702302\n",
        "[stack]: https://stackoverflow.com/questions/18193253/what-exactly-is-an-n-gram"
      ]
    },
    {
      "metadata": {
        "id": "QfzfJ9T9S5Xb",
        "colab_type": "text"
      },
      "cell_type": "markdown",
      "source": [
        "## 06. 集合\n",
        "\n",
        "> \"paraparaparadise\"と\"paragraph\"に含まれる文字bi-gramの集合を，それぞれ, XとYとして求め，XとYの和集合，積集合，差集合を求めよ．さらに，'se'というbi-gramがXおよびYに含まれるかどうかを調べよ．"
      ]
    },
    {
      "metadata": {
        "id": "Xgmr-34WWJZP",
        "colab_type": "code",
        "outputId": "55ee8088-1afb-48f1-933c-31a292afba46",
        "colab": {
          "base_uri": "https://localhost:8080/",
          "height": 159
        }
      },
      "cell_type": "code",
      "source": [
        "def problem006():\n",
        "    buff_x = 'paraparaparadise'\n",
        "    buff_y = 'paragraph'\n",
        "    target = 'se'\n",
        "    \n",
        "    bi_gram_num = 2\n",
        "    x = set(n_gram(buff_x, bi_gram_num))\n",
        "    y = set(n_gram(buff_y, bi_gram_num))\n",
        "\n",
        "    union = x | y\n",
        "    intersection = x & y\n",
        "    diff = x - y\n",
        "    x_contain = target in x\n",
        "    y_contain = target in y\n",
        "\n",
        "    print(f'x is {buff_x}')\n",
        "    print(f'y is {buff_y}')\n",
        "    print(f'union set: {union}')\n",
        "    print(f'intersection set: {intersection}')\n",
        "    print(f'differnce set: {diff}')\n",
        "    print(f'x contain {target}: {x_contain}')\n",
        "    print(f'y contain {target}: {y_contain}')\n",
        "\n",
        "\n",
        "problem006()"
      ],
      "execution_count": 11,
      "outputs": [
        {
          "output_type": "stream",
          "text": [
            "x is paraparaparadise\n",
            "y is paragraph\n",
            "union set: {'se', 'ra', 'is', 'ar', 'ap', 'ag', 'gr', 'ad', 'di', 'pa', 'ph'}\n",
            "intersection set: {'pa', 'ra', 'ar', 'ap'}\n",
            "differnce set: {'di', 'se', 'ad', 'is'}\n",
            "x contain se: True\n",
            "y contain se: False\n"
          ],
          "name": "stdout"
        }
      ]
    },
    {
      "metadata": {
        "id": "KTjFTGwKTMgv",
        "colab_type": "text"
      },
      "cell_type": "markdown",
      "source": [
        "## 07. テンプレートによる文生成\n",
        "\n",
        "> 引数x, y, zを受け取り「x時のyはz」という文字列を返す関数を実装せよ．さらに，x=12, y=\"気温\", z=22.4として，実行結果を確認せよ．"
      ]
    },
    {
      "metadata": {
        "id": "a2JQNZdvaQw7",
        "colab_type": "code",
        "outputId": "47db7418-aece-4d29-a67f-350c98c37d8b",
        "colab": {
          "base_uri": "https://localhost:8080/",
          "height": 54
        }
      },
      "cell_type": "code",
      "source": [
        "def template_str(x: str, y: str, z: str) -> str:\n",
        "    return f'{x}時の{y}は{z}'\n",
        "\n",
        "\n",
        "def problem007():\n",
        "    buff = {\n",
        "        'x': 12,\n",
        "        'y': '気温',\n",
        "        'z': 22.4,\n",
        "    }\n",
        "\n",
        "    print(template_str(**buff))\n",
        "\n",
        "\n",
        "problem007()"
      ],
      "execution_count": 12,
      "outputs": [
        {
          "output_type": "stream",
          "text": [
            "12時の気温は22.4\n"
          ],
          "name": "stdout"
        }
      ]
    },
    {
      "metadata": {
        "id": "xguqA5FtTPs3",
        "colab_type": "text"
      },
      "cell_type": "markdown",
      "source": [
        "## 08. 暗号文\n",
        "\n",
        "> 与えられた文字列の各文字を，以下の仕様で変換する関数cipherを実装せよ．\n",
        ">\n",
        "> * 英小文字ならば(219 - 文字コード)の文字に置換\n",
        "> * その他の文字はそのまま出力\n",
        ">\n",
        "> この関数を用い，英語のメッセージを暗号化・復号化せよ．"
      ]
    },
    {
      "metadata": {
        "id": "trgn7rzYcF13",
        "colab_type": "code",
        "colab": {}
      },
      "cell_type": "code",
      "source": [
        "def cipher(buff: str) -> str:\n",
        "    def converter(c):\n",
        "        diff_num = 219\n",
        "        return chr(diff_num - ord(c)) if c.islower() else c\n",
        "\n",
        "    return ''.join(converter(c) for c in buff)"
      ],
      "execution_count": 0,
      "outputs": []
    },
    {
      "metadata": {
        "id": "wVhzL4_6iqpq",
        "colab_type": "code",
        "outputId": "1606d085-9cfc-4689-b9e0-71208a17c89e",
        "colab": {
          "base_uri": "https://localhost:8080/",
          "height": 54
        }
      },
      "cell_type": "code",
      "source": [
        "def problem008() -> None:\n",
        "    buff = 'I am an NLPer'\n",
        "\n",
        "    encrypted = cipher(buff)\n",
        "    print(encrypted)\n",
        "\n",
        "\n",
        "problem008()"
      ],
      "execution_count": 14,
      "outputs": [
        {
          "output_type": "stream",
          "text": [
            "I zn zm NLPvi\n"
          ],
          "name": "stdout"
        }
      ]
    },
    {
      "metadata": {
        "id": "jjprFZ02go_t",
        "colab_type": "text"
      },
      "cell_type": "markdown",
      "source": [
        "[Qiita: Python 3 での文字列とバイト列の相互変換と16進数表示][masakielastic]\n",
        "\n",
        "`ord` で数字に変換し、 `chr` で文字に変換できるようです。\n",
        "\n",
        "[masakielastic]: https://qiita.com/masakielastic/items/2a04aee632c62536f82c"
      ]
    },
    {
      "metadata": {
        "id": "248-8ne2TSlw",
        "colab_type": "text"
      },
      "cell_type": "markdown",
      "source": [
        "## 09. Typoglycemia\n",
        "\n",
        "> スペースで区切られた単語列に対して，各単語の先頭と末尾の文字は残し，それ以外の文字の順序をランダムに並び替えるプログラムを作成せよ．ただし，長さが４以下の単語は並び替えないこととする．適当な英語の文（例えば\"I couldn't believe that I could actually understand what I was reading : the phenomenal power of the human mind .\"）を与え，その実行結果を確認せよ．"
      ]
    },
    {
      "metadata": {
        "id": "U1EJByvzTnEU",
        "colab_type": "code",
        "outputId": "83b80d70-6932-4212-a188-f102c267cd7e",
        "colab": {
          "base_uri": "https://localhost:8080/",
          "height": 34
        }
      },
      "cell_type": "code",
      "source": [
        "import random\n",
        "\n",
        "def random_order(buff: str) -> str:\n",
        "    if len(buff) <= 4:\n",
        "        return buff\n",
        "\n",
        "    return (buff[0]\n",
        "            + ''.join(random.sample(buff[1:-1], len(buff) - 2))\n",
        "            + buff[-1])\n",
        "\n",
        "\n",
        "def problem009() -> None:\n",
        "    buff = (\n",
        "        \"I couldn't believe that I could actually understand what I was reading\"\n",
        "        \" : the phenomenal power of the human mind .\"\n",
        "    )\n",
        "\n",
        "    random.seed(0)\n",
        "    random_buff = ' '.join(random_order(word) for word in buff.split(' '))\n",
        "\n",
        "    print(random_buff)\n",
        "\n",
        "\n",
        "problem009()"
      ],
      "execution_count": 15,
      "outputs": [
        {
          "output_type": "stream",
          "text": [
            "I cd'oulnt bieleve that I cuold alutacly utrsnedand what I was rniadeg : the phaeonneml power of the huamn mind .\n"
          ],
          "name": "stdout"
        }
      ]
    }
  ]
}
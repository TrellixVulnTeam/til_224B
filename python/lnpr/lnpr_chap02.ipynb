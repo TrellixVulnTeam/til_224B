{
  "nbformat": 4,
  "nbformat_minor": 0,
  "metadata": {
    "colab": {
      "name": "lnpr_chap2.ipynb",
      "provenance": [],
      "collapsed_sections": []
    },
    "kernelspec": {
      "name": "python3",
      "display_name": "Python 3"
    },
    "language_info": {
      "name": "python"
    }
  },
  "cells": [
    {
      "cell_type": "markdown",
      "metadata": {
        "id": "naE1ZnjXxmSm"
      },
      "source": [
        "# Lecture Noets of Probabilistic Robotics: Chapter2\n",
        "\n",
        "[詳解 確率ロボティクス][amazon]の本の写経です。\n",
        "参考資料としては著者の下記GitHubがあります。\n",
        "\n",
        "- [ryuichiueda/LNPR_BOOK_CODES][book_codes]\n",
        "- [ryuichiueda/LNPR][codes]\n",
        "- [ryuichiueda/LNPR_SLIDES][slides]\n",
        "\n",
        "[amazon]: https://www.amazon.co.jp/dp/4065170060\n",
        "[book_codes]: https://github.com/ryuichiueda/LNPR_BOOK_CODES\n",
        "[codes]: https://github.com/ryuichiueda/LNPR\n",
        "[slides]: https://github.com/ryuichiueda/LNPR_SLIDES"
      ]
    },
    {
      "cell_type": "markdown",
      "metadata": {
        "id": "fHujcLxpzXbt"
      },
      "source": [
        "# Preset"
      ]
    },
    {
      "cell_type": "code",
      "metadata": {
        "id": "QtqMDmYV0VGo"
      },
      "source": [
        "# default packagse\n",
        "import logging\n",
        "import pathlib\n",
        "from enum import Enum\n",
        "from typing import Optional"
      ],
      "execution_count": 1,
      "outputs": []
    },
    {
      "cell_type": "code",
      "metadata": {
        "id": "dgpl_LBPzZZH"
      },
      "source": [
        "# third party packages\n",
        "import IPython.display as display\n",
        "import matplotlib.pyplot as plt\n",
        "import pandas as pd\n",
        "import requests\n",
        "import seaborn as sns"
      ],
      "execution_count": 2,
      "outputs": []
    },
    {
      "cell_type": "code",
      "metadata": {
        "id": "v2gQmgmw0XwT"
      },
      "source": [
        "# logger\n",
        "_logger = logging.getLogger(__name__)\n",
        "logging.basicConfig(level=logging.INFO)"
      ],
      "execution_count": 3,
      "outputs": []
    },
    {
      "cell_type": "code",
      "metadata": {
        "id": "nODkHmM02HrX"
      },
      "source": [
        "sns.set()"
      ],
      "execution_count": 4,
      "outputs": []
    },
    {
      "cell_type": "markdown",
      "metadata": {
        "id": "u4D9ixt8yfbp"
      },
      "source": [
        "# 2.1 Prepare data　"
      ]
    },
    {
      "cell_type": "code",
      "metadata": {
        "id": "PlRPW0gj27fA"
      },
      "source": [
        "class SensorColumns(Enum):\n",
        "    \"\"\"センサデータの列名一覧.\"\"\"\n",
        "    DATE: str = \"date\"\n",
        "    TIME: str = \"time\"\n",
        "    IR: str = \"ir\"\n",
        "    LIDAR: str = \"lidar\""
      ],
      "execution_count": 5,
      "outputs": []
    },
    {
      "cell_type": "code",
      "metadata": {
        "id": "P8j5DzBzytJh"
      },
      "source": [
        "def download_sensor_data_200() -> pathlib.Path:\n",
        "    \"\"\"センサデータ200をネットからダウンロードしファイルとして保存.\"\"\"\n",
        "    filepath = pathlib.Path(\"sensor_data_200.txt\")\n",
        "    url = \"https://github.com/ryuichiueda/LNPR_BOOK_CODES/raw/master/sensor_data/sensor_data_200.txt\"\n",
        "\n",
        "    r = requests.get(url, allow_redirects=True)\n",
        "    with open(str(filepath), \"wb\") as f:\n",
        "        f.write(r.content)\n",
        "\n",
        "    return filepath\n",
        "\n",
        "\n",
        "FILEPATH_SENSOR_200 = download_sensor_data_200()"
      ],
      "execution_count": 6,
      "outputs": []
    },
    {
      "cell_type": "code",
      "metadata": {
        "colab": {
          "base_uri": "https://localhost:8080/",
          "height": 419
        },
        "id": "6euN_AWgz7mt",
        "outputId": "541c2531-ad9a-4e45-e2ff-893746c477c5"
      },
      "source": [
        "def read_sensor_file(filepath: pathlib.Path) -> pd.DataFrame:\n",
        "    \"\"\"センサデータをファイルから読み込む.\"\"\"\n",
        "    df = pd.read_csv(\n",
        "        filepath,\n",
        "        delimiter=\" \",\n",
        "        header=None,\n",
        "        names=[\n",
        "            SensorColumns.DATE.value,\n",
        "            SensorColumns.TIME.value,\n",
        "            SensorColumns.IR.value,\n",
        "            SensorColumns.LIDAR.value,\n",
        "        ],\n",
        "        parse_dates=[SensorColumns.DATE.value],\n",
        "    )\n",
        "\n",
        "    return df\n",
        "\n",
        "\n",
        "DF_SENSOR_200 = read_sensor_file(FILEPATH_SENSOR_200)\n",
        "DF_SENSOR_200"
      ],
      "execution_count": 7,
      "outputs": [
        {
          "output_type": "execute_result",
          "data": {
            "text/html": [
              "<div>\n",
              "<style scoped>\n",
              "    .dataframe tbody tr th:only-of-type {\n",
              "        vertical-align: middle;\n",
              "    }\n",
              "\n",
              "    .dataframe tbody tr th {\n",
              "        vertical-align: top;\n",
              "    }\n",
              "\n",
              "    .dataframe thead th {\n",
              "        text-align: right;\n",
              "    }\n",
              "</style>\n",
              "<table border=\"1\" class=\"dataframe\">\n",
              "  <thead>\n",
              "    <tr style=\"text-align: right;\">\n",
              "      <th></th>\n",
              "      <th>date</th>\n",
              "      <th>time</th>\n",
              "      <th>ir</th>\n",
              "      <th>lidar</th>\n",
              "    </tr>\n",
              "  </thead>\n",
              "  <tbody>\n",
              "    <tr>\n",
              "      <th>0</th>\n",
              "      <td>2018-01-22</td>\n",
              "      <td>95819</td>\n",
              "      <td>305</td>\n",
              "      <td>214</td>\n",
              "    </tr>\n",
              "    <tr>\n",
              "      <th>1</th>\n",
              "      <td>2018-01-22</td>\n",
              "      <td>95822</td>\n",
              "      <td>299</td>\n",
              "      <td>211</td>\n",
              "    </tr>\n",
              "    <tr>\n",
              "      <th>2</th>\n",
              "      <td>2018-01-22</td>\n",
              "      <td>95826</td>\n",
              "      <td>292</td>\n",
              "      <td>199</td>\n",
              "    </tr>\n",
              "    <tr>\n",
              "      <th>3</th>\n",
              "      <td>2018-01-22</td>\n",
              "      <td>95829</td>\n",
              "      <td>321</td>\n",
              "      <td>208</td>\n",
              "    </tr>\n",
              "    <tr>\n",
              "      <th>4</th>\n",
              "      <td>2018-01-22</td>\n",
              "      <td>95832</td>\n",
              "      <td>298</td>\n",
              "      <td>212</td>\n",
              "    </tr>\n",
              "    <tr>\n",
              "      <th>...</th>\n",
              "      <td>...</td>\n",
              "      <td>...</td>\n",
              "      <td>...</td>\n",
              "      <td>...</td>\n",
              "    </tr>\n",
              "    <tr>\n",
              "      <th>58983</th>\n",
              "      <td>2018-01-24</td>\n",
              "      <td>120023</td>\n",
              "      <td>313</td>\n",
              "      <td>208</td>\n",
              "    </tr>\n",
              "    <tr>\n",
              "      <th>58984</th>\n",
              "      <td>2018-01-24</td>\n",
              "      <td>120026</td>\n",
              "      <td>297</td>\n",
              "      <td>200</td>\n",
              "    </tr>\n",
              "    <tr>\n",
              "      <th>58985</th>\n",
              "      <td>2018-01-24</td>\n",
              "      <td>120030</td>\n",
              "      <td>323</td>\n",
              "      <td>204</td>\n",
              "    </tr>\n",
              "    <tr>\n",
              "      <th>58986</th>\n",
              "      <td>2018-01-24</td>\n",
              "      <td>120033</td>\n",
              "      <td>326</td>\n",
              "      <td>207</td>\n",
              "    </tr>\n",
              "    <tr>\n",
              "      <th>58987</th>\n",
              "      <td>2018-01-24</td>\n",
              "      <td>120036</td>\n",
              "      <td>321</td>\n",
              "      <td>208</td>\n",
              "    </tr>\n",
              "  </tbody>\n",
              "</table>\n",
              "<p>58988 rows × 4 columns</p>\n",
              "</div>"
            ],
            "text/plain": [
              "            date    time   ir  lidar\n",
              "0     2018-01-22   95819  305    214\n",
              "1     2018-01-22   95822  299    211\n",
              "2     2018-01-22   95826  292    199\n",
              "3     2018-01-22   95829  321    208\n",
              "4     2018-01-22   95832  298    212\n",
              "...          ...     ...  ...    ...\n",
              "58983 2018-01-24  120023  313    208\n",
              "58984 2018-01-24  120026  297    200\n",
              "58985 2018-01-24  120030  323    204\n",
              "58986 2018-01-24  120033  326    207\n",
              "58987 2018-01-24  120036  321    208\n",
              "\n",
              "[58988 rows x 4 columns]"
            ]
          },
          "metadata": {
            "tags": []
          },
          "execution_count": 7
        }
      ]
    },
    {
      "cell_type": "markdown",
      "metadata": {
        "id": "XH0XJZY-0DDl"
      },
      "source": [
        "# 2.2 度数分布と確率分布"
      ]
    },
    {
      "cell_type": "code",
      "metadata": {
        "colab": {
          "base_uri": "https://localhost:8080/",
          "height": 319
        },
        "id": "CM9jH2DP2QoC",
        "outputId": "0d085e67-e841-4f42-d781-c15486336f38"
      },
      "source": [
        "def show_histogram(df: pd.DataFrame) -> None:\n",
        "    \"\"\"ヒストグラムを描画し、LIDARデータの分布を確認.\"\"\"\n",
        "    col = SensorColumns.LIDAR.value\n",
        "    val_max = df[col].max()\n",
        "    val_min = df[col].min()\n",
        "    val_mean = df[col].mean()\n",
        "    bins = val_max - val_min\n",
        "\n",
        "    df[col].hist(bins=bins, align=\"left\")\n",
        "    plt.vlines(val_mean, ymin=0, ymax=5000, color=\"red\")\n",
        "    plt.show()\n",
        "\n",
        "    val_var = df[col].var()\n",
        "    val_std = df[col].std()\n",
        "    _logger.info(f\"mean: {val_mean}\")\n",
        "    _logger.info(f\"variance: {val_var}\")\n",
        "    _logger.info(f\"std dev: {val_std}\")\n",
        "\n",
        "\n",
        "show_histogram(DF_SENSOR_200)"
      ],
      "execution_count": 8,
      "outputs": [
        {
          "output_type": "display_data",
          "data": {
            "image/png": "[encoded data removed]",
            "text/plain": [
              "<Figure size 432x288 with 1 Axes>"
            ]
          },
          "metadata": {
            "tags": []
          }
        },
        {
          "output_type": "stream",
          "text": [
            "INFO:__main__:mean: 209.73713297619855\n",
            "INFO:__main__:variance: 23.40810659855441\n",
            "INFO:__main__:std dev: 4.83819249292072\n"
          ],
          "name": "stderr"
        }
      ]
    },
    {
      "cell_type": "code",
      "metadata": {
        "colab": {
          "base_uri": "https://localhost:8080/",
          "height": 427
        },
        "id": "3ZAr-p846yI-",
        "outputId": "64f12503-ceb3-4be9-c2a8-89e7ec47d4f3"
      },
      "source": [
        "def show_probability(df: pd.DataFrame) -> pd.DataFrame:\n",
        "    \"\"\"確率分布に変換して確認.\"\"\"\n",
        "    col = SensorColumns.LIDAR.value\n",
        "    col_probs = \"probs\"\n",
        "    df_freqs = pd.DataFrame(df[col].value_counts())\n",
        "    df_freqs[col_probs] = df_freqs[col] / len(df[col])\n",
        "\n",
        "    display.display(df_freqs.T)\n",
        "    _logger.info(f\"sum: {df_freqs[col_probs].sum()}\")\n",
        "\n",
        "    df_freqs[col_probs].sort_index().plot.bar()\n",
        "    plt.show()\n",
        "\n",
        "    return df_freqs\n",
        "\n",
        "\n",
        "DF_FREQS = show_probability(DF_SENSOR_200)"
      ],
      "execution_count": 9,
      "outputs": [
        {
          "output_type": "stream",
          "text": [
            "INFO:numexpr.utils:NumExpr defaulting to 2 threads.\n"
          ],
          "name": "stderr"
        },
        {
          "output_type": "display_data",
          "data": {
            "text/html": [
              "<div>\n",
              "<style scoped>\n",
              "    .dataframe tbody tr th:only-of-type {\n",
              "        vertical-align: middle;\n",
              "    }\n",
              "\n",
              "    .dataframe tbody tr th {\n",
              "        vertical-align: top;\n",
              "    }\n",
              "\n",
              "    .dataframe thead th {\n",
              "        text-align: right;\n",
              "    }\n",
              "</style>\n",
              "<table border=\"1\" class=\"dataframe\">\n",
              "  <thead>\n",
              "    <tr style=\"text-align: right;\">\n",
              "      <th></th>\n",
              "      <th>211</th>\n",
              "      <th>210</th>\n",
              "      <th>208</th>\n",
              "      <th>209</th>\n",
              "      <th>212</th>\n",
              "      <th>207</th>\n",
              "      <th>213</th>\n",
              "      <th>206</th>\n",
              "      <th>214</th>\n",
              "      <th>205</th>\n",
              "      <th>215</th>\n",
              "      <th>204</th>\n",
              "      <th>216</th>\n",
              "      <th>203</th>\n",
              "      <th>217</th>\n",
              "      <th>202</th>\n",
              "      <th>218</th>\n",
              "      <th>201</th>\n",
              "      <th>219</th>\n",
              "      <th>200</th>\n",
              "      <th>220</th>\n",
              "      <th>199</th>\n",
              "      <th>221</th>\n",
              "      <th>198</th>\n",
              "      <th>222</th>\n",
              "      <th>197</th>\n",
              "      <th>196</th>\n",
              "      <th>223</th>\n",
              "      <th>224</th>\n",
              "      <th>226</th>\n",
              "      <th>195</th>\n",
              "      <th>194</th>\n",
              "      <th>193</th>\n",
              "      <th>227</th>\n",
              "      <th>229</th>\n",
              "    </tr>\n",
              "  </thead>\n",
              "  <tbody>\n",
              "    <tr>\n",
              "      <th>lidar</th>\n",
              "      <td>4409.000000</td>\n",
              "      <td>4355.000000</td>\n",
              "      <td>4261.000000</td>\n",
              "      <td>4228.000000</td>\n",
              "      <td>4201.000000</td>\n",
              "      <td>3920.000000</td>\n",
              "      <td>3897.000000</td>\n",
              "      <td>3674.000000</td>\n",
              "      <td>3572.000000</td>\n",
              "      <td>3225.000000</td>\n",
              "      <td>3108.000000</td>\n",
              "      <td>2638.000000</td>\n",
              "      <td>2459.000000</td>\n",
              "      <td>2252.000000</td>\n",
              "      <td>1812.000000</td>\n",
              "      <td>1584.000000</td>\n",
              "      <td>1224.00000</td>\n",
              "      <td>1053.000000</td>\n",
              "      <td>749.000000</td>\n",
              "      <td>668.000000</td>\n",
              "      <td>486.000000</td>\n",
              "      <td>353.000000</td>\n",
              "      <td>252.000000</td>\n",
              "      <td>205.000000</td>\n",
              "      <td>127.000000</td>\n",
              "      <td>84.000000</td>\n",
              "      <td>59.000</td>\n",
              "      <td>55.000000</td>\n",
              "      <td>32.000000</td>\n",
              "      <td>15.000000</td>\n",
              "      <td>13.00000</td>\n",
              "      <td>10.00000</td>\n",
              "      <td>4.000000</td>\n",
              "      <td>3.000000</td>\n",
              "      <td>1.000000</td>\n",
              "    </tr>\n",
              "    <tr>\n",
              "      <th>probs</th>\n",
              "      <td>0.074744</td>\n",
              "      <td>0.073829</td>\n",
              "      <td>0.072235</td>\n",
              "      <td>0.071676</td>\n",
              "      <td>0.071218</td>\n",
              "      <td>0.066454</td>\n",
              "      <td>0.066064</td>\n",
              "      <td>0.062284</td>\n",
              "      <td>0.060555</td>\n",
              "      <td>0.054672</td>\n",
              "      <td>0.052689</td>\n",
              "      <td>0.044721</td>\n",
              "      <td>0.041686</td>\n",
              "      <td>0.038177</td>\n",
              "      <td>0.030718</td>\n",
              "      <td>0.026853</td>\n",
              "      <td>0.02075</td>\n",
              "      <td>0.017851</td>\n",
              "      <td>0.012697</td>\n",
              "      <td>0.011324</td>\n",
              "      <td>0.008239</td>\n",
              "      <td>0.005984</td>\n",
              "      <td>0.004272</td>\n",
              "      <td>0.003475</td>\n",
              "      <td>0.002153</td>\n",
              "      <td>0.001424</td>\n",
              "      <td>0.001</td>\n",
              "      <td>0.000932</td>\n",
              "      <td>0.000542</td>\n",
              "      <td>0.000254</td>\n",
              "      <td>0.00022</td>\n",
              "      <td>0.00017</td>\n",
              "      <td>0.000068</td>\n",
              "      <td>0.000051</td>\n",
              "      <td>0.000017</td>\n",
              "    </tr>\n",
              "  </tbody>\n",
              "</table>\n",
              "</div>"
            ],
            "text/plain": [
              "               211          210          208  ...       193       227       229\n",
              "lidar  4409.000000  4355.000000  4261.000000  ...  4.000000  3.000000  1.000000\n",
              "probs     0.074744     0.073829     0.072235  ...  0.000068  0.000051  0.000017\n",
              "\n",
              "[2 rows x 35 columns]"
            ]
          },
          "metadata": {
            "tags": []
          }
        },
        {
          "output_type": "stream",
          "text": [
            "INFO:__main__:sum: 1.0\n"
          ],
          "name": "stderr"
        },
        {
          "output_type": "display_data",
          "data": {
            "image/png": "[encoded data removed]",
            "text/plain": [
              "<Figure size 432x288 with 1 Axes>"
            ]
          },
          "metadata": {
            "tags": []
          }
        }
      ]
    },
    {
      "cell_type": "code",
      "metadata": {
        "colab": {
          "base_uri": "https://localhost:8080/"
        },
        "id": "ZosaAynA78SM",
        "outputId": "0f253035-56a4-4375-df08-49021cae0f5b"
      },
      "source": [
        "def drawing(df: pd.DataFrame, num: int = 1, random_state: Optional[int] = None) -> None:\n",
        "    \"\"\"算出済みの確率分布に基づいてデータを一つ返す.\"\"\"\n",
        "    df_sample = df.sample(n=num, weights=\"probs\", random_state=random_state, replace=True)\n",
        "\n",
        "    return df_sample.index.tolist()\n",
        "\n",
        "\n",
        "_logger.info(f\"sampling: {drawing(DF_FREQS, num=1, random_state=0)[0]}\")"
      ],
      "execution_count": 10,
      "outputs": [
        {
          "output_type": "stream",
          "text": [
            "INFO:__main__:sampling: 206\n"
          ],
          "name": "stderr"
        }
      ]
    },
    {
      "cell_type": "code",
      "metadata": {
        "colab": {
          "base_uri": "https://localhost:8080/",
          "height": 268
        },
        "id": "2V1uzUVe9MI2",
        "outputId": "994d4f14-0e8e-4cde-9b14-22baf0ae97ed"
      },
      "source": [
        "def show_hist_by_drawing(df: pd.DataFrame, num_samples: int = 100) -> None:\n",
        "    \"\"\"算出済みの確率分布に基づいてデータをドローして分布を出力.\"\"\"\n",
        "    col = \"lidar\"\n",
        "    samples = drawing(df, num=num_samples, random_state=0)\n",
        "    df_simulated = pd.DataFrame(\n",
        "        samples,\n",
        "        columns=[col],\n",
        "    )\n",
        "\n",
        "    p = df_simulated[col]\n",
        "    bins = p.max() - p.min()\n",
        "    p.hist(bins=bins, align=\"left\")\n",
        "    plt.show()\n",
        "\n",
        "\n",
        "show_hist_by_drawing(DF_FREQS, num_samples=len(DF_SENSOR_200))"
      ],
      "execution_count": 11,
      "outputs": [
        {
          "output_type": "display_data",
          "data": {
            "image/png": "[encoded data removed]",
            "text/plain": [
              "<Figure size 432x288 with 1 Axes>"
            ]
          },
          "metadata": {
            "tags": []
          }
        }
      ]
    }
  ]
}
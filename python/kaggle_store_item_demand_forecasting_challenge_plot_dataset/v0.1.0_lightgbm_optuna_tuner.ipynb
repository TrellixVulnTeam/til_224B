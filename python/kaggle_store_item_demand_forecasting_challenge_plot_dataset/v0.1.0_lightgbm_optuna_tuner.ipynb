{
  "nbformat": 4,
  "nbformat_minor": 0,
  "metadata": {
    "colab": {
      "name": "kaggle_store_item_demand_forecasting_challenge_lightgbm_optuna.ipynb",
      "provenance": [],
      "collapsed_sections": [
        "X9xbH42ypctJ"
      ],
      "toc_visible": true
    },
    "kernelspec": {
      "name": "python3",
      "display_name": "Python 3"
    },
    "accelerator": "GPU",
    "widgets": {
      "application/vnd.jupyter.widget-state+json": {
        "2c5404eff43c477babaf715cb16163a6": {
          "model_module": "@jupyter-widgets/controls",
          "model_name": "HBoxModel",
          "state": {
            "_view_name": "HBoxView",
            "_dom_classes": [],
            "_model_name": "HBoxModel",
            "_view_module": "@jupyter-widgets/controls",
            "_model_module_version": "1.5.0",
            "_view_count": null,
            "_view_module_version": "1.5.0",
            "box_style": "",
            "layout": "IPY_MODEL_fe8587630e154c8f9d8811f65092d2c8",
            "_model_module": "@jupyter-widgets/controls",
            "children": [
              "IPY_MODEL_8234a5df3f05498c8825b1b3021ba446",
              "IPY_MODEL_2e94bbd6232b4c3b8d86d866d1fa2be0"
            ]
          }
        },
        "fe8587630e154c8f9d8811f65092d2c8": {
          "model_module": "@jupyter-widgets/base",
          "model_name": "LayoutModel",
          "state": {
            "_view_name": "LayoutView",
            "grid_template_rows": null,
            "right": null,
            "justify_content": null,
            "_view_module": "@jupyter-widgets/base",
            "overflow": null,
            "_model_module_version": "1.2.0",
            "_view_count": null,
            "flex_flow": null,
            "width": null,
            "min_width": null,
            "border": null,
            "align_items": null,
            "bottom": null,
            "_model_module": "@jupyter-widgets/base",
            "top": null,
            "grid_column": null,
            "overflow_y": null,
            "overflow_x": null,
            "grid_auto_flow": null,
            "grid_area": null,
            "grid_template_columns": null,
            "flex": null,
            "_model_name": "LayoutModel",
            "justify_items": null,
            "grid_row": null,
            "max_height": null,
            "align_content": null,
            "visibility": null,
            "align_self": null,
            "height": null,
            "min_height": null,
            "padding": null,
            "grid_auto_rows": null,
            "grid_gap": null,
            "max_width": null,
            "order": null,
            "_view_module_version": "1.2.0",
            "grid_template_areas": null,
            "object_position": null,
            "object_fit": null,
            "grid_auto_columns": null,
            "margin": null,
            "display": null,
            "left": null
          }
        },
        "8234a5df3f05498c8825b1b3021ba446": {
          "model_module": "@jupyter-widgets/controls",
          "model_name": "IntProgressModel",
          "state": {
            "_view_name": "ProgressView",
            "style": "IPY_MODEL_4b97dd10ccde43788108fd5af8750a30",
            "_dom_classes": [],
            "description": "100%",
            "_model_name": "IntProgressModel",
            "bar_style": "success",
            "max": 25,
            "_view_module": "@jupyter-widgets/controls",
            "_model_module_version": "1.5.0",
            "value": 25,
            "_view_count": null,
            "_view_module_version": "1.5.0",
            "orientation": "horizontal",
            "min": 0,
            "description_tooltip": null,
            "_model_module": "@jupyter-widgets/controls",
            "layout": "IPY_MODEL_0dbfbce7733b4f0ea4a9508cc48b2630"
          }
        },
        "2e94bbd6232b4c3b8d86d866d1fa2be0": {
          "model_module": "@jupyter-widgets/controls",
          "model_name": "HTMLModel",
          "state": {
            "_view_name": "HTMLView",
            "style": "IPY_MODEL_e10cf9677afd4591bb63629706821c21",
            "_dom_classes": [],
            "description": "",
            "_model_name": "HTMLModel",
            "placeholder": "​",
            "_view_module": "@jupyter-widgets/controls",
            "_model_module_version": "1.5.0",
            "value": " 25/25 [06:00&lt;00:00, 14.44s/it]",
            "_view_count": null,
            "_view_module_version": "1.5.0",
            "description_tooltip": null,
            "_model_module": "@jupyter-widgets/controls",
            "layout": "IPY_MODEL_0404397f22164f06b17653f79cbe7d78"
          }
        },
        "4b97dd10ccde43788108fd5af8750a30": {
          "model_module": "@jupyter-widgets/controls",
          "model_name": "ProgressStyleModel",
          "state": {
            "_view_name": "StyleView",
            "_model_name": "ProgressStyleModel",
            "description_width": "initial",
            "_view_module": "@jupyter-widgets/base",
            "_model_module_version": "1.5.0",
            "_view_count": null,
            "_view_module_version": "1.2.0",
            "bar_color": null,
            "_model_module": "@jupyter-widgets/controls"
          }
        },
        "0dbfbce7733b4f0ea4a9508cc48b2630": {
          "model_module": "@jupyter-widgets/base",
          "model_name": "LayoutModel",
          "state": {
            "_view_name": "LayoutView",
            "grid_template_rows": null,
            "right": null,
            "justify_content": null,
            "_view_module": "@jupyter-widgets/base",
            "overflow": null,
            "_model_module_version": "1.2.0",
            "_view_count": null,
            "flex_flow": null,
            "width": null,
            "min_width": null,
            "border": null,
            "align_items": null,
            "bottom": null,
            "_model_module": "@jupyter-widgets/base",
            "top": null,
            "grid_column": null,
            "overflow_y": null,
            "overflow_x": null,
            "grid_auto_flow": null,
            "grid_area": null,
            "grid_template_columns": null,
            "flex": null,
            "_model_name": "LayoutModel",
            "justify_items": null,
            "grid_row": null,
            "max_height": null,
            "align_content": null,
            "visibility": null,
            "align_self": null,
            "height": null,
            "min_height": null,
            "padding": null,
            "grid_auto_rows": null,
            "grid_gap": null,
            "max_width": null,
            "order": null,
            "_view_module_version": "1.2.0",
            "grid_template_areas": null,
            "object_position": null,
            "object_fit": null,
            "grid_auto_columns": null,
            "margin": null,
            "display": null,
            "left": null
          }
        },
        "e10cf9677afd4591bb63629706821c21": {
          "model_module": "@jupyter-widgets/controls",
          "model_name": "DescriptionStyleModel",
          "state": {
            "_view_name": "StyleView",
            "_model_name": "DescriptionStyleModel",
            "description_width": "",
            "_view_module": "@jupyter-widgets/base",
            "_model_module_version": "1.5.0",
            "_view_count": null,
            "_view_module_version": "1.2.0",
            "_model_module": "@jupyter-widgets/controls"
          }
        },
        "0404397f22164f06b17653f79cbe7d78": {
          "model_module": "@jupyter-widgets/base",
          "model_name": "LayoutModel",
          "state": {
            "_view_name": "LayoutView",
            "grid_template_rows": null,
            "right": null,
            "justify_content": null,
            "_view_module": "@jupyter-widgets/base",
            "overflow": null,
            "_model_module_version": "1.2.0",
            "_view_count": null,
            "flex_flow": null,
            "width": null,
            "min_width": null,
            "border": null,
            "align_items": null,
            "bottom": null,
            "_model_module": "@jupyter-widgets/base",
            "top": null,
            "grid_column": null,
            "overflow_y": null,
            "overflow_x": null,
            "grid_auto_flow": null,
            "grid_area": null,
            "grid_template_columns": null,
            "flex": null,
            "_model_name": "LayoutModel",
            "justify_items": null,
            "grid_row": null,
            "max_height": null,
            "align_content": null,
            "visibility": null,
            "align_self": null,
            "height": null,
            "min_height": null,
            "padding": null,
            "grid_auto_rows": null,
            "grid_gap": null,
            "max_width": null,
            "order": null,
            "_view_module_version": "1.2.0",
            "grid_template_areas": null,
            "object_position": null,
            "object_fit": null,
            "grid_auto_columns": null,
            "margin": null,
            "display": null,
            "left": null
          }
        }
      }
    }
  },
  "cells": [
    {
      "cell_type": "markdown",
      "metadata": {
        "id": "Kh55q8RpU1re",
        "colab_type": "text"
      },
      "source": [
        "# Kaggle: Store Item Demand Forecasting Challenge\n",
        "\n",
        "Kaggle [Store Item Demand Forecasting Challenge][kaggle] のデータセットでOptuna と LightGBM を利用した最適化のテストです。\n",
        "特徴量は、 Kaggle Notebooks [My First Time Series Comp (Added Prophet)][adityaecdrid] \n",
        "をベースとしています。\n",
        "\n",
        "[kaggle]: https://www.kaggle.com/c/demand-forecasting-kernels-only/overview\n",
        "[adityaecdrid]: https://www.kaggle.com/adityaecdrid/my-first-time-series-comp-added-prophet\n"
      ]
    },
    {
      "cell_type": "markdown",
      "metadata": {
        "id": "s478eANkVFtF",
        "colab_type": "text"
      },
      "source": [
        "## パッケージの追加"
      ]
    },
    {
      "cell_type": "code",
      "metadata": {
        "id": "hLbCBAOOjQsg",
        "colab_type": "code",
        "collapsed": true,
        "outputId": "7de0dea4-637c-4678-905c-0289f0dc7195",
        "colab": {
          "base_uri": "https://localhost:8080/",
          "height": 1000
        }
      },
      "source": [
        "!pip install kaggle\n",
        "!pip install optuna"
      ],
      "execution_count": 1,
      "outputs": [
        {
          "output_type": "stream",
          "text": [
            "Requirement already satisfied: kaggle in /usr/local/lib/python3.6/dist-packages (1.5.6)\n",
            "Requirement already satisfied: certifi in /usr/local/lib/python3.6/dist-packages (from kaggle) (2019.11.28)\n",
            "Requirement already satisfied: python-dateutil in /usr/local/lib/python3.6/dist-packages (from kaggle) (2.8.1)\n",
            "Requirement already satisfied: urllib3<1.25,>=1.21.1 in /usr/local/lib/python3.6/dist-packages (from kaggle) (1.24.3)\n",
            "Requirement already satisfied: python-slugify in /usr/local/lib/python3.6/dist-packages (from kaggle) (4.0.0)\n",
            "Requirement already satisfied: requests in /usr/local/lib/python3.6/dist-packages (from kaggle) (2.21.0)\n",
            "Requirement already satisfied: six>=1.10 in /usr/local/lib/python3.6/dist-packages (from kaggle) (1.12.0)\n",
            "Requirement already satisfied: tqdm in /usr/local/lib/python3.6/dist-packages (from kaggle) (4.38.0)\n",
            "Requirement already satisfied: text-unidecode>=1.3 in /usr/local/lib/python3.6/dist-packages (from python-slugify->kaggle) (1.3)\n",
            "Requirement already satisfied: chardet<3.1.0,>=3.0.2 in /usr/local/lib/python3.6/dist-packages (from requests->kaggle) (3.0.4)\n",
            "Requirement already satisfied: idna<2.9,>=2.5 in /usr/local/lib/python3.6/dist-packages (from requests->kaggle) (2.8)\n",
            "Collecting optuna\n",
            "\u001b[?25l  Downloading https://files.pythonhosted.org/packages/85/ee/2688cce5ced0597e12832d1ec4f4383a468f6bddff768eeaa3b5bf4f6500/optuna-1.3.0.tar.gz (163kB)\n",
            "\u001b[K     |████████████████████████████████| 163kB 4.7MB/s \n",
            "\u001b[?25hCollecting alembic\n",
            "\u001b[?25l  Downloading https://files.pythonhosted.org/packages/60/1e/cabc75a189de0fbb2841d0975243e59bde8b7822bacbb95008ac6fe9ad47/alembic-1.4.2.tar.gz (1.1MB)\n",
            "\u001b[K     |████████████████████████████████| 1.1MB 9.8MB/s \n",
            "\u001b[?25h  Installing build dependencies ... \u001b[?25l\u001b[?25hdone\n",
            "  Getting requirements to build wheel ... \u001b[?25l\u001b[?25hdone\n",
            "    Preparing wheel metadata ... \u001b[?25l\u001b[?25hdone\n",
            "Collecting cliff\n",
            "\u001b[?25l  Downloading https://files.pythonhosted.org/packages/b9/17/57187872842bf9f65815b6969b515528ec7fd754137d2d3f49e3bc016175/cliff-3.1.0-py3-none-any.whl (80kB)\n",
            "\u001b[K     |████████████████████████████████| 81kB 11.5MB/s \n",
            "\u001b[?25hCollecting cmaes\n",
            "  Downloading https://files.pythonhosted.org/packages/a6/9f/9fcd62076df5ff38ac4678e819b23f374973214d94a678d417dbf03b9dc5/cmaes-0.3.2-py3-none-any.whl\n",
            "Collecting colorlog\n",
            "  Downloading https://files.pythonhosted.org/packages/00/0d/22c73c2eccb21dd3498df7d22c0b1d4a30f5a5fb3feb64e1ce06bc247747/colorlog-4.1.0-py2.py3-none-any.whl\n",
            "Requirement already satisfied: joblib in /usr/local/lib/python3.6/dist-packages (from optuna) (0.14.1)\n",
            "Requirement already satisfied: numpy in /usr/local/lib/python3.6/dist-packages (from optuna) (1.18.2)\n",
            "Requirement already satisfied: scipy!=1.4.0 in /usr/local/lib/python3.6/dist-packages (from optuna) (1.4.1)\n",
            "Requirement already satisfied: sqlalchemy>=1.1.0 in /usr/local/lib/python3.6/dist-packages (from optuna) (1.3.15)\n",
            "Requirement already satisfied: tqdm in /usr/local/lib/python3.6/dist-packages (from optuna) (4.38.0)\n",
            "Collecting Mako\n",
            "\u001b[?25l  Downloading https://files.pythonhosted.org/packages/50/78/f6ade1e18aebda570eed33b7c534378d9659351cadce2fcbc7b31be5f615/Mako-1.1.2-py2.py3-none-any.whl (75kB)\n",
            "\u001b[K     |████████████████████████████████| 81kB 11.3MB/s \n",
            "\u001b[?25hCollecting python-editor>=0.3\n",
            "  Downloading https://files.pythonhosted.org/packages/c6/d3/201fc3abe391bbae6606e6f1d598c15d367033332bd54352b12f35513717/python_editor-1.0.4-py3-none-any.whl\n",
            "Requirement already satisfied: python-dateutil in /usr/local/lib/python3.6/dist-packages (from alembic->optuna) (2.8.1)\n",
            "Requirement already satisfied: six>=1.10.0 in /usr/local/lib/python3.6/dist-packages (from cliff->optuna) (1.12.0)\n",
            "Requirement already satisfied: PrettyTable<0.8,>=0.7.2 in /usr/local/lib/python3.6/dist-packages (from cliff->optuna) (0.7.2)\n",
            "Collecting stevedore>=1.20.0\n",
            "\u001b[?25l  Downloading https://files.pythonhosted.org/packages/e6/49/a35dd566626892d577e426dbe5ea424dd7fbe10645f2c1070dcba474eca9/stevedore-1.32.0-py2.py3-none-any.whl (43kB)\n",
            "\u001b[K     |████████████████████████████████| 51kB 9.6MB/s \n",
            "\u001b[?25hRequirement already satisfied: pyparsing>=2.1.0 in /usr/local/lib/python3.6/dist-packages (from cliff->optuna) (2.4.6)\n",
            "Collecting pbr!=2.1.0,>=2.0.0\n",
            "\u001b[?25l  Downloading https://files.pythonhosted.org/packages/7a/db/a968fd7beb9fe06901c1841cb25c9ccb666ca1b9a19b114d1bbedf1126fc/pbr-5.4.4-py2.py3-none-any.whl (110kB)\n",
            "\u001b[K     |████████████████████████████████| 112kB 25.6MB/s \n",
            "\u001b[?25hCollecting cmd2!=0.8.3,<0.9.0,>=0.8.0\n",
            "\u001b[?25l  Downloading https://files.pythonhosted.org/packages/e9/40/a71caa2aaff10c73612a7106e2d35f693e85b8cf6e37ab0774274bca3cf9/cmd2-0.8.9-py2.py3-none-any.whl (53kB)\n",
            "\u001b[K     |████████████████████████████████| 61kB 9.5MB/s \n",
            "\u001b[?25hRequirement already satisfied: PyYAML>=3.12 in /usr/local/lib/python3.6/dist-packages (from cliff->optuna) (3.13)\n",
            "Requirement already satisfied: MarkupSafe>=0.9.2 in /usr/local/lib/python3.6/dist-packages (from Mako->alembic->optuna) (1.1.1)\n",
            "Requirement already satisfied: wcwidth; sys_platform != \"win32\" in /usr/local/lib/python3.6/dist-packages (from cmd2!=0.8.3,<0.9.0,>=0.8.0->cliff->optuna) (0.1.9)\n",
            "Collecting pyperclip\n",
            "  Downloading https://files.pythonhosted.org/packages/f6/5b/55866e1cde0f86f5eec59dab5de8a66628cb0d53da74b8dbc15ad8dabda3/pyperclip-1.8.0.tar.gz\n",
            "Building wheels for collected packages: alembic\n",
            "  Building wheel for alembic (PEP 517) ... \u001b[?25l\u001b[?25hdone\n",
            "  Created wheel for alembic: filename=alembic-1.4.2-cp36-none-any.whl size=159543 sha256=90e33e9d6e9f7f02f0b4127636fd02cad9c03ba142bbc7370f8a1b926da4e8a4\n",
            "  Stored in directory: /root/.cache/pip/wheels/1f/04/83/76023f7a4c14688c0b5c2682a96392cfdd3ee4449eaaa287ef\n",
            "Successfully built alembic\n",
            "Building wheels for collected packages: optuna, pyperclip\n",
            "  Building wheel for optuna (setup.py) ... \u001b[?25l\u001b[?25hdone\n",
            "  Created wheel for optuna: filename=optuna-1.3.0-cp36-none-any.whl size=221121 sha256=117e9e566e5984ac08f643e4692165515e9477ed76e02949426a575f415a5709\n",
            "  Stored in directory: /root/.cache/pip/wheels/62/fd/dd/71cfd4cee14164152b952f477a16dac42ba413cfb1981585e4\n",
            "  Building wheel for pyperclip (setup.py) ... \u001b[?25l\u001b[?25hdone\n",
            "  Created wheel for pyperclip: filename=pyperclip-1.8.0-cp36-none-any.whl size=8693 sha256=e595dbc84eef366b50072f8f1480c5259e3fe2cc4e59f485cbb204e187ccbe9f\n",
            "  Stored in directory: /root/.cache/pip/wheels/b2/ac/0a/b784f0afe26eaf52e88a7e15c7369090deea0354fa1c6fc689\n",
            "Successfully built optuna pyperclip\n",
            "Installing collected packages: Mako, python-editor, alembic, pbr, stevedore, pyperclip, cmd2, cliff, cmaes, colorlog, optuna\n",
            "Successfully installed Mako-1.1.2 alembic-1.4.2 cliff-3.1.0 cmaes-0.3.2 cmd2-0.8.9 colorlog-4.1.0 optuna-1.3.0 pbr-5.4.4 pyperclip-1.8.0 python-editor-1.0.4 stevedore-1.32.0\n"
          ],
          "name": "stdout"
        }
      ]
    },
    {
      "cell_type": "markdown",
      "metadata": {
        "id": "6YPKnI9VjMr7",
        "colab_type": "text"
      },
      "source": [
        "## Import"
      ]
    },
    {
      "cell_type": "code",
      "metadata": {
        "id": "EnWcq4WJbqZC",
        "colab_type": "code",
        "colab": {}
      },
      "source": [
        "# default packages\n",
        "import datetime\n",
        "import logging\n",
        "import pathlib\n",
        "import pprint"
      ],
      "execution_count": 0,
      "outputs": []
    },
    {
      "cell_type": "code",
      "metadata": {
        "id": "pSIAXsMIeE49",
        "colab_type": "code",
        "outputId": "ab1c3e96-0f50-469a-e15f-0ed96702260c",
        "colab": {
          "base_uri": "https://localhost:8080/",
          "height": 85
        }
      },
      "source": [
        "# third party packages\n",
        "import google.colab.drive as drive\n",
        "import IPython.display as display\n",
        "import optuna.integration.lightgbm as lgb\n",
        "import matplotlib.pyplot as plt\n",
        "import numpy as np\n",
        "import pandas as pd\n",
        "import seaborn as sns\n",
        "import scipy.stats as stats\n",
        "import tqdm.notebook as tqdm"
      ],
      "execution_count": 3,
      "outputs": [
        {
          "output_type": "stream",
          "text": [
            "/usr/local/lib/python3.6/dist-packages/statsmodels/tools/_testing.py:19: FutureWarning:\n",
            "\n",
            "pandas.util.testing is deprecated. Use the functions in the public API at pandas.testing instead.\n",
            "\n"
          ],
          "name": "stderr"
        }
      ]
    },
    {
      "cell_type": "code",
      "metadata": {
        "id": "uoyaA_vYVSQ-",
        "colab_type": "code",
        "colab": {}
      },
      "source": [
        "# auto reload\n",
        "%load_ext autoreload\n",
        "%autoreload 2"
      ],
      "execution_count": 0,
      "outputs": []
    },
    {
      "cell_type": "code",
      "metadata": {
        "id": "htJqqAKsuGij",
        "colab_type": "code",
        "colab": {}
      },
      "source": [
        "# graph settigns\n",
        "sns.set()"
      ],
      "execution_count": 0,
      "outputs": []
    },
    {
      "cell_type": "code",
      "metadata": {
        "id": "mV_JBba9blJB",
        "colab_type": "code",
        "colab": {}
      },
      "source": [
        "# logger\n",
        "logger = logging.getLogger(__name__)\n",
        "logging.basicConfig(level=logging.INFO)"
      ],
      "execution_count": 0,
      "outputs": []
    },
    {
      "cell_type": "markdown",
      "metadata": {
        "id": "9IbRlRDEozu6",
        "colab_type": "text"
      },
      "source": [
        "## フォルダ構成の生成"
      ]
    },
    {
      "cell_type": "code",
      "metadata": {
        "id": "ydLfMAo3o5CX",
        "colab_type": "code",
        "colab": {}
      },
      "source": [
        "data_dir = pathlib.Path(\"data\")\n",
        "raw_dir = data_dir.joinpath(\"raw\")\n",
        "\n",
        "data_dir.mkdir(exist_ok=True)\n",
        "raw_dir.mkdir(exist_ok=True)"
      ],
      "execution_count": 0,
      "outputs": []
    },
    {
      "cell_type": "markdown",
      "metadata": {
        "id": "SZp644C0b-dW",
        "colab_type": "text"
      },
      "source": [
        "## Google Drive のマウント\n"
      ]
    },
    {
      "cell_type": "code",
      "metadata": {
        "id": "evgk14RJec51",
        "colab_type": "code",
        "outputId": "33b3c4f1-b7e3-47b2-a4d0-a61598c29cdc",
        "collapsed": true,
        "colab": {
          "base_uri": "https://localhost:8080/",
          "height": 122
        }
      },
      "source": [
        "def mount_gdrive() -> pathlib.Path:\n",
        "    \"\"\"Google Drive をマウントし、必要なディレクトリへのシンボリックリンクを設定する.\"\"\"\n",
        "    gdrive_base = pathlib.Path(\"/content/drive\")\n",
        "    gdrive_cache = gdrive_base.joinpath(\"My Drive/storeItemDemandForecastingChallenge\")\n",
        "    gdrive_kaggle = gdrive_base.joinpath(\"My Drive/kaggle\")\n",
        "\n",
        "    kaggle_dir = pathlib.Path(\"./kaggle\")\n",
        "    cache_dir = pathlib.Path(\"./cache\")\n",
        "\n",
        "    if gdrive_base.exists() is False:\n",
        "        drive.mount(str(gdrive_base))\n",
        "    if cache_dir.exists() is False:\n",
        "        !ln -s \"$gdrive_cache\" \"$cache_dir\"\n",
        "    if kaggle_dir.exists() is False:\n",
        "        !ln -s \"$gdrive_kaggle\" \"$kaggle_dir\"\n",
        "\n",
        "    return cache_dir, kaggle_dir\n",
        "\n",
        "\n",
        "cache_dir, kaggle_dir = mount_gdrive()"
      ],
      "execution_count": 8,
      "outputs": [
        {
          "output_type": "stream",
          "text": [
            "Go to this URL in a browser: https://accounts.google.com/o/oauth2/auth?client_id=947318989803-6bn6qk8qdgf4n4g3pfee6491hc0brc4i.apps.googleusercontent.com&redirect_uri=urn%3aietf%3awg%3aoauth%3a2.0%3aoob&response_type=code&scope=email%20https%3a%2f%2fwww.googleapis.com%2fauth%2fdocs.test%20https%3a%2f%2fwww.googleapis.com%2fauth%2fdrive%20https%3a%2f%2fwww.googleapis.com%2fauth%2fdrive.photos.readonly%20https%3a%2f%2fwww.googleapis.com%2fauth%2fpeopleapi.readonly\n",
            "\n",
            "Enter your authorization code:\n",
            "··········\n",
            "Mounted at /content/drive\n"
          ],
          "name": "stdout"
        }
      ]
    },
    {
      "cell_type": "markdown",
      "metadata": {
        "id": "Wmd9ba12iGWK",
        "colab_type": "text"
      },
      "source": [
        "## Kaggle API の有効化"
      ]
    },
    {
      "cell_type": "code",
      "metadata": {
        "id": "RRKUIewnkGGJ",
        "colab_type": "code",
        "colab": {}
      },
      "source": [
        "def activate_kaggle_api(gdrive_kaggle: pathlib.Path) -> None:\n",
        "    \"\"\"Kaggle API を有効化するための token を Google Drive からコピーする.\"\"\"\n",
        "    kaggle_file = \"kaggle.json\"\n",
        "    gdrive_kaggle_json = gdrive_kaggle.joinpath(kaggle_file)\n",
        "    local_kaggle_dir = pathlib.Path(\"/root/.kaggle\")\n",
        "    local_kaggle_json = local_kaggle_dir.joinpath(kaggle_file)\n",
        "\n",
        "    local_kaggle_dir.mkdir(exist_ok=True)\n",
        "    !cp \"$gdrive_kaggle_json\" \"$local_kaggle_json\"\n",
        "    !chmod 600 \"$local_kaggle_json\"\n",
        "\n",
        "\n",
        "activate_kaggle_api(kaggle_dir)"
      ],
      "execution_count": 0,
      "outputs": []
    },
    {
      "cell_type": "markdown",
      "metadata": {
        "id": "X9xbH42ypctJ",
        "colab_type": "text"
      },
      "source": [
        "## データセットの読み込み"
      ]
    },
    {
      "cell_type": "code",
      "metadata": {
        "id": "7g5mEeknlmy0",
        "colab_type": "code",
        "collapsed": true,
        "outputId": "b7bcd8d3-62da-4d47-8f5c-2ea0c57080e1",
        "colab": {
          "base_uri": "https://localhost:8080/",
          "height": 187
        }
      },
      "source": [
        "!kaggle competitions download -c demand-forecasting-kernels-only -p \"$raw_dir\""
      ],
      "execution_count": 10,
      "outputs": [
        {
          "output_type": "stream",
          "text": [
            "Warning: Looks like you're using an outdated API Version, please consider updating (server 1.5.6 / client 1.5.4)\n",
            "Downloading train.csv.zip to data/raw\n",
            "  0% 0.00/3.06M [00:00<?, ?B/s]\n",
            "100% 3.06M/3.06M [00:00<00:00, 103MB/s]\n",
            "Downloading test.csv to data/raw\n",
            "  0% 0.00/952k [00:00<?, ?B/s]\n",
            "100% 952k/952k [00:00<00:00, 134MB/s]\n",
            "Downloading sample_submission.csv to data/raw\n",
            "  0% 0.00/385k [00:00<?, ?B/s]\n",
            "100% 385k/385k [00:00<00:00, 103MB/s]\n"
          ],
          "name": "stdout"
        }
      ]
    },
    {
      "cell_type": "code",
      "metadata": {
        "id": "J_HUyDIYoDif",
        "colab_type": "code",
        "colab": {}
      },
      "source": [
        "df_raw = pd.read_csv(raw_dir.joinpath(\"train.csv.zip\"), low_memory=False, parse_dates=[\"date\"], index_col=[\"date\"]).sort_index()\n",
        "df_test = pd.read_csv(raw_dir.joinpath(\"test.csv\"), low_memory=False, parse_dates=[\"date\"], index_col=[\"date\"]).sort_index()\n",
        "df_subs = pd.read_csv(raw_dir.joinpath(\"sample_submission.csv\")).sort_index()"
      ],
      "execution_count": 0,
      "outputs": []
    },
    {
      "cell_type": "code",
      "metadata": {
        "id": "SnjX2XEiqNKm",
        "colab_type": "code",
        "collapsed": true,
        "outputId": "2654d382-d2b1-4c28-f66c-dc7d627cb661",
        "colab": {
          "base_uri": "https://localhost:8080/",
          "height": 640
        }
      },
      "source": [
        "display.display(df_raw.info())\n",
        "display.display(df_raw.head())\n",
        "display.display(df_raw.tail())"
      ],
      "execution_count": 12,
      "outputs": [
        {
          "output_type": "stream",
          "text": [
            "<class 'pandas.core.frame.DataFrame'>\n",
            "DatetimeIndex: 913000 entries, 2013-01-01 to 2017-12-31\n",
            "Data columns (total 3 columns):\n",
            " #   Column  Non-Null Count   Dtype\n",
            "---  ------  --------------   -----\n",
            " 0   store   913000 non-null  int64\n",
            " 1   item    913000 non-null  int64\n",
            " 2   sales   913000 non-null  int64\n",
            "dtypes: int64(3)\n",
            "memory usage: 27.9 MB\n"
          ],
          "name": "stdout"
        },
        {
          "output_type": "display_data",
          "data": {
            "text/plain": [
              "None"
            ]
          },
          "metadata": {
            "tags": []
          }
        },
        {
          "output_type": "display_data",
          "data": {
            "text/html": [
              "<div>\n",
              "<style scoped>\n",
              "    .dataframe tbody tr th:only-of-type {\n",
              "        vertical-align: middle;\n",
              "    }\n",
              "\n",
              "    .dataframe tbody tr th {\n",
              "        vertical-align: top;\n",
              "    }\n",
              "\n",
              "    .dataframe thead th {\n",
              "        text-align: right;\n",
              "    }\n",
              "</style>\n",
              "<table border=\"1\" class=\"dataframe\">\n",
              "  <thead>\n",
              "    <tr style=\"text-align: right;\">\n",
              "      <th></th>\n",
              "      <th>store</th>\n",
              "      <th>item</th>\n",
              "      <th>sales</th>\n",
              "    </tr>\n",
              "    <tr>\n",
              "      <th>date</th>\n",
              "      <th></th>\n",
              "      <th></th>\n",
              "      <th></th>\n",
              "    </tr>\n",
              "  </thead>\n",
              "  <tbody>\n",
              "    <tr>\n",
              "      <th>2013-01-01</th>\n",
              "      <td>1</td>\n",
              "      <td>1</td>\n",
              "      <td>13</td>\n",
              "    </tr>\n",
              "    <tr>\n",
              "      <th>2013-01-01</th>\n",
              "      <td>7</td>\n",
              "      <td>12</td>\n",
              "      <td>26</td>\n",
              "    </tr>\n",
              "    <tr>\n",
              "      <th>2013-01-01</th>\n",
              "      <td>7</td>\n",
              "      <td>46</td>\n",
              "      <td>27</td>\n",
              "    </tr>\n",
              "    <tr>\n",
              "      <th>2013-01-01</th>\n",
              "      <td>8</td>\n",
              "      <td>12</td>\n",
              "      <td>54</td>\n",
              "    </tr>\n",
              "    <tr>\n",
              "      <th>2013-01-01</th>\n",
              "      <td>9</td>\n",
              "      <td>12</td>\n",
              "      <td>35</td>\n",
              "    </tr>\n",
              "  </tbody>\n",
              "</table>\n",
              "</div>"
            ],
            "text/plain": [
              "            store  item  sales\n",
              "date                          \n",
              "2013-01-01      1     1     13\n",
              "2013-01-01      7    12     26\n",
              "2013-01-01      7    46     27\n",
              "2013-01-01      8    12     54\n",
              "2013-01-01      9    12     35"
            ]
          },
          "metadata": {
            "tags": []
          }
        },
        {
          "output_type": "display_data",
          "data": {
            "text/html": [
              "<div>\n",
              "<style scoped>\n",
              "    .dataframe tbody tr th:only-of-type {\n",
              "        vertical-align: middle;\n",
              "    }\n",
              "\n",
              "    .dataframe tbody tr th {\n",
              "        vertical-align: top;\n",
              "    }\n",
              "\n",
              "    .dataframe thead th {\n",
              "        text-align: right;\n",
              "    }\n",
              "</style>\n",
              "<table border=\"1\" class=\"dataframe\">\n",
              "  <thead>\n",
              "    <tr style=\"text-align: right;\">\n",
              "      <th></th>\n",
              "      <th>store</th>\n",
              "      <th>item</th>\n",
              "      <th>sales</th>\n",
              "    </tr>\n",
              "    <tr>\n",
              "      <th>date</th>\n",
              "      <th></th>\n",
              "      <th></th>\n",
              "      <th></th>\n",
              "    </tr>\n",
              "  </thead>\n",
              "  <tbody>\n",
              "    <tr>\n",
              "      <th>2017-12-31</th>\n",
              "      <td>9</td>\n",
              "      <td>34</td>\n",
              "      <td>21</td>\n",
              "    </tr>\n",
              "    <tr>\n",
              "      <th>2017-12-31</th>\n",
              "      <td>10</td>\n",
              "      <td>34</td>\n",
              "      <td>32</td>\n",
              "    </tr>\n",
              "    <tr>\n",
              "      <th>2017-12-31</th>\n",
              "      <td>1</td>\n",
              "      <td>35</td>\n",
              "      <td>55</td>\n",
              "    </tr>\n",
              "    <tr>\n",
              "      <th>2017-12-31</th>\n",
              "      <td>8</td>\n",
              "      <td>33</td>\n",
              "      <td>100</td>\n",
              "    </tr>\n",
              "    <tr>\n",
              "      <th>2017-12-31</th>\n",
              "      <td>10</td>\n",
              "      <td>50</td>\n",
              "      <td>82</td>\n",
              "    </tr>\n",
              "  </tbody>\n",
              "</table>\n",
              "</div>"
            ],
            "text/plain": [
              "            store  item  sales\n",
              "date                          \n",
              "2017-12-31      9    34     21\n",
              "2017-12-31     10    34     32\n",
              "2017-12-31      1    35     55\n",
              "2017-12-31      8    33    100\n",
              "2017-12-31     10    50     82"
            ]
          },
          "metadata": {
            "tags": []
          }
        }
      ]
    },
    {
      "cell_type": "code",
      "metadata": {
        "id": "3ny7L7Syqm-o",
        "colab_type": "code",
        "collapsed": true,
        "outputId": "e89abfc3-bef6-430b-c798-dd13367f4699",
        "colab": {
          "base_uri": "https://localhost:8080/",
          "height": 640
        }
      },
      "source": [
        "display.display(df_test.info())\n",
        "display.display(df_test.head())\n",
        "display.display(df_test.tail())"
      ],
      "execution_count": 13,
      "outputs": [
        {
          "output_type": "stream",
          "text": [
            "<class 'pandas.core.frame.DataFrame'>\n",
            "DatetimeIndex: 45000 entries, 2018-01-01 to 2018-03-31\n",
            "Data columns (total 3 columns):\n",
            " #   Column  Non-Null Count  Dtype\n",
            "---  ------  --------------  -----\n",
            " 0   id      45000 non-null  int64\n",
            " 1   store   45000 non-null  int64\n",
            " 2   item    45000 non-null  int64\n",
            "dtypes: int64(3)\n",
            "memory usage: 1.4 MB\n"
          ],
          "name": "stdout"
        },
        {
          "output_type": "display_data",
          "data": {
            "text/plain": [
              "None"
            ]
          },
          "metadata": {
            "tags": []
          }
        },
        {
          "output_type": "display_data",
          "data": {
            "text/html": [
              "<div>\n",
              "<style scoped>\n",
              "    .dataframe tbody tr th:only-of-type {\n",
              "        vertical-align: middle;\n",
              "    }\n",
              "\n",
              "    .dataframe tbody tr th {\n",
              "        vertical-align: top;\n",
              "    }\n",
              "\n",
              "    .dataframe thead th {\n",
              "        text-align: right;\n",
              "    }\n",
              "</style>\n",
              "<table border=\"1\" class=\"dataframe\">\n",
              "  <thead>\n",
              "    <tr style=\"text-align: right;\">\n",
              "      <th></th>\n",
              "      <th>id</th>\n",
              "      <th>store</th>\n",
              "      <th>item</th>\n",
              "    </tr>\n",
              "    <tr>\n",
              "      <th>date</th>\n",
              "      <th></th>\n",
              "      <th></th>\n",
              "      <th></th>\n",
              "    </tr>\n",
              "  </thead>\n",
              "  <tbody>\n",
              "    <tr>\n",
              "      <th>2018-01-01</th>\n",
              "      <td>0</td>\n",
              "      <td>1</td>\n",
              "      <td>1</td>\n",
              "    </tr>\n",
              "    <tr>\n",
              "      <th>2018-01-01</th>\n",
              "      <td>32940</td>\n",
              "      <td>7</td>\n",
              "      <td>37</td>\n",
              "    </tr>\n",
              "    <tr>\n",
              "      <th>2018-01-01</th>\n",
              "      <td>3960</td>\n",
              "      <td>5</td>\n",
              "      <td>5</td>\n",
              "    </tr>\n",
              "    <tr>\n",
              "      <th>2018-01-01</th>\n",
              "      <td>32850</td>\n",
              "      <td>6</td>\n",
              "      <td>37</td>\n",
              "    </tr>\n",
              "    <tr>\n",
              "      <th>2018-01-01</th>\n",
              "      <td>32760</td>\n",
              "      <td>5</td>\n",
              "      <td>37</td>\n",
              "    </tr>\n",
              "  </tbody>\n",
              "</table>\n",
              "</div>"
            ],
            "text/plain": [
              "               id  store  item\n",
              "date                          \n",
              "2018-01-01      0      1     1\n",
              "2018-01-01  32940      7    37\n",
              "2018-01-01   3960      5     5\n",
              "2018-01-01  32850      6    37\n",
              "2018-01-01  32760      5    37"
            ]
          },
          "metadata": {
            "tags": []
          }
        },
        {
          "output_type": "display_data",
          "data": {
            "text/html": [
              "<div>\n",
              "<style scoped>\n",
              "    .dataframe tbody tr th:only-of-type {\n",
              "        vertical-align: middle;\n",
              "    }\n",
              "\n",
              "    .dataframe tbody tr th {\n",
              "        vertical-align: top;\n",
              "    }\n",
              "\n",
              "    .dataframe thead th {\n",
              "        text-align: right;\n",
              "    }\n",
              "</style>\n",
              "<table border=\"1\" class=\"dataframe\">\n",
              "  <thead>\n",
              "    <tr style=\"text-align: right;\">\n",
              "      <th></th>\n",
              "      <th>id</th>\n",
              "      <th>store</th>\n",
              "      <th>item</th>\n",
              "    </tr>\n",
              "    <tr>\n",
              "      <th>date</th>\n",
              "      <th></th>\n",
              "      <th></th>\n",
              "      <th></th>\n",
              "    </tr>\n",
              "  </thead>\n",
              "  <tbody>\n",
              "    <tr>\n",
              "      <th>2018-03-31</th>\n",
              "      <td>30149</td>\n",
              "      <td>5</td>\n",
              "      <td>34</td>\n",
              "    </tr>\n",
              "    <tr>\n",
              "      <th>2018-03-31</th>\n",
              "      <td>30239</td>\n",
              "      <td>6</td>\n",
              "      <td>34</td>\n",
              "    </tr>\n",
              "    <tr>\n",
              "      <th>2018-03-31</th>\n",
              "      <td>30329</td>\n",
              "      <td>7</td>\n",
              "      <td>34</td>\n",
              "    </tr>\n",
              "    <tr>\n",
              "      <th>2018-03-31</th>\n",
              "      <td>30509</td>\n",
              "      <td>9</td>\n",
              "      <td>34</td>\n",
              "    </tr>\n",
              "    <tr>\n",
              "      <th>2018-03-31</th>\n",
              "      <td>44999</td>\n",
              "      <td>10</td>\n",
              "      <td>50</td>\n",
              "    </tr>\n",
              "  </tbody>\n",
              "</table>\n",
              "</div>"
            ],
            "text/plain": [
              "               id  store  item\n",
              "date                          \n",
              "2018-03-31  30149      5    34\n",
              "2018-03-31  30239      6    34\n",
              "2018-03-31  30329      7    34\n",
              "2018-03-31  30509      9    34\n",
              "2018-03-31  44999     10    50"
            ]
          },
          "metadata": {
            "tags": []
          }
        }
      ]
    },
    {
      "cell_type": "code",
      "metadata": {
        "id": "pe-EbxU0qvng",
        "colab_type": "code",
        "collapsed": true,
        "outputId": "c8879364-b892-46ec-97e9-0d6c77d374fa",
        "colab": {
          "base_uri": "https://localhost:8080/",
          "height": 561
        }
      },
      "source": [
        "display.display(df_subs.info())\n",
        "display.display(df_subs.head())\n",
        "display.display(df_subs.tail())"
      ],
      "execution_count": 14,
      "outputs": [
        {
          "output_type": "stream",
          "text": [
            "<class 'pandas.core.frame.DataFrame'>\n",
            "RangeIndex: 45000 entries, 0 to 44999\n",
            "Data columns (total 2 columns):\n",
            " #   Column  Non-Null Count  Dtype\n",
            "---  ------  --------------  -----\n",
            " 0   id      45000 non-null  int64\n",
            " 1   sales   45000 non-null  int64\n",
            "dtypes: int64(2)\n",
            "memory usage: 703.2 KB\n"
          ],
          "name": "stdout"
        },
        {
          "output_type": "display_data",
          "data": {
            "text/plain": [
              "None"
            ]
          },
          "metadata": {
            "tags": []
          }
        },
        {
          "output_type": "display_data",
          "data": {
            "text/html": [
              "<div>\n",
              "<style scoped>\n",
              "    .dataframe tbody tr th:only-of-type {\n",
              "        vertical-align: middle;\n",
              "    }\n",
              "\n",
              "    .dataframe tbody tr th {\n",
              "        vertical-align: top;\n",
              "    }\n",
              "\n",
              "    .dataframe thead th {\n",
              "        text-align: right;\n",
              "    }\n",
              "</style>\n",
              "<table border=\"1\" class=\"dataframe\">\n",
              "  <thead>\n",
              "    <tr style=\"text-align: right;\">\n",
              "      <th></th>\n",
              "      <th>id</th>\n",
              "      <th>sales</th>\n",
              "    </tr>\n",
              "  </thead>\n",
              "  <tbody>\n",
              "    <tr>\n",
              "      <th>0</th>\n",
              "      <td>0</td>\n",
              "      <td>52</td>\n",
              "    </tr>\n",
              "    <tr>\n",
              "      <th>1</th>\n",
              "      <td>1</td>\n",
              "      <td>52</td>\n",
              "    </tr>\n",
              "    <tr>\n",
              "      <th>2</th>\n",
              "      <td>2</td>\n",
              "      <td>52</td>\n",
              "    </tr>\n",
              "    <tr>\n",
              "      <th>3</th>\n",
              "      <td>3</td>\n",
              "      <td>52</td>\n",
              "    </tr>\n",
              "    <tr>\n",
              "      <th>4</th>\n",
              "      <td>4</td>\n",
              "      <td>52</td>\n",
              "    </tr>\n",
              "  </tbody>\n",
              "</table>\n",
              "</div>"
            ],
            "text/plain": [
              "   id  sales\n",
              "0   0     52\n",
              "1   1     52\n",
              "2   2     52\n",
              "3   3     52\n",
              "4   4     52"
            ]
          },
          "metadata": {
            "tags": []
          }
        },
        {
          "output_type": "display_data",
          "data": {
            "text/html": [
              "<div>\n",
              "<style scoped>\n",
              "    .dataframe tbody tr th:only-of-type {\n",
              "        vertical-align: middle;\n",
              "    }\n",
              "\n",
              "    .dataframe tbody tr th {\n",
              "        vertical-align: top;\n",
              "    }\n",
              "\n",
              "    .dataframe thead th {\n",
              "        text-align: right;\n",
              "    }\n",
              "</style>\n",
              "<table border=\"1\" class=\"dataframe\">\n",
              "  <thead>\n",
              "    <tr style=\"text-align: right;\">\n",
              "      <th></th>\n",
              "      <th>id</th>\n",
              "      <th>sales</th>\n",
              "    </tr>\n",
              "  </thead>\n",
              "  <tbody>\n",
              "    <tr>\n",
              "      <th>44995</th>\n",
              "      <td>44995</td>\n",
              "      <td>52</td>\n",
              "    </tr>\n",
              "    <tr>\n",
              "      <th>44996</th>\n",
              "      <td>44996</td>\n",
              "      <td>52</td>\n",
              "    </tr>\n",
              "    <tr>\n",
              "      <th>44997</th>\n",
              "      <td>44997</td>\n",
              "      <td>52</td>\n",
              "    </tr>\n",
              "    <tr>\n",
              "      <th>44998</th>\n",
              "      <td>44998</td>\n",
              "      <td>52</td>\n",
              "    </tr>\n",
              "    <tr>\n",
              "      <th>44999</th>\n",
              "      <td>44999</td>\n",
              "      <td>52</td>\n",
              "    </tr>\n",
              "  </tbody>\n",
              "</table>\n",
              "</div>"
            ],
            "text/plain": [
              "          id  sales\n",
              "44995  44995     52\n",
              "44996  44996     52\n",
              "44997  44997     52\n",
              "44998  44998     52\n",
              "44999  44999     52"
            ]
          },
          "metadata": {
            "tags": []
          }
        }
      ]
    },
    {
      "cell_type": "markdown",
      "metadata": {
        "id": "mkJrDnswsZZs",
        "colab_type": "text"
      },
      "source": [
        "## 特徴量を追加"
      ]
    },
    {
      "cell_type": "code",
      "metadata": {
        "colab_type": "code",
        "collapsed": true,
        "outputId": "c621b518-490b-4981-9422-100f57774af9",
        "id": "IpaXpN1IO9u6",
        "colab": {
          "base_uri": "https://localhost:8080/",
          "height": 235
        }
      },
      "source": [
        "def add_datepart(df_target: pd.DataFrame) -> pd.DataFrame:\n",
        "    \"\"\"日付に関する情報を付与した列を追加する.\"\"\"\n",
        "    date_series = df_target.index.to_series()\n",
        "    attr = [\n",
        "        \"Year\",\n",
        "        \"Month\",\n",
        "        \"Week\",\n",
        "        \"Day\",\n",
        "        \"Dayofweek\",\n",
        "        \"Dayofyear\",\n",
        "        \"weekofyear\",\n",
        "        \"Is_month_end\",\n",
        "        \"Is_month_start\",\n",
        "        \"Is_quarter_end\",\n",
        "        \"Is_quarter_start\",\n",
        "        \"Is_year_end\",\n",
        "        \"Is_year_start\"\n",
        "    ]\n",
        "    \n",
        "    df = df_target.copy()\n",
        "    for name in attr: \n",
        "        df[name] = getattr(date_series.dt, name.lower())\n",
        "\n",
        "    return df\n",
        "\n",
        "\n",
        "df_datepart = add_datepart(df_raw)\n",
        "display.display(df_datepart.head())"
      ],
      "execution_count": 15,
      "outputs": [
        {
          "output_type": "display_data",
          "data": {
            "text/html": [
              "<div>\n",
              "<style scoped>\n",
              "    .dataframe tbody tr th:only-of-type {\n",
              "        vertical-align: middle;\n",
              "    }\n",
              "\n",
              "    .dataframe tbody tr th {\n",
              "        vertical-align: top;\n",
              "    }\n",
              "\n",
              "    .dataframe thead th {\n",
              "        text-align: right;\n",
              "    }\n",
              "</style>\n",
              "<table border=\"1\" class=\"dataframe\">\n",
              "  <thead>\n",
              "    <tr style=\"text-align: right;\">\n",
              "      <th></th>\n",
              "      <th>store</th>\n",
              "      <th>item</th>\n",
              "      <th>sales</th>\n",
              "      <th>Year</th>\n",
              "      <th>Month</th>\n",
              "      <th>Week</th>\n",
              "      <th>Day</th>\n",
              "      <th>Dayofweek</th>\n",
              "      <th>Dayofyear</th>\n",
              "      <th>weekofyear</th>\n",
              "      <th>Is_month_end</th>\n",
              "      <th>Is_month_start</th>\n",
              "      <th>Is_quarter_end</th>\n",
              "      <th>Is_quarter_start</th>\n",
              "      <th>Is_year_end</th>\n",
              "      <th>Is_year_start</th>\n",
              "    </tr>\n",
              "    <tr>\n",
              "      <th>date</th>\n",
              "      <th></th>\n",
              "      <th></th>\n",
              "      <th></th>\n",
              "      <th></th>\n",
              "      <th></th>\n",
              "      <th></th>\n",
              "      <th></th>\n",
              "      <th></th>\n",
              "      <th></th>\n",
              "      <th></th>\n",
              "      <th></th>\n",
              "      <th></th>\n",
              "      <th></th>\n",
              "      <th></th>\n",
              "      <th></th>\n",
              "      <th></th>\n",
              "    </tr>\n",
              "  </thead>\n",
              "  <tbody>\n",
              "    <tr>\n",
              "      <th>2013-01-01</th>\n",
              "      <td>1</td>\n",
              "      <td>1</td>\n",
              "      <td>13</td>\n",
              "      <td>2013</td>\n",
              "      <td>1</td>\n",
              "      <td>1</td>\n",
              "      <td>1</td>\n",
              "      <td>1</td>\n",
              "      <td>1</td>\n",
              "      <td>1</td>\n",
              "      <td>False</td>\n",
              "      <td>True</td>\n",
              "      <td>False</td>\n",
              "      <td>True</td>\n",
              "      <td>False</td>\n",
              "      <td>True</td>\n",
              "    </tr>\n",
              "    <tr>\n",
              "      <th>2013-01-01</th>\n",
              "      <td>7</td>\n",
              "      <td>12</td>\n",
              "      <td>26</td>\n",
              "      <td>2013</td>\n",
              "      <td>1</td>\n",
              "      <td>1</td>\n",
              "      <td>1</td>\n",
              "      <td>1</td>\n",
              "      <td>1</td>\n",
              "      <td>1</td>\n",
              "      <td>False</td>\n",
              "      <td>True</td>\n",
              "      <td>False</td>\n",
              "      <td>True</td>\n",
              "      <td>False</td>\n",
              "      <td>True</td>\n",
              "    </tr>\n",
              "    <tr>\n",
              "      <th>2013-01-01</th>\n",
              "      <td>7</td>\n",
              "      <td>46</td>\n",
              "      <td>27</td>\n",
              "      <td>2013</td>\n",
              "      <td>1</td>\n",
              "      <td>1</td>\n",
              "      <td>1</td>\n",
              "      <td>1</td>\n",
              "      <td>1</td>\n",
              "      <td>1</td>\n",
              "      <td>False</td>\n",
              "      <td>True</td>\n",
              "      <td>False</td>\n",
              "      <td>True</td>\n",
              "      <td>False</td>\n",
              "      <td>True</td>\n",
              "    </tr>\n",
              "    <tr>\n",
              "      <th>2013-01-01</th>\n",
              "      <td>8</td>\n",
              "      <td>12</td>\n",
              "      <td>54</td>\n",
              "      <td>2013</td>\n",
              "      <td>1</td>\n",
              "      <td>1</td>\n",
              "      <td>1</td>\n",
              "      <td>1</td>\n",
              "      <td>1</td>\n",
              "      <td>1</td>\n",
              "      <td>False</td>\n",
              "      <td>True</td>\n",
              "      <td>False</td>\n",
              "      <td>True</td>\n",
              "      <td>False</td>\n",
              "      <td>True</td>\n",
              "    </tr>\n",
              "    <tr>\n",
              "      <th>2013-01-01</th>\n",
              "      <td>9</td>\n",
              "      <td>12</td>\n",
              "      <td>35</td>\n",
              "      <td>2013</td>\n",
              "      <td>1</td>\n",
              "      <td>1</td>\n",
              "      <td>1</td>\n",
              "      <td>1</td>\n",
              "      <td>1</td>\n",
              "      <td>1</td>\n",
              "      <td>False</td>\n",
              "      <td>True</td>\n",
              "      <td>False</td>\n",
              "      <td>True</td>\n",
              "      <td>False</td>\n",
              "      <td>True</td>\n",
              "    </tr>\n",
              "  </tbody>\n",
              "</table>\n",
              "</div>"
            ],
            "text/plain": [
              "            store  item  sales  ...  Is_quarter_start  Is_year_end  Is_year_start\n",
              "date                            ...                                              \n",
              "2013-01-01      1     1     13  ...              True        False           True\n",
              "2013-01-01      7    12     26  ...              True        False           True\n",
              "2013-01-01      7    46     27  ...              True        False           True\n",
              "2013-01-01      8    12     54  ...              True        False           True\n",
              "2013-01-01      9    12     35  ...              True        False           True\n",
              "\n",
              "[5 rows x 16 columns]"
            ]
          },
          "metadata": {
            "tags": []
          }
        }
      ]
    },
    {
      "cell_type": "code",
      "metadata": {
        "colab_type": "code",
        "outputId": "e49f5606-4b56-43ab-cd57-36917acbca58",
        "id": "ySCaw4bYO-xj",
        "colab": {
          "base_uri": "https://localhost:8080/",
          "height": 1000
        }
      },
      "source": [
        "def extract_feature(df_target: pd.DataFrame) -> pd.DataFrame:\n",
        "    \"\"\"集計した特徴量とラグ特徴量を追加する.\n",
        "    \"\"\"\n",
        "    df = df_target.copy()\n",
        "    df[\"sales\"], _ = stats.boxcox(df_target[\"sales\"] + 1)\n",
        "\n",
        "    df[\"median-store_item\"] = df.groupby([\"item\", \"store\"])[\"sales\"].transform(\"median\")\n",
        "    df[\"mean-store_item\"] = df.groupby([\"item\", \"store\"])[\"sales\"].transform(\"mean\")\n",
        "    df[\"median-month_item\"] = df.groupby([\"Month\", \"item\"])[\"sales\"].transform(\"median\")\n",
        "    df[\"mean-month_item\"] = df.groupby([\"Month\", \"item\"])[\"sales\"].transform(\"mean\")\n",
        "    df[\"median-month_store\"] = df.groupby([\"Month\", \"store\"])[\"sales\"].transform(\"median\")\n",
        "\n",
        "    df[\"median-item\"] = df.groupby([\"item\"])[\"sales\"].transform(\"median\")\n",
        "    df[\"mean-item\"] = df.groupby([\"item\"])[\"sales\"].transform(\"mean\")\n",
        "    df[\"median-store\"] = df.groupby([\"store\"])[\"sales\"].transform(\"median\")\n",
        "    df[\"mean-store\"] = df.groupby([\"store\"])[\"sales\"].transform(\"mean\")\n",
        "\n",
        "    df[\"median-store_item-month\"] = df.groupby([\"Month\", \"item\", \"store\"])[\"sales\"].transform(\"median\")\n",
        "    df[\"mean-store_item-week\"] = df.groupby([\"item\", \"store\", \"weekofyear\"])[\"sales\"].transform(\"mean\")\n",
        "\n",
        "    df[\"item-month-mean\"] = df.groupby([\"Month\", \"item\"])[\"sales\"].transform(\"mean\")\n",
        "    df[\"store-month-mean\"] = df.groupby([\"Month\", \"store\"])[\"sales\"].transform(\"mean\")\n",
        "    \n",
        "    lags = [91, 182, 365]\n",
        "    for lag in lags:\n",
        "        groups = df.groupby([\"item\", \"store\"])[\"sales\"]\n",
        "        shift_sales = groups.transform(lambda x: x.shift(lag)).to_frame()\n",
        "        shift_sales.columns = [\"sales_shift\"]\n",
        "        shift_sales[\"item\"] = df[\"item\"]\n",
        "        shift_sales[\"store\"] = df[\"store\"]\n",
        "        shift_sales[\"weekofyear\"] = df[\"weekofyear\"]\n",
        "\n",
        "        groups = shift_sales.groupby([\"item\", \"weekofyear\"])[\"sales_shift\"]\n",
        "        df[f\"item-week_shifted-{lag}_sum\"] = groups.transform(\"sum\")\n",
        "        df[f\"item-week_shifted-{lag}_mean\"] = groups.transform(\"mean\")\n",
        "\n",
        "        groups = shift_sales.groupby([\"store\", \"weekofyear\"])[\"sales_shift\"]\n",
        "        df[f\"store-week_shifted-{lag}_sum\"] = groups.transform(\"sum\")\n",
        "        df[f\"store-week_shifted-{lag}_mean\"] = groups.transform(\"mean\")\n",
        "\n",
        "    return df\n",
        "\n",
        "\n",
        "train_flag = (df_raw.index < datetime.datetime(2017, 1, 1))\n",
        "df_train = df_datepart.loc[train_flag]\n",
        "df_valid = df_datepart.loc[train_flag == False]\n",
        "%time df_train_feature = extract_feature(df_train)\n",
        "display.display(df_train_feature.info())\n",
        "display.display(df_train_feature.head())\n",
        "display.display(df_train_feature.tail())"
      ],
      "execution_count": 16,
      "outputs": [
        {
          "output_type": "stream",
          "text": [
            "INFO:numexpr.utils:NumExpr defaulting to 2 threads.\n"
          ],
          "name": "stderr"
        },
        {
          "output_type": "stream",
          "text": [
            "CPU times: user 3.58 s, sys: 139 ms, total: 3.72 s\n",
            "Wall time: 3.74 s\n",
            "<class 'pandas.core.frame.DataFrame'>\n",
            "DatetimeIndex: 730500 entries, 2013-01-01 to 2016-12-31\n",
            "Data columns (total 41 columns):\n",
            " #   Column                       Non-Null Count   Dtype  \n",
            "---  ------                       --------------   -----  \n",
            " 0   store                        730500 non-null  int64  \n",
            " 1   item                         730500 non-null  int64  \n",
            " 2   sales                        730500 non-null  float64\n",
            " 3   Year                         730500 non-null  int64  \n",
            " 4   Month                        730500 non-null  int64  \n",
            " 5   Week                         730500 non-null  int64  \n",
            " 6   Day                          730500 non-null  int64  \n",
            " 7   Dayofweek                    730500 non-null  int64  \n",
            " 8   Dayofyear                    730500 non-null  int64  \n",
            " 9   weekofyear                   730500 non-null  int64  \n",
            " 10  Is_month_end                 730500 non-null  bool   \n",
            " 11  Is_month_start               730500 non-null  bool   \n",
            " 12  Is_quarter_end               730500 non-null  bool   \n",
            " 13  Is_quarter_start             730500 non-null  bool   \n",
            " 14  Is_year_end                  730500 non-null  bool   \n",
            " 15  Is_year_start                730500 non-null  bool   \n",
            " 16  median-store_item            730500 non-null  float64\n",
            " 17  mean-store_item              730500 non-null  float64\n",
            " 18  median-month_item            730500 non-null  float64\n",
            " 19  mean-month_item              730500 non-null  float64\n",
            " 20  median-month_store           730500 non-null  float64\n",
            " 21  median-item                  730500 non-null  float64\n",
            " 22  mean-item                    730500 non-null  float64\n",
            " 23  median-store                 730500 non-null  float64\n",
            " 24  mean-store                   730500 non-null  float64\n",
            " 25  median-store_item-month      730500 non-null  float64\n",
            " 26  mean-store_item-week         730500 non-null  float64\n",
            " 27  item-month-mean              730500 non-null  float64\n",
            " 28  store-month-mean             730500 non-null  float64\n",
            " 29  item-week_shifted-91_sum     730500 non-null  float64\n",
            " 30  item-week_shifted-91_mean    730500 non-null  float64\n",
            " 31  store-week_shifted-91_sum    730500 non-null  float64\n",
            " 32  store-week_shifted-91_mean   730500 non-null  float64\n",
            " 33  item-week_shifted-182_sum    730500 non-null  float64\n",
            " 34  item-week_shifted-182_mean   730500 non-null  float64\n",
            " 35  store-week_shifted-182_sum   730500 non-null  float64\n",
            " 36  store-week_shifted-182_mean  730500 non-null  float64\n",
            " 37  item-week_shifted-365_sum    730500 non-null  float64\n",
            " 38  item-week_shifted-365_mean   730500 non-null  float64\n",
            " 39  store-week_shifted-365_sum   730500 non-null  float64\n",
            " 40  store-week_shifted-365_mean  730500 non-null  float64\n",
            "dtypes: bool(6), float64(26), int64(9)\n",
            "memory usage: 204.8 MB\n"
          ],
          "name": "stdout"
        },
        {
          "output_type": "display_data",
          "data": {
            "text/plain": [
              "None"
            ]
          },
          "metadata": {
            "tags": []
          }
        },
        {
          "output_type": "display_data",
          "data": {
            "text/html": [
              "<div>\n",
              "<style scoped>\n",
              "    .dataframe tbody tr th:only-of-type {\n",
              "        vertical-align: middle;\n",
              "    }\n",
              "\n",
              "    .dataframe tbody tr th {\n",
              "        vertical-align: top;\n",
              "    }\n",
              "\n",
              "    .dataframe thead th {\n",
              "        text-align: right;\n",
              "    }\n",
              "</style>\n",
              "<table border=\"1\" class=\"dataframe\">\n",
              "  <thead>\n",
              "    <tr style=\"text-align: right;\">\n",
              "      <th></th>\n",
              "      <th>store</th>\n",
              "      <th>item</th>\n",
              "      <th>sales</th>\n",
              "      <th>Year</th>\n",
              "      <th>Month</th>\n",
              "      <th>Week</th>\n",
              "      <th>Day</th>\n",
              "      <th>Dayofweek</th>\n",
              "      <th>Dayofyear</th>\n",
              "      <th>weekofyear</th>\n",
              "      <th>Is_month_end</th>\n",
              "      <th>Is_month_start</th>\n",
              "      <th>Is_quarter_end</th>\n",
              "      <th>Is_quarter_start</th>\n",
              "      <th>Is_year_end</th>\n",
              "      <th>Is_year_start</th>\n",
              "      <th>median-store_item</th>\n",
              "      <th>mean-store_item</th>\n",
              "      <th>median-month_item</th>\n",
              "      <th>mean-month_item</th>\n",
              "      <th>median-month_store</th>\n",
              "      <th>median-item</th>\n",
              "      <th>mean-item</th>\n",
              "      <th>median-store</th>\n",
              "      <th>mean-store</th>\n",
              "      <th>median-store_item-month</th>\n",
              "      <th>mean-store_item-week</th>\n",
              "      <th>item-month-mean</th>\n",
              "      <th>store-month-mean</th>\n",
              "      <th>item-week_shifted-91_sum</th>\n",
              "      <th>item-week_shifted-91_mean</th>\n",
              "      <th>store-week_shifted-91_sum</th>\n",
              "      <th>store-week_shifted-91_mean</th>\n",
              "      <th>item-week_shifted-182_sum</th>\n",
              "      <th>item-week_shifted-182_mean</th>\n",
              "      <th>store-week_shifted-182_sum</th>\n",
              "      <th>store-week_shifted-182_mean</th>\n",
              "      <th>item-week_shifted-365_sum</th>\n",
              "      <th>item-week_shifted-365_mean</th>\n",
              "      <th>store-week_shifted-365_sum</th>\n",
              "      <th>store-week_shifted-365_mean</th>\n",
              "    </tr>\n",
              "    <tr>\n",
              "      <th>date</th>\n",
              "      <th></th>\n",
              "      <th></th>\n",
              "      <th></th>\n",
              "      <th></th>\n",
              "      <th></th>\n",
              "      <th></th>\n",
              "      <th></th>\n",
              "      <th></th>\n",
              "      <th></th>\n",
              "      <th></th>\n",
              "      <th></th>\n",
              "      <th></th>\n",
              "      <th></th>\n",
              "      <th></th>\n",
              "      <th></th>\n",
              "      <th></th>\n",
              "      <th></th>\n",
              "      <th></th>\n",
              "      <th></th>\n",
              "      <th></th>\n",
              "      <th></th>\n",
              "      <th></th>\n",
              "      <th></th>\n",
              "      <th></th>\n",
              "      <th></th>\n",
              "      <th></th>\n",
              "      <th></th>\n",
              "      <th></th>\n",
              "      <th></th>\n",
              "      <th></th>\n",
              "      <th></th>\n",
              "      <th></th>\n",
              "      <th></th>\n",
              "      <th></th>\n",
              "      <th></th>\n",
              "      <th></th>\n",
              "      <th></th>\n",
              "      <th></th>\n",
              "      <th></th>\n",
              "      <th></th>\n",
              "      <th></th>\n",
              "    </tr>\n",
              "  </thead>\n",
              "  <tbody>\n",
              "    <tr>\n",
              "      <th>2013-01-01</th>\n",
              "      <td>1</td>\n",
              "      <td>1</td>\n",
              "      <td>3.818101</td>\n",
              "      <td>2013</td>\n",
              "      <td>1</td>\n",
              "      <td>1</td>\n",
              "      <td>1</td>\n",
              "      <td>1</td>\n",
              "      <td>1</td>\n",
              "      <td>1</td>\n",
              "      <td>False</td>\n",
              "      <td>True</td>\n",
              "      <td>False</td>\n",
              "      <td>True</td>\n",
              "      <td>False</td>\n",
              "      <td>True</td>\n",
              "      <td>4.569984</td>\n",
              "      <td>4.527395</td>\n",
              "      <td>3.958059</td>\n",
              "      <td>3.904389</td>\n",
              "      <td>5.596474</td>\n",
              "      <td>4.678463</td>\n",
              "      <td>4.697014</td>\n",
              "      <td>6.506714</td>\n",
              "      <td>6.411065</td>\n",
              "      <td>3.818101</td>\n",
              "      <td>3.821127</td>\n",
              "      <td>3.904389</td>\n",
              "      <td>5.472455</td>\n",
              "      <td>963.756472</td>\n",
              "      <td>4.589317</td>\n",
              "      <td>6624.166161</td>\n",
              "      <td>6.308730</td>\n",
              "      <td>1084.552153</td>\n",
              "      <td>5.164534</td>\n",
              "      <td>7345.195287</td>\n",
              "      <td>6.995424</td>\n",
              "      <td>731.908797</td>\n",
              "      <td>3.852152</td>\n",
              "      <td>5125.572205</td>\n",
              "      <td>5.395339</td>\n",
              "    </tr>\n",
              "    <tr>\n",
              "      <th>2013-01-01</th>\n",
              "      <td>7</td>\n",
              "      <td>12</td>\n",
              "      <td>5.259961</td>\n",
              "      <td>2013</td>\n",
              "      <td>1</td>\n",
              "      <td>1</td>\n",
              "      <td>1</td>\n",
              "      <td>1</td>\n",
              "      <td>1</td>\n",
              "      <td>1</td>\n",
              "      <td>False</td>\n",
              "      <td>True</td>\n",
              "      <td>False</td>\n",
              "      <td>True</td>\n",
              "      <td>False</td>\n",
              "      <td>True</td>\n",
              "      <td>6.687790</td>\n",
              "      <td>6.663152</td>\n",
              "      <td>6.628401</td>\n",
              "      <td>6.586085</td>\n",
              "      <td>4.982614</td>\n",
              "      <td>7.671526</td>\n",
              "      <td>7.655170</td>\n",
              "      <td>5.828441</td>\n",
              "      <td>5.740995</td>\n",
              "      <td>5.752854</td>\n",
              "      <td>5.795187</td>\n",
              "      <td>6.586085</td>\n",
              "      <td>4.873571</td>\n",
              "      <td>1590.624040</td>\n",
              "      <td>7.574400</td>\n",
              "      <td>5938.527052</td>\n",
              "      <td>5.655740</td>\n",
              "      <td>1757.588498</td>\n",
              "      <td>8.369469</td>\n",
              "      <td>6613.029960</td>\n",
              "      <td>6.298124</td>\n",
              "      <td>1232.660227</td>\n",
              "      <td>6.487685</td>\n",
              "      <td>4550.466451</td>\n",
              "      <td>4.789965</td>\n",
              "    </tr>\n",
              "    <tr>\n",
              "      <th>2013-01-01</th>\n",
              "      <td>7</td>\n",
              "      <td>46</td>\n",
              "      <td>5.347358</td>\n",
              "      <td>2013</td>\n",
              "      <td>1</td>\n",
              "      <td>1</td>\n",
              "      <td>1</td>\n",
              "      <td>1</td>\n",
              "      <td>1</td>\n",
              "      <td>1</td>\n",
              "      <td>False</td>\n",
              "      <td>True</td>\n",
              "      <td>False</td>\n",
              "      <td>True</td>\n",
              "      <td>False</td>\n",
              "      <td>True</td>\n",
              "      <td>6.250575</td>\n",
              "      <td>6.197591</td>\n",
              "      <td>6.183614</td>\n",
              "      <td>6.152525</td>\n",
              "      <td>4.982614</td>\n",
              "      <td>7.184414</td>\n",
              "      <td>7.152859</td>\n",
              "      <td>5.828441</td>\n",
              "      <td>5.740995</td>\n",
              "      <td>5.259961</td>\n",
              "      <td>5.380408</td>\n",
              "      <td>6.152525</td>\n",
              "      <td>4.873571</td>\n",
              "      <td>1469.902759</td>\n",
              "      <td>6.999537</td>\n",
              "      <td>5938.527052</td>\n",
              "      <td>5.655740</td>\n",
              "      <td>1643.104769</td>\n",
              "      <td>7.824308</td>\n",
              "      <td>6613.029960</td>\n",
              "      <td>6.298124</td>\n",
              "      <td>1155.420020</td>\n",
              "      <td>6.081158</td>\n",
              "      <td>4550.466451</td>\n",
              "      <td>4.789965</td>\n",
              "    </tr>\n",
              "    <tr>\n",
              "      <th>2013-01-01</th>\n",
              "      <td>8</td>\n",
              "      <td>12</td>\n",
              "      <td>7.132271</td>\n",
              "      <td>2013</td>\n",
              "      <td>1</td>\n",
              "      <td>1</td>\n",
              "      <td>1</td>\n",
              "      <td>1</td>\n",
              "      <td>1</td>\n",
              "      <td>1</td>\n",
              "      <td>False</td>\n",
              "      <td>True</td>\n",
              "      <td>False</td>\n",
              "      <td>True</td>\n",
              "      <td>False</td>\n",
              "      <td>True</td>\n",
              "      <td>8.425967</td>\n",
              "      <td>8.346525</td>\n",
              "      <td>6.628401</td>\n",
              "      <td>6.586085</td>\n",
              "      <td>6.380888</td>\n",
              "      <td>7.671526</td>\n",
              "      <td>7.655170</td>\n",
              "      <td>7.336841</td>\n",
              "      <td>7.256256</td>\n",
              "      <td>7.158343</td>\n",
              "      <td>7.300378</td>\n",
              "      <td>6.586085</td>\n",
              "      <td>6.243566</td>\n",
              "      <td>1590.624040</td>\n",
              "      <td>7.574400</td>\n",
              "      <td>7508.759995</td>\n",
              "      <td>7.151200</td>\n",
              "      <td>1757.588498</td>\n",
              "      <td>8.369469</td>\n",
              "      <td>8298.976609</td>\n",
              "      <td>7.903787</td>\n",
              "      <td>1232.660227</td>\n",
              "      <td>6.487685</td>\n",
              "      <td>5822.322075</td>\n",
              "      <td>6.128760</td>\n",
              "    </tr>\n",
              "    <tr>\n",
              "      <th>2013-01-01</th>\n",
              "      <td>9</td>\n",
              "      <td>12</td>\n",
              "      <td>5.974842</td>\n",
              "      <td>2013</td>\n",
              "      <td>1</td>\n",
              "      <td>1</td>\n",
              "      <td>1</td>\n",
              "      <td>1</td>\n",
              "      <td>1</td>\n",
              "      <td>1</td>\n",
              "      <td>False</td>\n",
              "      <td>True</td>\n",
              "      <td>False</td>\n",
              "      <td>True</td>\n",
              "      <td>False</td>\n",
              "      <td>True</td>\n",
              "      <td>7.894915</td>\n",
              "      <td>7.857984</td>\n",
              "      <td>6.628401</td>\n",
              "      <td>6.586085</td>\n",
              "      <td>5.974842</td>\n",
              "      <td>7.671526</td>\n",
              "      <td>7.655170</td>\n",
              "      <td>6.916448</td>\n",
              "      <td>6.823100</td>\n",
              "      <td>6.803835</td>\n",
              "      <td>6.807733</td>\n",
              "      <td>6.586085</td>\n",
              "      <td>5.838914</td>\n",
              "      <td>1590.624040</td>\n",
              "      <td>7.574400</td>\n",
              "      <td>7054.560930</td>\n",
              "      <td>6.718629</td>\n",
              "      <td>1757.588498</td>\n",
              "      <td>8.369469</td>\n",
              "      <td>7818.530826</td>\n",
              "      <td>7.446220</td>\n",
              "      <td>1232.660227</td>\n",
              "      <td>6.487685</td>\n",
              "      <td>5472.253941</td>\n",
              "      <td>5.760267</td>\n",
              "    </tr>\n",
              "  </tbody>\n",
              "</table>\n",
              "</div>"
            ],
            "text/plain": [
              "            store  ...  store-week_shifted-365_mean\n",
              "date               ...                             \n",
              "2013-01-01      1  ...                     5.395339\n",
              "2013-01-01      7  ...                     4.789965\n",
              "2013-01-01      7  ...                     4.789965\n",
              "2013-01-01      8  ...                     6.128760\n",
              "2013-01-01      9  ...                     5.760267\n",
              "\n",
              "[5 rows x 41 columns]"
            ]
          },
          "metadata": {
            "tags": []
          }
        },
        {
          "output_type": "display_data",
          "data": {
            "text/html": [
              "<div>\n",
              "<style scoped>\n",
              "    .dataframe tbody tr th:only-of-type {\n",
              "        vertical-align: middle;\n",
              "    }\n",
              "\n",
              "    .dataframe tbody tr th {\n",
              "        vertical-align: top;\n",
              "    }\n",
              "\n",
              "    .dataframe thead th {\n",
              "        text-align: right;\n",
              "    }\n",
              "</style>\n",
              "<table border=\"1\" class=\"dataframe\">\n",
              "  <thead>\n",
              "    <tr style=\"text-align: right;\">\n",
              "      <th></th>\n",
              "      <th>store</th>\n",
              "      <th>item</th>\n",
              "      <th>sales</th>\n",
              "      <th>Year</th>\n",
              "      <th>Month</th>\n",
              "      <th>Week</th>\n",
              "      <th>Day</th>\n",
              "      <th>Dayofweek</th>\n",
              "      <th>Dayofyear</th>\n",
              "      <th>weekofyear</th>\n",
              "      <th>Is_month_end</th>\n",
              "      <th>Is_month_start</th>\n",
              "      <th>Is_quarter_end</th>\n",
              "      <th>Is_quarter_start</th>\n",
              "      <th>Is_year_end</th>\n",
              "      <th>Is_year_start</th>\n",
              "      <th>median-store_item</th>\n",
              "      <th>mean-store_item</th>\n",
              "      <th>median-month_item</th>\n",
              "      <th>mean-month_item</th>\n",
              "      <th>median-month_store</th>\n",
              "      <th>median-item</th>\n",
              "      <th>mean-item</th>\n",
              "      <th>median-store</th>\n",
              "      <th>mean-store</th>\n",
              "      <th>median-store_item-month</th>\n",
              "      <th>mean-store_item-week</th>\n",
              "      <th>item-month-mean</th>\n",
              "      <th>store-month-mean</th>\n",
              "      <th>item-week_shifted-91_sum</th>\n",
              "      <th>item-week_shifted-91_mean</th>\n",
              "      <th>store-week_shifted-91_sum</th>\n",
              "      <th>store-week_shifted-91_mean</th>\n",
              "      <th>item-week_shifted-182_sum</th>\n",
              "      <th>item-week_shifted-182_mean</th>\n",
              "      <th>store-week_shifted-182_sum</th>\n",
              "      <th>store-week_shifted-182_mean</th>\n",
              "      <th>item-week_shifted-365_sum</th>\n",
              "      <th>item-week_shifted-365_mean</th>\n",
              "      <th>store-week_shifted-365_sum</th>\n",
              "      <th>store-week_shifted-365_mean</th>\n",
              "    </tr>\n",
              "    <tr>\n",
              "      <th>date</th>\n",
              "      <th></th>\n",
              "      <th></th>\n",
              "      <th></th>\n",
              "      <th></th>\n",
              "      <th></th>\n",
              "      <th></th>\n",
              "      <th></th>\n",
              "      <th></th>\n",
              "      <th></th>\n",
              "      <th></th>\n",
              "      <th></th>\n",
              "      <th></th>\n",
              "      <th></th>\n",
              "      <th></th>\n",
              "      <th></th>\n",
              "      <th></th>\n",
              "      <th></th>\n",
              "      <th></th>\n",
              "      <th></th>\n",
              "      <th></th>\n",
              "      <th></th>\n",
              "      <th></th>\n",
              "      <th></th>\n",
              "      <th></th>\n",
              "      <th></th>\n",
              "      <th></th>\n",
              "      <th></th>\n",
              "      <th></th>\n",
              "      <th></th>\n",
              "      <th></th>\n",
              "      <th></th>\n",
              "      <th></th>\n",
              "      <th></th>\n",
              "      <th></th>\n",
              "      <th></th>\n",
              "      <th></th>\n",
              "      <th></th>\n",
              "      <th></th>\n",
              "      <th></th>\n",
              "      <th></th>\n",
              "      <th></th>\n",
              "    </tr>\n",
              "  </thead>\n",
              "  <tbody>\n",
              "    <tr>\n",
              "      <th>2016-12-31</th>\n",
              "      <td>6</td>\n",
              "      <td>18</td>\n",
              "      <td>7.435320</td>\n",
              "      <td>2016</td>\n",
              "      <td>12</td>\n",
              "      <td>52</td>\n",
              "      <td>31</td>\n",
              "      <td>5</td>\n",
              "      <td>366</td>\n",
              "      <td>52</td>\n",
              "      <td>True</td>\n",
              "      <td>False</td>\n",
              "      <td>True</td>\n",
              "      <td>False</td>\n",
              "      <td>True</td>\n",
              "      <td>False</td>\n",
              "      <td>7.483671</td>\n",
              "      <td>7.431869</td>\n",
              "      <td>7.435320</td>\n",
              "      <td>7.404443</td>\n",
              "      <td>5.432488</td>\n",
              "      <td>8.269425</td>\n",
              "      <td>8.240876</td>\n",
              "      <td>6.045808</td>\n",
              "      <td>5.963236</td>\n",
              "      <td>6.746257</td>\n",
              "      <td>6.715737</td>\n",
              "      <td>7.404443</td>\n",
              "      <td>5.299893</td>\n",
              "      <td>2268.328656</td>\n",
              "      <td>8.401217</td>\n",
              "      <td>8226.254044</td>\n",
              "      <td>6.093522</td>\n",
              "      <td>2398.228910</td>\n",
              "      <td>8.882329</td>\n",
              "      <td>8727.592490</td>\n",
              "      <td>6.464883</td>\n",
              "      <td>1452.024881</td>\n",
              "      <td>7.260124</td>\n",
              "      <td>5188.108846</td>\n",
              "      <td>5.188109</td>\n",
              "    </tr>\n",
              "    <tr>\n",
              "      <th>2016-12-31</th>\n",
              "      <td>1</td>\n",
              "      <td>42</td>\n",
              "      <td>5.675562</td>\n",
              "      <td>2016</td>\n",
              "      <td>12</td>\n",
              "      <td>52</td>\n",
              "      <td>31</td>\n",
              "      <td>5</td>\n",
              "      <td>366</td>\n",
              "      <td>52</td>\n",
              "      <td>True</td>\n",
              "      <td>False</td>\n",
              "      <td>True</td>\n",
              "      <td>False</td>\n",
              "      <td>True</td>\n",
              "      <td>False</td>\n",
              "      <td>5.675562</td>\n",
              "      <td>5.685750</td>\n",
              "      <td>5.259961</td>\n",
              "      <td>5.236845</td>\n",
              "      <td>5.828441</td>\n",
              "      <td>5.902411</td>\n",
              "      <td>5.897281</td>\n",
              "      <td>6.506714</td>\n",
              "      <td>6.411065</td>\n",
              "      <td>5.170150</td>\n",
              "      <td>4.938028</td>\n",
              "      <td>5.236845</td>\n",
              "      <td>5.716837</td>\n",
              "      <td>1628.825925</td>\n",
              "      <td>6.032689</td>\n",
              "      <td>8859.917310</td>\n",
              "      <td>6.562902</td>\n",
              "      <td>1727.960921</td>\n",
              "      <td>6.399855</td>\n",
              "      <td>9361.032087</td>\n",
              "      <td>6.934098</td>\n",
              "      <td>1025.364601</td>\n",
              "      <td>5.126823</td>\n",
              "      <td>5598.946972</td>\n",
              "      <td>5.598947</td>\n",
              "    </tr>\n",
              "    <tr>\n",
              "      <th>2016-12-31</th>\n",
              "      <td>4</td>\n",
              "      <td>6</td>\n",
              "      <td>6.380888</td>\n",
              "      <td>2016</td>\n",
              "      <td>12</td>\n",
              "      <td>52</td>\n",
              "      <td>31</td>\n",
              "      <td>5</td>\n",
              "      <td>366</td>\n",
              "      <td>52</td>\n",
              "      <td>True</td>\n",
              "      <td>False</td>\n",
              "      <td>True</td>\n",
              "      <td>False</td>\n",
              "      <td>True</td>\n",
              "      <td>False</td>\n",
              "      <td>7.386382</td>\n",
              "      <td>7.327198</td>\n",
              "      <td>6.444339</td>\n",
              "      <td>6.380553</td>\n",
              "      <td>6.183614</td>\n",
              "      <td>7.132271</td>\n",
              "      <td>7.145702</td>\n",
              "      <td>6.860556</td>\n",
              "      <td>6.817291</td>\n",
              "      <td>6.506714</td>\n",
              "      <td>6.504196</td>\n",
              "      <td>6.380553</td>\n",
              "      <td>6.088225</td>\n",
              "      <td>1957.401493</td>\n",
              "      <td>7.249635</td>\n",
              "      <td>9377.157795</td>\n",
              "      <td>6.946043</td>\n",
              "      <td>2090.665214</td>\n",
              "      <td>7.743204</td>\n",
              "      <td>9965.219247</td>\n",
              "      <td>7.381644</td>\n",
              "      <td>1252.763950</td>\n",
              "      <td>6.263820</td>\n",
              "      <td>5975.750192</td>\n",
              "      <td>5.975750</td>\n",
              "    </tr>\n",
              "    <tr>\n",
              "      <th>2016-12-31</th>\n",
              "      <td>9</td>\n",
              "      <td>4</td>\n",
              "      <td>4.340450</td>\n",
              "      <td>2016</td>\n",
              "      <td>12</td>\n",
              "      <td>52</td>\n",
              "      <td>31</td>\n",
              "      <td>5</td>\n",
              "      <td>366</td>\n",
              "      <td>52</td>\n",
              "      <td>True</td>\n",
              "      <td>False</td>\n",
              "      <td>True</td>\n",
              "      <td>False</td>\n",
              "      <td>True</td>\n",
              "      <td>False</td>\n",
              "      <td>4.884505</td>\n",
              "      <td>4.842769</td>\n",
              "      <td>4.218579</td>\n",
              "      <td>4.131074</td>\n",
              "      <td>6.183614</td>\n",
              "      <td>4.678463</td>\n",
              "      <td>4.706085</td>\n",
              "      <td>6.916448</td>\n",
              "      <td>6.823100</td>\n",
              "      <td>4.340450</td>\n",
              "      <td>4.297271</td>\n",
              "      <td>4.131074</td>\n",
              "      <td>6.087868</td>\n",
              "      <td>1292.656353</td>\n",
              "      <td>4.787616</td>\n",
              "      <td>9413.245655</td>\n",
              "      <td>6.972775</td>\n",
              "      <td>1387.897042</td>\n",
              "      <td>5.140359</td>\n",
              "      <td>9966.933974</td>\n",
              "      <td>7.382914</td>\n",
              "      <td>795.216262</td>\n",
              "      <td>3.976081</td>\n",
              "      <td>5962.370140</td>\n",
              "      <td>5.962370</td>\n",
              "    </tr>\n",
              "    <tr>\n",
              "      <th>2016-12-31</th>\n",
              "      <td>3</td>\n",
              "      <td>33</td>\n",
              "      <td>8.065436</td>\n",
              "      <td>2016</td>\n",
              "      <td>12</td>\n",
              "      <td>52</td>\n",
              "      <td>31</td>\n",
              "      <td>5</td>\n",
              "      <td>366</td>\n",
              "      <td>52</td>\n",
              "      <td>True</td>\n",
              "      <td>False</td>\n",
              "      <td>True</td>\n",
              "      <td>False</td>\n",
              "      <td>True</td>\n",
              "      <td>False</td>\n",
              "      <td>8.148197</td>\n",
              "      <td>8.090959</td>\n",
              "      <td>6.916448</td>\n",
              "      <td>6.875107</td>\n",
              "      <td>6.444339</td>\n",
              "      <td>7.671526</td>\n",
              "      <td>7.651051</td>\n",
              "      <td>7.132271</td>\n",
              "      <td>7.041855</td>\n",
              "      <td>7.286679</td>\n",
              "      <td>7.369958</td>\n",
              "      <td>6.875107</td>\n",
              "      <td>6.299059</td>\n",
              "      <td>2109.509410</td>\n",
              "      <td>7.812998</td>\n",
              "      <td>9705.850091</td>\n",
              "      <td>7.189519</td>\n",
              "      <td>2223.289745</td>\n",
              "      <td>8.234406</td>\n",
              "      <td>10260.244896</td>\n",
              "      <td>7.600181</td>\n",
              "      <td>1351.527638</td>\n",
              "      <td>6.757638</td>\n",
              "      <td>6162.400638</td>\n",
              "      <td>6.162401</td>\n",
              "    </tr>\n",
              "  </tbody>\n",
              "</table>\n",
              "</div>"
            ],
            "text/plain": [
              "            store  ...  store-week_shifted-365_mean\n",
              "date               ...                             \n",
              "2016-12-31      6  ...                     5.188109\n",
              "2016-12-31      1  ...                     5.598947\n",
              "2016-12-31      4  ...                     5.975750\n",
              "2016-12-31      9  ...                     5.962370\n",
              "2016-12-31      3  ...                     6.162401\n",
              "\n",
              "[5 rows x 41 columns]"
            ]
          },
          "metadata": {
            "tags": []
          }
        }
      ]
    },
    {
      "cell_type": "code",
      "metadata": {
        "id": "eedzhZ4jgdYv",
        "colab_type": "code",
        "outputId": "9d123a1d-69aa-44e8-d4d0-ea34064af1a4",
        "colab": {
          "base_uri": "https://localhost:8080/",
          "height": 1000,
          "referenced_widgets": [
            "2c5404eff43c477babaf715cb16163a6",
            "fe8587630e154c8f9d8811f65092d2c8",
            "8234a5df3f05498c8825b1b3021ba446",
            "2e94bbd6232b4c3b8d86d866d1fa2be0",
            "4b97dd10ccde43788108fd5af8750a30",
            "0dbfbce7733b4f0ea4a9508cc48b2630",
            "e10cf9677afd4591bb63629706821c21",
            "0404397f22164f06b17653f79cbe7d78"
          ]
        }
      },
      "source": [
        "def set_test_feature(source: pd.DataFrame, df_target: pd.DataFrame) -> pd.DataFrame:\n",
        "    \"\"\" テストデータに対して近傍のデータから値を設定する.\n",
        "\n",
        "    Notes:\n",
        "        - fillna などを行うよりも transform してしまったほうが、計算速度がかなり速いため、\n",
        "            最頻値(Noneを除く)で埋めるように設定。\n",
        "    \"\"\"\n",
        "    target = df_target.copy()\n",
        "    columns = set(source.columns) - set(df_target.columns)\n",
        "    for column in columns:\n",
        "        target[column] = None\n",
        "\n",
        "    source_group = source.groupby([\"store\", \"item\", \"weekofyear\"]).agg(\"median\")\n",
        "    df_source = source_group.reset_index()\n",
        "    df_merge = pd.concat([df_source, target], axis=0)\n",
        "    for column in tqdm.tqdm(columns):\n",
        "        df_merge[column] = df_merge.groupby([\"store\", \"item\", \"weekofyear\"])[column].transform(lambda x: x.mode()[0])\n",
        "\n",
        "    df_merge = df_merge.iloc[df_source.shape[0]:].reset_index()\n",
        "    df_merge = df_merge.rename(columns={\"index\": \"date\"})\n",
        "    df_merge[\"date\"] = pd.to_datetime(df_merge[\"date\"])\n",
        "    df_merge = df_merge.set_index([\"date\"])\n",
        "    return df_merge\n",
        "\n",
        "%time df_test_feature = set_test_feature(df_train_feature, df_valid)\n",
        "logger.info(df_test_feature.info())\n",
        "display.display(df_test_feature.head())\n",
        "display.display(df_test_feature.tail())"
      ],
      "execution_count": 41,
      "outputs": [
        {
          "output_type": "display_data",
          "data": {
            "application/vnd.jupyter.widget-view+json": {
              "model_id": "2c5404eff43c477babaf715cb16163a6",
              "version_minor": 0,
              "version_major": 2
            },
            "text/plain": [
              "HBox(children=(IntProgress(value=0, max=25), HTML(value='')))"
            ]
          },
          "metadata": {
            "tags": []
          }
        },
        {
          "output_type": "stream",
          "text": [
            "INFO:__main__:None\n"
          ],
          "name": "stderr"
        },
        {
          "output_type": "stream",
          "text": [
            "\n",
            "CPU times: user 4min 51s, sys: 1.15 s, total: 4min 52s\n",
            "Wall time: 4min 53s\n",
            "<class 'pandas.core.frame.DataFrame'>\n",
            "DatetimeIndex: 182500 entries, 2017-01-01 to 2017-12-31\n",
            "Data columns (total 41 columns):\n",
            " #   Column                       Non-Null Count   Dtype  \n",
            "---  ------                       --------------   -----  \n",
            " 0   store                        182500 non-null  int64  \n",
            " 1   item                         182500 non-null  int64  \n",
            " 2   weekofyear                   182500 non-null  int64  \n",
            " 3   sales                        182500 non-null  float64\n",
            " 4   Year                         182500 non-null  float64\n",
            " 5   Month                        182500 non-null  float64\n",
            " 6   Week                         182500 non-null  float64\n",
            " 7   Day                          182500 non-null  float64\n",
            " 8   Dayofweek                    182500 non-null  float64\n",
            " 9   Dayofyear                    182500 non-null  float64\n",
            " 10  Is_month_end                 182500 non-null  bool   \n",
            " 11  Is_month_start               182500 non-null  bool   \n",
            " 12  Is_quarter_end               182500 non-null  bool   \n",
            " 13  Is_quarter_start             182500 non-null  bool   \n",
            " 14  Is_year_end                  182500 non-null  bool   \n",
            " 15  Is_year_start                182500 non-null  bool   \n",
            " 16  median-store_item            182500 non-null  float64\n",
            " 17  mean-store_item              182500 non-null  float64\n",
            " 18  median-month_item            182500 non-null  float64\n",
            " 19  mean-month_item              182500 non-null  float64\n",
            " 20  median-month_store           182500 non-null  float64\n",
            " 21  median-item                  182500 non-null  float64\n",
            " 22  mean-item                    182500 non-null  float64\n",
            " 23  median-store                 182500 non-null  float64\n",
            " 24  mean-store                   182500 non-null  float64\n",
            " 25  median-store_item-month      182500 non-null  float64\n",
            " 26  mean-store_item-week         182500 non-null  float64\n",
            " 27  item-month-mean              182500 non-null  float64\n",
            " 28  store-month-mean             182500 non-null  float64\n",
            " 29  item-week_shifted-91_sum     182500 non-null  float64\n",
            " 30  item-week_shifted-91_mean    182500 non-null  float64\n",
            " 31  store-week_shifted-91_sum    182500 non-null  float64\n",
            " 32  store-week_shifted-91_mean   182500 non-null  float64\n",
            " 33  item-week_shifted-182_sum    182500 non-null  float64\n",
            " 34  item-week_shifted-182_mean   182500 non-null  float64\n",
            " 35  store-week_shifted-182_sum   182500 non-null  float64\n",
            " 36  store-week_shifted-182_mean  182500 non-null  float64\n",
            " 37  item-week_shifted-365_sum    182500 non-null  float64\n",
            " 38  item-week_shifted-365_mean   182500 non-null  float64\n",
            " 39  store-week_shifted-365_sum   182500 non-null  float64\n",
            " 40  store-week_shifted-365_mean  182500 non-null  float64\n",
            "dtypes: bool(6), float64(32), int64(3)\n",
            "memory usage: 51.2 MB\n"
          ],
          "name": "stdout"
        },
        {
          "output_type": "display_data",
          "data": {
            "text/html": [
              "<div>\n",
              "<style scoped>\n",
              "    .dataframe tbody tr th:only-of-type {\n",
              "        vertical-align: middle;\n",
              "    }\n",
              "\n",
              "    .dataframe tbody tr th {\n",
              "        vertical-align: top;\n",
              "    }\n",
              "\n",
              "    .dataframe thead th {\n",
              "        text-align: right;\n",
              "    }\n",
              "</style>\n",
              "<table border=\"1\" class=\"dataframe\">\n",
              "  <thead>\n",
              "    <tr style=\"text-align: right;\">\n",
              "      <th></th>\n",
              "      <th>store</th>\n",
              "      <th>item</th>\n",
              "      <th>weekofyear</th>\n",
              "      <th>sales</th>\n",
              "      <th>Year</th>\n",
              "      <th>Month</th>\n",
              "      <th>Week</th>\n",
              "      <th>Day</th>\n",
              "      <th>Dayofweek</th>\n",
              "      <th>Dayofyear</th>\n",
              "      <th>Is_month_end</th>\n",
              "      <th>Is_month_start</th>\n",
              "      <th>Is_quarter_end</th>\n",
              "      <th>Is_quarter_start</th>\n",
              "      <th>Is_year_end</th>\n",
              "      <th>Is_year_start</th>\n",
              "      <th>median-store_item</th>\n",
              "      <th>mean-store_item</th>\n",
              "      <th>median-month_item</th>\n",
              "      <th>mean-month_item</th>\n",
              "      <th>median-month_store</th>\n",
              "      <th>median-item</th>\n",
              "      <th>mean-item</th>\n",
              "      <th>median-store</th>\n",
              "      <th>mean-store</th>\n",
              "      <th>median-store_item-month</th>\n",
              "      <th>mean-store_item-week</th>\n",
              "      <th>item-month-mean</th>\n",
              "      <th>store-month-mean</th>\n",
              "      <th>item-week_shifted-91_sum</th>\n",
              "      <th>item-week_shifted-91_mean</th>\n",
              "      <th>store-week_shifted-91_sum</th>\n",
              "      <th>store-week_shifted-91_mean</th>\n",
              "      <th>item-week_shifted-182_sum</th>\n",
              "      <th>item-week_shifted-182_mean</th>\n",
              "      <th>store-week_shifted-182_sum</th>\n",
              "      <th>store-week_shifted-182_mean</th>\n",
              "      <th>item-week_shifted-365_sum</th>\n",
              "      <th>item-week_shifted-365_mean</th>\n",
              "      <th>store-week_shifted-365_sum</th>\n",
              "      <th>store-week_shifted-365_mean</th>\n",
              "    </tr>\n",
              "    <tr>\n",
              "      <th>date</th>\n",
              "      <th></th>\n",
              "      <th></th>\n",
              "      <th></th>\n",
              "      <th></th>\n",
              "      <th></th>\n",
              "      <th></th>\n",
              "      <th></th>\n",
              "      <th></th>\n",
              "      <th></th>\n",
              "      <th></th>\n",
              "      <th></th>\n",
              "      <th></th>\n",
              "      <th></th>\n",
              "      <th></th>\n",
              "      <th></th>\n",
              "      <th></th>\n",
              "      <th></th>\n",
              "      <th></th>\n",
              "      <th></th>\n",
              "      <th></th>\n",
              "      <th></th>\n",
              "      <th></th>\n",
              "      <th></th>\n",
              "      <th></th>\n",
              "      <th></th>\n",
              "      <th></th>\n",
              "      <th></th>\n",
              "      <th></th>\n",
              "      <th></th>\n",
              "      <th></th>\n",
              "      <th></th>\n",
              "      <th></th>\n",
              "      <th></th>\n",
              "      <th></th>\n",
              "      <th></th>\n",
              "      <th></th>\n",
              "      <th></th>\n",
              "      <th></th>\n",
              "      <th></th>\n",
              "      <th></th>\n",
              "      <th></th>\n",
              "    </tr>\n",
              "  </thead>\n",
              "  <tbody>\n",
              "    <tr>\n",
              "      <th>2017-01-01</th>\n",
              "      <td>4</td>\n",
              "      <td>27</td>\n",
              "      <td>52</td>\n",
              "      <td>18.0</td>\n",
              "      <td>2017.0</td>\n",
              "      <td>1.0</td>\n",
              "      <td>52.0</td>\n",
              "      <td>1.0</td>\n",
              "      <td>6.0</td>\n",
              "      <td>1.0</td>\n",
              "      <td>False</td>\n",
              "      <td>True</td>\n",
              "      <td>False</td>\n",
              "      <td>True</td>\n",
              "      <td>False</td>\n",
              "      <td>True</td>\n",
              "      <td>4.884505</td>\n",
              "      <td>4.843058</td>\n",
              "      <td>4.218579</td>\n",
              "      <td>4.131065</td>\n",
              "      <td>6.183614</td>\n",
              "      <td>4.783206</td>\n",
              "      <td>4.705122</td>\n",
              "      <td>6.860556</td>\n",
              "      <td>6.817291</td>\n",
              "      <td>4.218579</td>\n",
              "      <td>4.203570</td>\n",
              "      <td>4.131065</td>\n",
              "      <td>6.088225</td>\n",
              "      <td>1288.708216</td>\n",
              "      <td>4.772993</td>\n",
              "      <td>9377.157795</td>\n",
              "      <td>6.946043</td>\n",
              "      <td>1392.193496</td>\n",
              "      <td>5.156272</td>\n",
              "      <td>9965.219247</td>\n",
              "      <td>7.381644</td>\n",
              "      <td>812.844848</td>\n",
              "      <td>4.064224</td>\n",
              "      <td>5975.750192</td>\n",
              "      <td>5.975750</td>\n",
              "    </tr>\n",
              "    <tr>\n",
              "      <th>2017-01-01</th>\n",
              "      <td>1</td>\n",
              "      <td>39</td>\n",
              "      <td>52</td>\n",
              "      <td>36.0</td>\n",
              "      <td>2017.0</td>\n",
              "      <td>1.0</td>\n",
              "      <td>52.0</td>\n",
              "      <td>1.0</td>\n",
              "      <td>6.0</td>\n",
              "      <td>1.0</td>\n",
              "      <td>False</td>\n",
              "      <td>True</td>\n",
              "      <td>False</td>\n",
              "      <td>True</td>\n",
              "      <td>False</td>\n",
              "      <td>True</td>\n",
              "      <td>6.183614</td>\n",
              "      <td>6.130313</td>\n",
              "      <td>5.675562</td>\n",
              "      <td>5.644907</td>\n",
              "      <td>5.828441</td>\n",
              "      <td>6.380888</td>\n",
              "      <td>6.354694</td>\n",
              "      <td>6.506714</td>\n",
              "      <td>6.411065</td>\n",
              "      <td>5.515486</td>\n",
              "      <td>5.482372</td>\n",
              "      <td>5.644907</td>\n",
              "      <td>5.716837</td>\n",
              "      <td>1752.567980</td>\n",
              "      <td>6.490993</td>\n",
              "      <td>8859.917310</td>\n",
              "      <td>6.562902</td>\n",
              "      <td>1854.218436</td>\n",
              "      <td>6.867476</td>\n",
              "      <td>9361.032087</td>\n",
              "      <td>6.934098</td>\n",
              "      <td>1105.277448</td>\n",
              "      <td>5.526387</td>\n",
              "      <td>5598.946972</td>\n",
              "      <td>5.598947</td>\n",
              "    </tr>\n",
              "    <tr>\n",
              "      <th>2017-01-01</th>\n",
              "      <td>1</td>\n",
              "      <td>46</td>\n",
              "      <td>52</td>\n",
              "      <td>38.0</td>\n",
              "      <td>2017.0</td>\n",
              "      <td>1.0</td>\n",
              "      <td>52.0</td>\n",
              "      <td>1.0</td>\n",
              "      <td>6.0</td>\n",
              "      <td>1.0</td>\n",
              "      <td>False</td>\n",
              "      <td>True</td>\n",
              "      <td>False</td>\n",
              "      <td>True</td>\n",
              "      <td>False</td>\n",
              "      <td>True</td>\n",
              "      <td>6.916448</td>\n",
              "      <td>6.896732</td>\n",
              "      <td>6.380888</td>\n",
              "      <td>6.390554</td>\n",
              "      <td>5.828441</td>\n",
              "      <td>7.184414</td>\n",
              "      <td>7.152859</td>\n",
              "      <td>6.506714</td>\n",
              "      <td>6.411065</td>\n",
              "      <td>6.183614</td>\n",
              "      <td>6.110280</td>\n",
              "      <td>6.390554</td>\n",
              "      <td>5.716837</td>\n",
              "      <td>1968.337516</td>\n",
              "      <td>7.290139</td>\n",
              "      <td>8859.917310</td>\n",
              "      <td>6.562902</td>\n",
              "      <td>2089.097345</td>\n",
              "      <td>7.737398</td>\n",
              "      <td>9361.032087</td>\n",
              "      <td>6.934098</td>\n",
              "      <td>1252.954416</td>\n",
              "      <td>6.264772</td>\n",
              "      <td>5598.946972</td>\n",
              "      <td>5.598947</td>\n",
              "    </tr>\n",
              "    <tr>\n",
              "      <th>2017-01-01</th>\n",
              "      <td>7</td>\n",
              "      <td>29</td>\n",
              "      <td>52</td>\n",
              "      <td>43.0</td>\n",
              "      <td>2017.0</td>\n",
              "      <td>1.0</td>\n",
              "      <td>52.0</td>\n",
              "      <td>1.0</td>\n",
              "      <td>6.0</td>\n",
              "      <td>1.0</td>\n",
              "      <td>False</td>\n",
              "      <td>True</td>\n",
              "      <td>False</td>\n",
              "      <td>True</td>\n",
              "      <td>False</td>\n",
              "      <td>True</td>\n",
              "      <td>6.687790</td>\n",
              "      <td>6.666370</td>\n",
              "      <td>6.860556</td>\n",
              "      <td>6.847176</td>\n",
              "      <td>5.170150</td>\n",
              "      <td>7.671526</td>\n",
              "      <td>7.653941</td>\n",
              "      <td>5.828441</td>\n",
              "      <td>5.740995</td>\n",
              "      <td>5.974842</td>\n",
              "      <td>5.864579</td>\n",
              "      <td>6.847176</td>\n",
              "      <td>5.084258</td>\n",
              "      <td>2118.524733</td>\n",
              "      <td>7.846388</td>\n",
              "      <td>7913.085842</td>\n",
              "      <td>5.861545</td>\n",
              "      <td>2216.955772</td>\n",
              "      <td>8.210947</td>\n",
              "      <td>8439.921166</td>\n",
              "      <td>6.251793</td>\n",
              "      <td>1342.669579</td>\n",
              "      <td>6.713348</td>\n",
              "      <td>4964.100166</td>\n",
              "      <td>4.964100</td>\n",
              "    </tr>\n",
              "    <tr>\n",
              "      <th>2017-01-01</th>\n",
              "      <td>9</td>\n",
              "      <td>35</td>\n",
              "      <td>52</td>\n",
              "      <td>66.0</td>\n",
              "      <td>2017.0</td>\n",
              "      <td>1.0</td>\n",
              "      <td>52.0</td>\n",
              "      <td>1.0</td>\n",
              "      <td>6.0</td>\n",
              "      <td>1.0</td>\n",
              "      <td>False</td>\n",
              "      <td>True</td>\n",
              "      <td>False</td>\n",
              "      <td>True</td>\n",
              "      <td>False</td>\n",
              "      <td>True</td>\n",
              "      <td>7.762327</td>\n",
              "      <td>7.698499</td>\n",
              "      <td>6.746257</td>\n",
              "      <td>6.699870</td>\n",
              "      <td>6.183614</td>\n",
              "      <td>7.483671</td>\n",
              "      <td>7.485798</td>\n",
              "      <td>6.916448</td>\n",
              "      <td>6.823100</td>\n",
              "      <td>6.971539</td>\n",
              "      <td>6.769206</td>\n",
              "      <td>6.699870</td>\n",
              "      <td>6.087868</td>\n",
              "      <td>2055.398482</td>\n",
              "      <td>7.612587</td>\n",
              "      <td>9413.245655</td>\n",
              "      <td>6.972775</td>\n",
              "      <td>2180.170888</td>\n",
              "      <td>8.074707</td>\n",
              "      <td>9966.933974</td>\n",
              "      <td>7.382914</td>\n",
              "      <td>1321.989665</td>\n",
              "      <td>6.609948</td>\n",
              "      <td>5962.370140</td>\n",
              "      <td>5.962370</td>\n",
              "    </tr>\n",
              "  </tbody>\n",
              "</table>\n",
              "</div>"
            ],
            "text/plain": [
              "            store  ...  store-week_shifted-365_mean\n",
              "date               ...                             \n",
              "2017-01-01      4  ...                     5.975750\n",
              "2017-01-01      1  ...                     5.598947\n",
              "2017-01-01      1  ...                     5.598947\n",
              "2017-01-01      7  ...                     4.964100\n",
              "2017-01-01      9  ...                     5.962370\n",
              "\n",
              "[5 rows x 41 columns]"
            ]
          },
          "metadata": {
            "tags": []
          }
        },
        {
          "output_type": "display_data",
          "data": {
            "text/html": [
              "<div>\n",
              "<style scoped>\n",
              "    .dataframe tbody tr th:only-of-type {\n",
              "        vertical-align: middle;\n",
              "    }\n",
              "\n",
              "    .dataframe tbody tr th {\n",
              "        vertical-align: top;\n",
              "    }\n",
              "\n",
              "    .dataframe thead th {\n",
              "        text-align: right;\n",
              "    }\n",
              "</style>\n",
              "<table border=\"1\" class=\"dataframe\">\n",
              "  <thead>\n",
              "    <tr style=\"text-align: right;\">\n",
              "      <th></th>\n",
              "      <th>store</th>\n",
              "      <th>item</th>\n",
              "      <th>weekofyear</th>\n",
              "      <th>sales</th>\n",
              "      <th>Year</th>\n",
              "      <th>Month</th>\n",
              "      <th>Week</th>\n",
              "      <th>Day</th>\n",
              "      <th>Dayofweek</th>\n",
              "      <th>Dayofyear</th>\n",
              "      <th>Is_month_end</th>\n",
              "      <th>Is_month_start</th>\n",
              "      <th>Is_quarter_end</th>\n",
              "      <th>Is_quarter_start</th>\n",
              "      <th>Is_year_end</th>\n",
              "      <th>Is_year_start</th>\n",
              "      <th>median-store_item</th>\n",
              "      <th>mean-store_item</th>\n",
              "      <th>median-month_item</th>\n",
              "      <th>mean-month_item</th>\n",
              "      <th>median-month_store</th>\n",
              "      <th>median-item</th>\n",
              "      <th>mean-item</th>\n",
              "      <th>median-store</th>\n",
              "      <th>mean-store</th>\n",
              "      <th>median-store_item-month</th>\n",
              "      <th>mean-store_item-week</th>\n",
              "      <th>item-month-mean</th>\n",
              "      <th>store-month-mean</th>\n",
              "      <th>item-week_shifted-91_sum</th>\n",
              "      <th>item-week_shifted-91_mean</th>\n",
              "      <th>store-week_shifted-91_sum</th>\n",
              "      <th>store-week_shifted-91_mean</th>\n",
              "      <th>item-week_shifted-182_sum</th>\n",
              "      <th>item-week_shifted-182_mean</th>\n",
              "      <th>store-week_shifted-182_sum</th>\n",
              "      <th>store-week_shifted-182_mean</th>\n",
              "      <th>item-week_shifted-365_sum</th>\n",
              "      <th>item-week_shifted-365_mean</th>\n",
              "      <th>store-week_shifted-365_sum</th>\n",
              "      <th>store-week_shifted-365_mean</th>\n",
              "    </tr>\n",
              "    <tr>\n",
              "      <th>date</th>\n",
              "      <th></th>\n",
              "      <th></th>\n",
              "      <th></th>\n",
              "      <th></th>\n",
              "      <th></th>\n",
              "      <th></th>\n",
              "      <th></th>\n",
              "      <th></th>\n",
              "      <th></th>\n",
              "      <th></th>\n",
              "      <th></th>\n",
              "      <th></th>\n",
              "      <th></th>\n",
              "      <th></th>\n",
              "      <th></th>\n",
              "      <th></th>\n",
              "      <th></th>\n",
              "      <th></th>\n",
              "      <th></th>\n",
              "      <th></th>\n",
              "      <th></th>\n",
              "      <th></th>\n",
              "      <th></th>\n",
              "      <th></th>\n",
              "      <th></th>\n",
              "      <th></th>\n",
              "      <th></th>\n",
              "      <th></th>\n",
              "      <th></th>\n",
              "      <th></th>\n",
              "      <th></th>\n",
              "      <th></th>\n",
              "      <th></th>\n",
              "      <th></th>\n",
              "      <th></th>\n",
              "      <th></th>\n",
              "      <th></th>\n",
              "      <th></th>\n",
              "      <th></th>\n",
              "      <th></th>\n",
              "      <th></th>\n",
              "    </tr>\n",
              "  </thead>\n",
              "  <tbody>\n",
              "    <tr>\n",
              "      <th>2017-12-31</th>\n",
              "      <td>9</td>\n",
              "      <td>34</td>\n",
              "      <td>52</td>\n",
              "      <td>21.0</td>\n",
              "      <td>2017.0</td>\n",
              "      <td>12.0</td>\n",
              "      <td>52.0</td>\n",
              "      <td>31.0</td>\n",
              "      <td>6.0</td>\n",
              "      <td>365.0</td>\n",
              "      <td>True</td>\n",
              "      <td>False</td>\n",
              "      <td>True</td>\n",
              "      <td>False</td>\n",
              "      <td>True</td>\n",
              "      <td>False</td>\n",
              "      <td>5.259961</td>\n",
              "      <td>5.194369</td>\n",
              "      <td>4.457439</td>\n",
              "      <td>4.425416</td>\n",
              "      <td>6.183614</td>\n",
              "      <td>5.077762</td>\n",
              "      <td>5.047284</td>\n",
              "      <td>6.916448</td>\n",
              "      <td>6.823100</td>\n",
              "      <td>4.569984</td>\n",
              "      <td>4.431315</td>\n",
              "      <td>4.425416</td>\n",
              "      <td>6.087868</td>\n",
              "      <td>1399.561865</td>\n",
              "      <td>5.183562</td>\n",
              "      <td>9413.245655</td>\n",
              "      <td>6.972775</td>\n",
              "      <td>1465.613591</td>\n",
              "      <td>5.428198</td>\n",
              "      <td>9966.933974</td>\n",
              "      <td>7.382914</td>\n",
              "      <td>860.842323</td>\n",
              "      <td>4.304212</td>\n",
              "      <td>5962.370140</td>\n",
              "      <td>5.962370</td>\n",
              "    </tr>\n",
              "    <tr>\n",
              "      <th>2017-12-31</th>\n",
              "      <td>10</td>\n",
              "      <td>34</td>\n",
              "      <td>52</td>\n",
              "      <td>32.0</td>\n",
              "      <td>2017.0</td>\n",
              "      <td>12.0</td>\n",
              "      <td>52.0</td>\n",
              "      <td>31.0</td>\n",
              "      <td>6.0</td>\n",
              "      <td>365.0</td>\n",
              "      <td>True</td>\n",
              "      <td>False</td>\n",
              "      <td>True</td>\n",
              "      <td>False</td>\n",
              "      <td>True</td>\n",
              "      <td>False</td>\n",
              "      <td>5.432488</td>\n",
              "      <td>5.346731</td>\n",
              "      <td>4.457439</td>\n",
              "      <td>4.425416</td>\n",
              "      <td>6.380888</td>\n",
              "      <td>5.077762</td>\n",
              "      <td>5.047284</td>\n",
              "      <td>7.079427</td>\n",
              "      <td>7.004692</td>\n",
              "      <td>4.678463</td>\n",
              "      <td>4.716520</td>\n",
              "      <td>4.425416</td>\n",
              "      <td>6.262600</td>\n",
              "      <td>1399.561865</td>\n",
              "      <td>5.183562</td>\n",
              "      <td>9663.318867</td>\n",
              "      <td>7.158014</td>\n",
              "      <td>1465.613591</td>\n",
              "      <td>5.428198</td>\n",
              "      <td>10194.644039</td>\n",
              "      <td>7.551588</td>\n",
              "      <td>860.842323</td>\n",
              "      <td>4.304212</td>\n",
              "      <td>6169.654765</td>\n",
              "      <td>6.169655</td>\n",
              "    </tr>\n",
              "    <tr>\n",
              "      <th>2017-12-31</th>\n",
              "      <td>1</td>\n",
              "      <td>35</td>\n",
              "      <td>52</td>\n",
              "      <td>55.0</td>\n",
              "      <td>2017.0</td>\n",
              "      <td>12.0</td>\n",
              "      <td>52.0</td>\n",
              "      <td>31.0</td>\n",
              "      <td>6.0</td>\n",
              "      <td>365.0</td>\n",
              "      <td>True</td>\n",
              "      <td>False</td>\n",
              "      <td>True</td>\n",
              "      <td>False</td>\n",
              "      <td>True</td>\n",
              "      <td>False</td>\n",
              "      <td>7.286679</td>\n",
              "      <td>7.236364</td>\n",
              "      <td>6.746257</td>\n",
              "      <td>6.699870</td>\n",
              "      <td>5.828441</td>\n",
              "      <td>7.483671</td>\n",
              "      <td>7.485798</td>\n",
              "      <td>6.506714</td>\n",
              "      <td>6.411065</td>\n",
              "      <td>6.506714</td>\n",
              "      <td>6.566906</td>\n",
              "      <td>6.699870</td>\n",
              "      <td>5.716837</td>\n",
              "      <td>2055.398482</td>\n",
              "      <td>7.612587</td>\n",
              "      <td>8859.917310</td>\n",
              "      <td>6.562902</td>\n",
              "      <td>2180.170888</td>\n",
              "      <td>8.074707</td>\n",
              "      <td>9361.032087</td>\n",
              "      <td>6.934098</td>\n",
              "      <td>1321.989665</td>\n",
              "      <td>6.609948</td>\n",
              "      <td>5598.946972</td>\n",
              "      <td>5.598947</td>\n",
              "    </tr>\n",
              "    <tr>\n",
              "      <th>2017-12-31</th>\n",
              "      <td>8</td>\n",
              "      <td>33</td>\n",
              "      <td>52</td>\n",
              "      <td>100.0</td>\n",
              "      <td>2017.0</td>\n",
              "      <td>12.0</td>\n",
              "      <td>52.0</td>\n",
              "      <td>31.0</td>\n",
              "      <td>6.0</td>\n",
              "      <td>365.0</td>\n",
              "      <td>True</td>\n",
              "      <td>False</td>\n",
              "      <td>True</td>\n",
              "      <td>False</td>\n",
              "      <td>True</td>\n",
              "      <td>False</td>\n",
              "      <td>8.387354</td>\n",
              "      <td>8.323073</td>\n",
              "      <td>6.916448</td>\n",
              "      <td>6.875107</td>\n",
              "      <td>6.628401</td>\n",
              "      <td>7.671526</td>\n",
              "      <td>7.651051</td>\n",
              "      <td>7.336841</td>\n",
              "      <td>7.256256</td>\n",
              "      <td>7.531452</td>\n",
              "      <td>7.360680</td>\n",
              "      <td>6.875107</td>\n",
              "      <td>6.495521</td>\n",
              "      <td>2109.509410</td>\n",
              "      <td>7.812998</td>\n",
              "      <td>9975.714714</td>\n",
              "      <td>7.389418</td>\n",
              "      <td>2223.289745</td>\n",
              "      <td>8.234406</td>\n",
              "      <td>10587.953565</td>\n",
              "      <td>7.842929</td>\n",
              "      <td>1351.527638</td>\n",
              "      <td>6.757638</td>\n",
              "      <td>6377.367273</td>\n",
              "      <td>6.377367</td>\n",
              "    </tr>\n",
              "    <tr>\n",
              "      <th>2017-12-31</th>\n",
              "      <td>10</td>\n",
              "      <td>50</td>\n",
              "      <td>52</td>\n",
              "      <td>82.0</td>\n",
              "      <td>2017.0</td>\n",
              "      <td>12.0</td>\n",
              "      <td>52.0</td>\n",
              "      <td>31.0</td>\n",
              "      <td>6.0</td>\n",
              "      <td>365.0</td>\n",
              "      <td>True</td>\n",
              "      <td>False</td>\n",
              "      <td>True</td>\n",
              "      <td>False</td>\n",
              "      <td>True</td>\n",
              "      <td>False</td>\n",
              "      <td>7.938195</td>\n",
              "      <td>7.890958</td>\n",
              "      <td>6.746257</td>\n",
              "      <td>6.720741</td>\n",
              "      <td>6.380888</td>\n",
              "      <td>7.531452</td>\n",
              "      <td>7.493466</td>\n",
              "      <td>7.079427</td>\n",
              "      <td>7.004692</td>\n",
              "      <td>7.184414</td>\n",
              "      <td>7.087141</td>\n",
              "      <td>6.720741</td>\n",
              "      <td>6.262600</td>\n",
              "      <td>2071.396198</td>\n",
              "      <td>7.671838</td>\n",
              "      <td>9663.318867</td>\n",
              "      <td>7.158014</td>\n",
              "      <td>2181.879090</td>\n",
              "      <td>8.081034</td>\n",
              "      <td>10194.644039</td>\n",
              "      <td>7.551588</td>\n",
              "      <td>1319.101525</td>\n",
              "      <td>6.595508</td>\n",
              "      <td>6169.654765</td>\n",
              "      <td>6.169655</td>\n",
              "    </tr>\n",
              "  </tbody>\n",
              "</table>\n",
              "</div>"
            ],
            "text/plain": [
              "            store  ...  store-week_shifted-365_mean\n",
              "date               ...                             \n",
              "2017-12-31      9  ...                     5.962370\n",
              "2017-12-31     10  ...                     6.169655\n",
              "2017-12-31      1  ...                     5.598947\n",
              "2017-12-31      8  ...                     6.377367\n",
              "2017-12-31     10  ...                     6.169655\n",
              "\n",
              "[5 rows x 41 columns]"
            ]
          },
          "metadata": {
            "tags": []
          }
        }
      ]
    },
    {
      "cell_type": "markdown",
      "metadata": {
        "id": "AwIQqhNUZVde",
        "colab_type": "text"
      },
      "source": [
        "## LightGBM Optuna Tuner による最適化"
      ]
    },
    {
      "cell_type": "code",
      "metadata": {
        "id": "bcJxssxpOX6-",
        "colab_type": "code",
        "colab": {
          "base_uri": "https://localhost:8080/",
          "height": 1000
        },
        "outputId": "943d7569-ec3a-4221-d62b-5b0c1f226468"
      },
      "source": [
        "def train_gbm(train_feature: pd.DataFrame):\n",
        "    train_index = (train_feature.index < datetime.datetime(2016, 1, 1))\n",
        "    valid_index = (train_index == False)\n",
        "\n",
        "    train_y = train_feature.loc[train_index, \"sales\"]\n",
        "    train_x = train_feature.loc[train_index].reset_index().drop([\"date\", \"sales\"], axis=1)\n",
        "    valid_y = train_feature.loc[valid_index, \"sales\"]\n",
        "    valid_x = train_feature.loc[valid_index].reset_index().drop([\"date\", \"sales\"], axis=1)\n",
        "\n",
        "    logger.info(train_x.info())\n",
        "    logger.info(valid_x.info())\n",
        "\n",
        "    lgb_train = lgb.Dataset(train_x, train_y)\n",
        "    lgb_valid = lgb.Dataset(valid_x, valid_y)\n",
        "    params = {\n",
        "        \"objective\": \"regression_l1\",\n",
        "        \"metric\": \"mape\",\n",
        "        \"boosting_type\": \"gbdt\",\n",
        "        \"nthread\": 4,\n",
        "        \"verbose\": -1,\n",
        "    }\n",
        "\n",
        "    best_params, tuning_history = dict(), list()\n",
        "    model = lgb.train(\n",
        "        params,\n",
        "        lgb_train,\n",
        "        valid_sets=[lgb_train, lgb_valid],\n",
        "        best_params=best_params,\n",
        "        tuning_history=tuning_history,\n",
        "        verbose_eval=100,\n",
        "        early_stopping_rounds=100,\n",
        "    )\n",
        "\n",
        "    return model, best_params, tuning_history\n",
        "\n",
        "\n",
        "%time lgb_model, lgb_best_params, lgb_tuning_history = train_gbm(df_train_feature)"
      ],
      "execution_count": 70,
      "outputs": [
        {
          "output_type": "stream",
          "text": [
            "INFO:__main__:None\n",
            "INFO:__main__:None\n",
            "/usr/local/lib/python3.6/dist-packages/optuna/_experimental.py:90: ExperimentalWarning:\n",
            "\n",
            "train is experimental (supported from v0.18.0). The interface can change in the future.\n",
            "\n",
            "\n",
            "\n",
            "  0%|          | 0/7 [00:00<?, ?it/s]\u001b[A\u001b[A\n",
            "\n",
            "tune_feature_fraction, val_score: -inf:   0%|          | 0/7 [00:00<?, ?it/s]\u001b[A\u001b[A"
          ],
          "name": "stderr"
        },
        {
          "output_type": "stream",
          "text": [
            "<class 'pandas.core.frame.DataFrame'>\n",
            "RangeIndex: 547500 entries, 0 to 547499\n",
            "Data columns (total 40 columns):\n",
            " #   Column                       Non-Null Count   Dtype  \n",
            "---  ------                       --------------   -----  \n",
            " 0   store                        547500 non-null  int64  \n",
            " 1   item                         547500 non-null  int64  \n",
            " 2   Year                         547500 non-null  int64  \n",
            " 3   Month                        547500 non-null  int64  \n",
            " 4   Week                         547500 non-null  int64  \n",
            " 5   Day                          547500 non-null  int64  \n",
            " 6   Dayofweek                    547500 non-null  int64  \n",
            " 7   Dayofyear                    547500 non-null  int64  \n",
            " 8   weekofyear                   547500 non-null  int64  \n",
            " 9   Is_month_end                 547500 non-null  bool   \n",
            " 10  Is_month_start               547500 non-null  bool   \n",
            " 11  Is_quarter_end               547500 non-null  bool   \n",
            " 12  Is_quarter_start             547500 non-null  bool   \n",
            " 13  Is_year_end                  547500 non-null  bool   \n",
            " 14  Is_year_start                547500 non-null  bool   \n",
            " 15  median-store_item            547500 non-null  float64\n",
            " 16  mean-store_item              547500 non-null  float64\n",
            " 17  median-month_item            547500 non-null  float64\n",
            " 18  mean-month_item              547500 non-null  float64\n",
            " 19  median-month_store           547500 non-null  float64\n",
            " 20  median-item                  547500 non-null  float64\n",
            " 21  mean-item                    547500 non-null  float64\n",
            " 22  median-store                 547500 non-null  float64\n",
            " 23  mean-store                   547500 non-null  float64\n",
            " 24  median-store_item-month      547500 non-null  float64\n",
            " 25  mean-store_item-week         547500 non-null  float64\n",
            " 26  item-month-mean              547500 non-null  float64\n",
            " 27  store-month-mean             547500 non-null  float64\n",
            " 28  item-week_shifted-91_sum     547500 non-null  float64\n",
            " 29  item-week_shifted-91_mean    547500 non-null  float64\n",
            " 30  store-week_shifted-91_sum    547500 non-null  float64\n",
            " 31  store-week_shifted-91_mean   547500 non-null  float64\n",
            " 32  item-week_shifted-182_sum    547500 non-null  float64\n",
            " 33  item-week_shifted-182_mean   547500 non-null  float64\n",
            " 34  store-week_shifted-182_sum   547500 non-null  float64\n",
            " 35  store-week_shifted-182_mean  547500 non-null  float64\n",
            " 36  item-week_shifted-365_sum    547500 non-null  float64\n",
            " 37  item-week_shifted-365_mean   547500 non-null  float64\n",
            " 38  store-week_shifted-365_sum   547500 non-null  float64\n",
            " 39  store-week_shifted-365_mean  547500 non-null  float64\n",
            "dtypes: bool(6), float64(25), int64(9)\n",
            "memory usage: 145.2 MB\n",
            "<class 'pandas.core.frame.DataFrame'>\n",
            "RangeIndex: 183000 entries, 0 to 182999\n",
            "Data columns (total 40 columns):\n",
            " #   Column                       Non-Null Count   Dtype  \n",
            "---  ------                       --------------   -----  \n",
            " 0   store                        183000 non-null  int64  \n",
            " 1   item                         183000 non-null  int64  \n",
            " 2   Year                         183000 non-null  int64  \n",
            " 3   Month                        183000 non-null  int64  \n",
            " 4   Week                         183000 non-null  int64  \n",
            " 5   Day                          183000 non-null  int64  \n",
            " 6   Dayofweek                    183000 non-null  int64  \n",
            " 7   Dayofyear                    183000 non-null  int64  \n",
            " 8   weekofyear                   183000 non-null  int64  \n",
            " 9   Is_month_end                 183000 non-null  bool   \n",
            " 10  Is_month_start               183000 non-null  bool   \n",
            " 11  Is_quarter_end               183000 non-null  bool   \n",
            " 12  Is_quarter_start             183000 non-null  bool   \n",
            " 13  Is_year_end                  183000 non-null  bool   \n",
            " 14  Is_year_start                183000 non-null  bool   \n",
            " 15  median-store_item            183000 non-null  float64\n",
            " 16  mean-store_item              183000 non-null  float64\n",
            " 17  median-month_item            183000 non-null  float64\n",
            " 18  mean-month_item              183000 non-null  float64\n",
            " 19  median-month_store           183000 non-null  float64\n",
            " 20  median-item                  183000 non-null  float64\n",
            " 21  mean-item                    183000 non-null  float64\n",
            " 22  median-store                 183000 non-null  float64\n",
            " 23  mean-store                   183000 non-null  float64\n",
            " 24  median-store_item-month      183000 non-null  float64\n",
            " 25  mean-store_item-week         183000 non-null  float64\n",
            " 26  item-month-mean              183000 non-null  float64\n",
            " 27  store-month-mean             183000 non-null  float64\n",
            " 28  item-week_shifted-91_sum     183000 non-null  float64\n",
            " 29  item-week_shifted-91_mean    183000 non-null  float64\n",
            " 30  store-week_shifted-91_sum    183000 non-null  float64\n",
            " 31  store-week_shifted-91_mean   183000 non-null  float64\n",
            " 32  item-week_shifted-182_sum    183000 non-null  float64\n",
            " 33  item-week_shifted-182_mean   183000 non-null  float64\n",
            " 34  store-week_shifted-182_sum   183000 non-null  float64\n",
            " 35  store-week_shifted-182_mean  183000 non-null  float64\n",
            " 36  item-week_shifted-365_sum    183000 non-null  float64\n",
            " 37  item-week_shifted-365_mean   183000 non-null  float64\n",
            " 38  store-week_shifted-365_sum   183000 non-null  float64\n",
            " 39  store-week_shifted-365_mean  183000 non-null  float64\n",
            "dtypes: bool(6), float64(25), int64(9)\n",
            "memory usage: 48.5 MB\n",
            "Training until validation scores don't improve for 100 rounds.\n",
            "[100]\ttraining's mape: 0.0557514\tvalid_1's mape: 0.0562444\n",
            "[200]\ttraining's mape: 0.0553987\tvalid_1's mape: 0.0558797\n",
            "[300]\ttraining's mape: 0.0552095\tvalid_1's mape: 0.0558769\n"
          ],
          "name": "stdout"
        },
        {
          "output_type": "stream",
          "text": [
            "\n",
            "\n",
            "tune_feature_fraction, val_score: 0.055861:   0%|          | 0/7 [00:20<?, ?it/s]\u001b[A\u001b[A\n",
            "\n",
            "tune_feature_fraction, val_score: 0.055861:  14%|#4        | 1/7 [00:20<02:04, 20.74s/it]\u001b[A\u001b[A\u001b[32m[I 2020-04-05 13:50:11,628]\u001b[0m Finished trial#0 with value: 0.055861040491323524 with parameters: {'feature_fraction': 0.4}. Best is trial#0 with value: 0.055861040491323524.\u001b[0m\n",
            "\n",
            "\n",
            "tune_feature_fraction, val_score: 0.055861:  14%|#4        | 1/7 [00:20<02:04, 20.74s/it]\u001b[A\u001b[A"
          ],
          "name": "stderr"
        },
        {
          "output_type": "stream",
          "text": [
            "Early stopping, best iteration is:\n",
            "[244]\ttraining's mape: 0.055308\tvalid_1's mape: 0.055861\n",
            "Training until validation scores don't improve for 100 rounds.\n",
            "[100]\ttraining's mape: 0.0556901\tvalid_1's mape: 0.0560939\n",
            "[200]\ttraining's mape: 0.0553579\tvalid_1's mape: 0.0559179\n",
            "[300]\ttraining's mape: 0.0551723\tvalid_1's mape: 0.0559297\n"
          ],
          "name": "stdout"
        },
        {
          "output_type": "stream",
          "text": [
            "\n",
            "\n",
            "tune_feature_fraction, val_score: 0.055911:  14%|#4        | 1/7 [00:39<02:04, 20.74s/it]\u001b[A\u001b[A\n",
            "\n",
            "tune_feature_fraction, val_score: 0.055911:  29%|##8       | 2/7 [00:39<01:40, 20.04s/it]\u001b[A\u001b[A\u001b[32m[I 2020-04-05 13:50:30,029]\u001b[0m Finished trial#1 with value: 0.05591094032883762 with parameters: {'feature_fraction': 0.5}. Best is trial#1 with value: 0.05591094032883762.\u001b[0m\n",
            "\n",
            "\n",
            "tune_feature_fraction, val_score: 0.055911:  29%|##8       | 2/7 [00:39<01:40, 20.04s/it]\u001b[A\u001b[A"
          ],
          "name": "stderr"
        },
        {
          "output_type": "stream",
          "text": [
            "Early stopping, best iteration is:\n",
            "[218]\ttraining's mape: 0.0553176\tvalid_1's mape: 0.0559109\n",
            "Training until validation scores don't improve for 100 rounds.\n",
            "[100]\ttraining's mape: 0.0556285\tvalid_1's mape: 0.0561811\n",
            "[200]\ttraining's mape: 0.0553305\tvalid_1's mape: 0.0560616\n",
            "[300]\ttraining's mape: 0.0551517\tvalid_1's mape: 0.0560329\n",
            "[400]\ttraining's mape: 0.0549989\tvalid_1's mape: 0.0560246\n"
          ],
          "name": "stdout"
        },
        {
          "output_type": "stream",
          "text": [
            "\n",
            "\n",
            "tune_feature_fraction, val_score: 0.056016:  29%|##8       | 2/7 [01:05<01:40, 20.04s/it]\u001b[A\u001b[A\n",
            "\n",
            "tune_feature_fraction, val_score: 0.056016:  43%|####2     | 3/7 [01:05<01:27, 21.79s/it]\u001b[A\u001b[A\u001b[32m[I 2020-04-05 13:50:55,900]\u001b[0m Finished trial#2 with value: 0.05601567589827215 with parameters: {'feature_fraction': 0.6}. Best is trial#2 with value: 0.05601567589827215.\u001b[0m\n",
            "\n",
            "\n",
            "tune_feature_fraction, val_score: 0.056016:  43%|####2     | 3/7 [01:05<01:27, 21.79s/it]\u001b[A\u001b[A"
          ],
          "name": "stderr"
        },
        {
          "output_type": "stream",
          "text": [
            "Early stopping, best iteration is:\n",
            "[354]\ttraining's mape: 0.0550641\tvalid_1's mape: 0.0560157\n",
            "Training until validation scores don't improve for 100 rounds.\n",
            "[100]\ttraining's mape: 0.0555597\tvalid_1's mape: 0.0562224\n",
            "[200]\ttraining's mape: 0.0552854\tvalid_1's mape: 0.0561132\n",
            "[300]\ttraining's mape: 0.0551209\tvalid_1's mape: 0.0560802\n",
            "[400]\ttraining's mape: 0.0549821\tvalid_1's mape: 0.056084\n"
          ],
          "name": "stdout"
        },
        {
          "output_type": "stream",
          "text": [
            "\n",
            "\n",
            "tune_feature_fraction, val_score: 0.056072:  43%|####2     | 3/7 [01:30<01:27, 21.79s/it]\u001b[A\u001b[A\n",
            "\n",
            "tune_feature_fraction, val_score: 0.056072:  57%|#####7    | 4/7 [01:30<01:09, 23.03s/it]\u001b[A\u001b[A\u001b[32m[I 2020-04-05 13:51:21,826]\u001b[0m Finished trial#3 with value: 0.05607184649305867 with parameters: {'feature_fraction': 0.7}. Best is trial#3 with value: 0.05607184649305867.\u001b[0m\n",
            "\n",
            "\n",
            "tune_feature_fraction, val_score: 0.056072:  57%|#####7    | 4/7 [01:31<01:09, 23.03s/it]\u001b[A\u001b[A"
          ],
          "name": "stderr"
        },
        {
          "output_type": "stream",
          "text": [
            "Early stopping, best iteration is:\n",
            "[334]\ttraining's mape: 0.0550726\tvalid_1's mape: 0.0560718\n",
            "Training until validation scores don't improve for 100 rounds.\n",
            "[100]\ttraining's mape: 0.055544\tvalid_1's mape: 0.0562008\n",
            "[200]\ttraining's mape: 0.0552818\tvalid_1's mape: 0.056067\n",
            "[300]\ttraining's mape: 0.0551047\tvalid_1's mape: 0.0560581\n"
          ],
          "name": "stdout"
        },
        {
          "output_type": "stream",
          "text": [
            "\n",
            "\n",
            "tune_feature_fraction, val_score: 0.056072:  57%|#####7    | 4/7 [01:56<01:09, 23.03s/it]\u001b[A\u001b[A\n",
            "\n",
            "tune_feature_fraction, val_score: 0.056072:  71%|#######1  | 5/7 [01:56<00:47, 23.77s/it]\u001b[A\u001b[A\u001b[32m[I 2020-04-05 13:51:47,309]\u001b[0m Finished trial#4 with value: 0.05604852481334028 with parameters: {'feature_fraction': 0.8}. Best is trial#3 with value: 0.05607184649305867.\u001b[0m\n",
            "\n",
            "\n",
            "tune_feature_fraction, val_score: 0.056072:  71%|#######1  | 5/7 [01:56<00:47, 23.77s/it]\u001b[A\u001b[A"
          ],
          "name": "stderr"
        },
        {
          "output_type": "stream",
          "text": [
            "Early stopping, best iteration is:\n",
            "[288]\ttraining's mape: 0.0551257\tvalid_1's mape: 0.0560485\n",
            "Training until validation scores don't improve for 100 rounds.\n",
            "[100]\ttraining's mape: 0.0554991\tvalid_1's mape: 0.056179\n",
            "[200]\ttraining's mape: 0.0552708\tvalid_1's mape: 0.0561351\n",
            "[300]\ttraining's mape: 0.0550943\tvalid_1's mape: 0.0561095\n",
            "[400]\ttraining's mape: 0.0549485\tvalid_1's mape: 0.0561138\n"
          ],
          "name": "stdout"
        },
        {
          "output_type": "stream",
          "text": [
            "\n",
            "\n",
            "tune_feature_fraction, val_score: 0.056105:  71%|#######1  | 5/7 [02:23<00:47, 23.77s/it]\u001b[A\u001b[A\n",
            "\n",
            "tune_feature_fraction, val_score: 0.056105:  86%|########5 | 6/7 [02:23<00:24, 24.66s/it]\u001b[A\u001b[A\u001b[32m[I 2020-04-05 13:52:14,065]\u001b[0m Finished trial#5 with value: 0.05610516397531119 with parameters: {'feature_fraction': 0.8999999999999999}. Best is trial#5 with value: 0.05610516397531119.\u001b[0m\n",
            "\n",
            "\n",
            "tune_feature_fraction, val_score: 0.056105:  86%|########5 | 6/7 [02:23<00:24, 24.66s/it]\u001b[A\u001b[A"
          ],
          "name": "stderr"
        },
        {
          "output_type": "stream",
          "text": [
            "Early stopping, best iteration is:\n",
            "[313]\ttraining's mape: 0.0550725\tvalid_1's mape: 0.0561052\n",
            "Training until validation scores don't improve for 100 rounds.\n",
            "[100]\ttraining's mape: 0.0554987\tvalid_1's mape: 0.0560792\n",
            "[200]\ttraining's mape: 0.0552517\tvalid_1's mape: 0.0560429\n"
          ],
          "name": "stdout"
        },
        {
          "output_type": "stream",
          "text": [
            "\n",
            "\n",
            "tune_feature_fraction, val_score: 0.056105:  86%|########5 | 6/7 [02:43<00:24, 24.66s/it]\u001b[A\u001b[A\n",
            "\n",
            "tune_feature_fraction, val_score: 0.056105: 100%|##########| 7/7 [02:43<00:00, 23.45s/it]\u001b[A\u001b[A\u001b[32m[I 2020-04-05 13:52:34,669]\u001b[0m Finished trial#6 with value: 0.05602215031566752 with parameters: {'feature_fraction': 1.0}. Best is trial#5 with value: 0.05610516397531119.\u001b[0m\n",
            "tune_feature_fraction, val_score: 0.056105: 100%|##########| 7/7 [02:43<00:00, 23.41s/it]\n",
            "\n",
            "\n",
            "  0%|          | 0/20 [00:00<?, ?it/s]\u001b[A\u001b[A\n",
            "\n",
            "tune_num_leaves, val_score: 0.056105:   0%|          | 0/20 [00:00<?, ?it/s]\u001b[A\u001b[A"
          ],
          "name": "stderr"
        },
        {
          "output_type": "stream",
          "text": [
            "Early stopping, best iteration is:\n",
            "[158]\ttraining's mape: 0.0553421\tvalid_1's mape: 0.0560222\n",
            "Training until validation scores don't improve for 100 rounds.\n",
            "[100]\ttraining's mape: 0.0542732\tvalid_1's mape: 0.0563278\n",
            "[200]\ttraining's mape: 0.0537108\tvalid_1's mape: 0.0563337\n"
          ],
          "name": "stdout"
        },
        {
          "output_type": "stream",
          "text": [
            "\n",
            "\n",
            "tune_num_leaves, val_score: 0.056317:   0%|          | 0/20 [00:28<?, ?it/s]\u001b[A\u001b[A\n",
            "\n",
            "tune_num_leaves, val_score: 0.056317:   5%|5         | 1/20 [00:28<09:00, 28.46s/it]\u001b[A\u001b[A"
          ],
          "name": "stderr"
        },
        {
          "output_type": "stream",
          "text": [
            "Early stopping, best iteration is:\n",
            "[115]\ttraining's mape: 0.0541484\tvalid_1's mape: 0.0563171\n"
          ],
          "name": "stdout"
        },
        {
          "output_type": "stream",
          "text": [
            "\u001b[32m[I 2020-04-05 13:53:03,236]\u001b[0m Finished trial#0 with value: 0.0563170992170041 with parameters: {'num_leaves': 238}. Best is trial#0 with value: 0.0563170992170041.\u001b[0m\n",
            "\n",
            "\n",
            "tune_num_leaves, val_score: 0.056317:   5%|5         | 1/20 [00:28<09:00, 28.46s/it]\u001b[A\u001b[A"
          ],
          "name": "stderr"
        },
        {
          "output_type": "stream",
          "text": [
            "Training until validation scores don't improve for 100 rounds.\n",
            "[100]\ttraining's mape: 0.0552507\tvalid_1's mape: 0.0561869\n",
            "[200]\ttraining's mape: 0.0548862\tvalid_1's mape: 0.0561562\n"
          ],
          "name": "stdout"
        },
        {
          "output_type": "stream",
          "text": [
            "\n",
            "\n",
            "tune_num_leaves, val_score: 0.056317:   5%|5         | 1/20 [00:47<09:00, 28.46s/it]\u001b[A\u001b[A\n",
            "\n",
            "tune_num_leaves, val_score: 0.056317:  10%|#         | 2/20 [00:47<07:43, 25.75s/it]\u001b[A\u001b[A\u001b[32m[I 2020-04-05 13:53:22,657]\u001b[0m Finished trial#1 with value: 0.05615325275698547 with parameters: {'num_leaves': 66}. Best is trial#0 with value: 0.0563170992170041.\u001b[0m\n",
            "\n",
            "\n",
            "tune_num_leaves, val_score: 0.056317:  10%|#         | 2/20 [00:47<07:43, 25.75s/it]\u001b[A\u001b[A"
          ],
          "name": "stderr"
        },
        {
          "output_type": "stream",
          "text": [
            "Early stopping, best iteration is:\n",
            "[118]\ttraining's mape: 0.0551607\tvalid_1's mape: 0.0561533\n",
            "Training until validation scores don't improve for 100 rounds.\n",
            "[100]\ttraining's mape: 0.0542863\tvalid_1's mape: 0.0563292\n"
          ],
          "name": "stdout"
        },
        {
          "output_type": "stream",
          "text": [
            "\n",
            "\n",
            "tune_num_leaves, val_score: 0.056327:  10%|#         | 2/20 [01:15<07:43, 25.75s/it]\u001b[A\u001b[A\n",
            "\n",
            "tune_num_leaves, val_score: 0.056327:  15%|#5        | 3/20 [01:15<07:29, 26.46s/it]\u001b[A\u001b[A"
          ],
          "name": "stderr"
        },
        {
          "output_type": "stream",
          "text": [
            "Early stopping, best iteration is:\n",
            "[99]\ttraining's mape: 0.0542963\tvalid_1's mape: 0.0563267\n"
          ],
          "name": "stdout"
        },
        {
          "output_type": "stream",
          "text": [
            "\u001b[32m[I 2020-04-05 13:53:50,761]\u001b[0m Finished trial#2 with value: 0.05632674775621278 with parameters: {'num_leaves': 243}. Best is trial#2 with value: 0.05632674775621278.\u001b[0m\n",
            "\n",
            "\n",
            "tune_num_leaves, val_score: 0.056327:  15%|#5        | 3/20 [01:16<07:29, 26.46s/it]\u001b[A\u001b[A"
          ],
          "name": "stderr"
        },
        {
          "output_type": "stream",
          "text": [
            "Training until validation scores don't improve for 100 rounds.\n",
            "[100]\ttraining's mape: 0.054311\tvalid_1's mape: 0.0563182\n"
          ],
          "name": "stdout"
        },
        {
          "output_type": "stream",
          "text": [
            "\n",
            "\n",
            "tune_num_leaves, val_score: 0.056327:  15%|#5        | 3/20 [01:41<07:29, 26.46s/it]\u001b[A\u001b[A\n",
            "\n",
            "tune_num_leaves, val_score: 0.056327:  20%|##        | 4/20 [01:42<07:01, 26.32s/it]\u001b[A\u001b[A"
          ],
          "name": "stderr"
        },
        {
          "output_type": "stream",
          "text": [
            "Early stopping, best iteration is:\n",
            "[87]\ttraining's mape: 0.0544753\tvalid_1's mape: 0.056302\n"
          ],
          "name": "stdout"
        },
        {
          "output_type": "stream",
          "text": [
            "\u001b[32m[I 2020-04-05 13:54:16,770]\u001b[0m Finished trial#3 with value: 0.056302009512532114 with parameters: {'num_leaves': 235}. Best is trial#2 with value: 0.05632674775621278.\u001b[0m\n",
            "\n",
            "\n",
            "tune_num_leaves, val_score: 0.056327:  20%|##        | 4/20 [01:42<07:01, 26.32s/it]\u001b[A\u001b[A"
          ],
          "name": "stderr"
        },
        {
          "output_type": "stream",
          "text": [
            "Training until validation scores don't improve for 100 rounds.\n",
            "[100]\ttraining's mape: 0.0550073\tvalid_1's mape: 0.05621\n",
            "[200]\ttraining's mape: 0.0544859\tvalid_1's mape: 0.0562152\n"
          ],
          "name": "stdout"
        },
        {
          "output_type": "stream",
          "text": [
            "\n",
            "\n",
            "tune_num_leaves, val_score: 0.056327:  20%|##        | 4/20 [02:05<07:01, 26.32s/it]\u001b[A\u001b[A\n",
            "\n",
            "tune_num_leaves, val_score: 0.056327:  25%|##5       | 5/20 [02:05<06:23, 25.54s/it]\u001b[A\u001b[A\u001b[32m[I 2020-04-05 13:54:40,491]\u001b[0m Finished trial#4 with value: 0.056187155164864076 with parameters: {'num_leaves': 104}. Best is trial#2 with value: 0.05632674775621278.\u001b[0m\n",
            "\n",
            "\n",
            "tune_num_leaves, val_score: 0.056327:  25%|##5       | 5/20 [02:05<06:23, 25.54s/it]\u001b[A\u001b[A"
          ],
          "name": "stderr"
        },
        {
          "output_type": "stream",
          "text": [
            "Early stopping, best iteration is:\n",
            "[139]\ttraining's mape: 0.0547849\tvalid_1's mape: 0.0561872\n",
            "Training until validation scores don't improve for 100 rounds.\n",
            "[100]\ttraining's mape: 0.0545564\tvalid_1's mape: 0.0562603\n",
            "[200]\ttraining's mape: 0.0538483\tvalid_1's mape: 0.0563208\n"
          ],
          "name": "stdout"
        },
        {
          "output_type": "stream",
          "text": [
            "\n",
            "\n",
            "tune_num_leaves, val_score: 0.056327:  25%|##5       | 5/20 [02:31<06:23, 25.54s/it]\u001b[A\u001b[A\n",
            "\n",
            "tune_num_leaves, val_score: 0.056327:  30%|###       | 6/20 [02:31<05:57, 25.54s/it]\u001b[A\u001b[A\u001b[32m[I 2020-04-05 13:55:06,029]\u001b[0m Finished trial#5 with value: 0.0562538133031407 with parameters: {'num_leaves': 188}. Best is trial#2 with value: 0.05632674775621278.\u001b[0m\n",
            "\n",
            "\n"
          ],
          "name": "stderr"
        },
        {
          "output_type": "stream",
          "text": [
            "Early stopping, best iteration is:\n",
            "[106]\ttraining's mape: 0.0544984\tvalid_1's mape: 0.0562538\n"
          ],
          "name": "stdout"
        },
        {
          "output_type": "stream",
          "text": [
            "\rtune_num_leaves, val_score: 0.056327:  30%|###       | 6/20 [02:31<05:57, 25.54s/it]\u001b[A\u001b[A"
          ],
          "name": "stderr"
        },
        {
          "output_type": "stream",
          "text": [
            "Training until validation scores don't improve for 100 rounds.\n",
            "[100]\ttraining's mape: 0.0545586\tvalid_1's mape: 0.0562844\n"
          ],
          "name": "stdout"
        },
        {
          "output_type": "stream",
          "text": [
            "\n",
            "\n",
            "tune_num_leaves, val_score: 0.056327:  30%|###       | 6/20 [02:55<05:57, 25.54s/it]\u001b[A\u001b[A\n",
            "\n",
            "tune_num_leaves, val_score: 0.056327:  35%|###5      | 7/20 [02:55<05:26, 25.13s/it]\u001b[A\u001b[A\u001b[32m[I 2020-04-05 13:55:30,191]\u001b[0m Finished trial#6 with value: 0.05627447010389555 with parameters: {'num_leaves': 186}. Best is trial#2 with value: 0.05632674775621278.\u001b[0m\n",
            "\n",
            "\n",
            "tune_num_leaves, val_score: 0.056327:  35%|###5      | 7/20 [02:55<05:26, 25.13s/it]\u001b[A\u001b[A"
          ],
          "name": "stderr"
        },
        {
          "output_type": "stream",
          "text": [
            "Early stopping, best iteration is:\n",
            "[93]\ttraining's mape: 0.0546326\tvalid_1's mape: 0.0562745\n",
            "Training until validation scores don't improve for 100 rounds.\n",
            "[100]\ttraining's mape: 0.0550169\tvalid_1's mape: 0.0561529\n"
          ],
          "name": "stdout"
        },
        {
          "output_type": "stream",
          "text": [
            "\n",
            "\n",
            "tune_num_leaves, val_score: 0.056327:  35%|###5      | 7/20 [03:16<05:26, 25.13s/it]\u001b[A\u001b[A"
          ],
          "name": "stderr"
        },
        {
          "output_type": "stream",
          "text": [
            "[200]\ttraining's mape: 0.0545535\tvalid_1's mape: 0.0562098\n",
            "Early stopping, best iteration is:\n",
            "[102]\ttraining's mape: 0.0550053\tvalid_1's mape: 0.056151\n"
          ],
          "name": "stdout"
        },
        {
          "output_type": "stream",
          "text": [
            "\n",
            "\n",
            "tune_num_leaves, val_score: 0.056327:  40%|####      | 8/20 [03:16<04:46, 23.87s/it]\u001b[A\u001b[A\u001b[32m[I 2020-04-05 13:55:51,115]\u001b[0m Finished trial#7 with value: 0.056151049708370114 with parameters: {'num_leaves': 107}. Best is trial#2 with value: 0.05632674775621278.\u001b[0m\n",
            "\n",
            "\n",
            "tune_num_leaves, val_score: 0.056327:  40%|####      | 8/20 [03:16<04:46, 23.87s/it]\u001b[A\u001b[A"
          ],
          "name": "stderr"
        },
        {
          "output_type": "stream",
          "text": [
            "Training until validation scores don't improve for 100 rounds.\n",
            "[100]\ttraining's mape: 0.0543772\tvalid_1's mape: 0.0563128\n",
            "[200]\ttraining's mape: 0.0535158\tvalid_1's mape: 0.0563548\n"
          ],
          "name": "stdout"
        },
        {
          "output_type": "stream",
          "text": [
            "\n",
            "\n",
            "tune_num_leaves, val_score: 0.056327:  40%|####      | 8/20 [03:43<04:46, 23.87s/it]\u001b[A\u001b[A\n",
            "\n",
            "tune_num_leaves, val_score: 0.056327:  45%|####5     | 9/20 [03:43<04:34, 24.98s/it]\u001b[A\u001b[A"
          ],
          "name": "stderr"
        },
        {
          "output_type": "stream",
          "text": [
            "Early stopping, best iteration is:\n",
            "[117]\ttraining's mape: 0.0541899\tvalid_1's mape: 0.0562965\n"
          ],
          "name": "stdout"
        },
        {
          "output_type": "stream",
          "text": [
            "\u001b[32m[I 2020-04-05 13:56:18,676]\u001b[0m Finished trial#8 with value: 0.056296467182914124 with parameters: {'num_leaves': 217}. Best is trial#2 with value: 0.05632674775621278.\u001b[0m\n",
            "\n",
            "\n",
            "tune_num_leaves, val_score: 0.056327:  45%|####5     | 9/20 [03:44<04:34, 24.98s/it]\u001b[A\u001b[A"
          ],
          "name": "stderr"
        },
        {
          "output_type": "stream",
          "text": [
            "Training until validation scores don't improve for 100 rounds.\n",
            "[100]\ttraining's mape: 0.0547876\tvalid_1's mape: 0.0562436\n",
            "[200]\ttraining's mape: 0.0542039\tvalid_1's mape: 0.056252\n"
          ],
          "name": "stdout"
        },
        {
          "output_type": "stream",
          "text": [
            "\n",
            "\n",
            "tune_num_leaves, val_score: 0.056327:  45%|####5     | 9/20 [04:07<04:34, 24.98s/it]\u001b[A\u001b[A\n",
            "\n",
            "tune_num_leaves, val_score: 0.056327:  50%|#####     | 10/20 [04:07<04:05, 24.58s/it]\u001b[A\u001b[A\u001b[32m[I 2020-04-05 13:56:42,349]\u001b[0m Finished trial#9 with value: 0.05622311967743204 with parameters: {'num_leaves': 145}. Best is trial#2 with value: 0.05632674775621278.\u001b[0m\n"
          ],
          "name": "stderr"
        },
        {
          "output_type": "stream",
          "text": [
            "Early stopping, best iteration is:\n",
            "[117]\ttraining's mape: 0.0546647\tvalid_1's mape: 0.0562231\n"
          ],
          "name": "stdout"
        },
        {
          "output_type": "stream",
          "text": [
            "\n",
            "\n",
            "tune_num_leaves, val_score: 0.056327:  50%|#####     | 10/20 [04:07<04:05, 24.58s/it]\u001b[A\u001b[A"
          ],
          "name": "stderr"
        },
        {
          "output_type": "stream",
          "text": [
            "Training until validation scores don't improve for 100 rounds.\n",
            "[100]\ttraining's mape: 0.0557415\tvalid_1's mape: 0.056199\n",
            "[200]\ttraining's mape: 0.0555322\tvalid_1's mape: 0.05602\n",
            "[300]\ttraining's mape: 0.0554219\tvalid_1's mape: 0.0559828\n",
            "[400]\ttraining's mape: 0.0553384\tvalid_1's mape: 0.0559607\n"
          ],
          "name": "stdout"
        },
        {
          "output_type": "stream",
          "text": [
            "\n",
            "\n",
            "tune_num_leaves, val_score: 0.056327:  50%|#####     | 10/20 [04:34<04:05, 24.58s/it]\u001b[A\u001b[A\n",
            "\n",
            "tune_num_leaves, val_score: 0.056327:  55%|#####5    | 11/20 [04:34<03:46, 25.20s/it]\u001b[A\u001b[A\u001b[32m[I 2020-04-05 13:57:08,981]\u001b[0m Finished trial#10 with value: 0.0559595888649475 with parameters: {'num_leaves': 13}. Best is trial#2 with value: 0.05632674775621278.\u001b[0m\n",
            "\n",
            "\n",
            "tune_num_leaves, val_score: 0.056327:  55%|#####5    | 11/20 [04:34<03:46, 25.20s/it]\u001b[A\u001b[A"
          ],
          "name": "stderr"
        },
        {
          "output_type": "stream",
          "text": [
            "Early stopping, best iteration is:\n",
            "[383]\ttraining's mape: 0.0553485\tvalid_1's mape: 0.0559596\n",
            "Training until validation scores don't improve for 100 rounds.\n",
            "[100]\ttraining's mape: 0.0542307\tvalid_1's mape: 0.0563042\n",
            "[200]\ttraining's mape: 0.0532111\tvalid_1's mape: 0.0563915\n",
            "Early stopping, best iteration is:\n",
            "[101]\ttraining's mape: 0.0542214\tvalid_1's mape: 0.0563041\n"
          ],
          "name": "stdout"
        },
        {
          "output_type": "stream",
          "text": [
            "\n",
            "\n",
            "tune_num_leaves, val_score: 0.056327:  55%|#####5    | 11/20 [05:02<03:46, 25.20s/it]\u001b[A\u001b[A\n",
            "\n",
            "tune_num_leaves, val_score: 0.056327:  60%|######    | 12/20 [05:02<03:28, 26.11s/it]\u001b[A\u001b[A\u001b[32m[I 2020-04-05 13:57:37,209]\u001b[0m Finished trial#11 with value: 0.05630410450565237 with parameters: {'num_leaves': 256}. Best is trial#2 with value: 0.05632674775621278.\u001b[0m\n",
            "\n",
            "\n",
            "tune_num_leaves, val_score: 0.056327:  60%|######    | 12/20 [05:02<03:28, 26.11s/it]\u001b[A\u001b[A"
          ],
          "name": "stderr"
        },
        {
          "output_type": "stream",
          "text": [
            "Training until validation scores don't improve for 100 rounds.\n",
            "[100]\ttraining's mape: 0.054264\tvalid_1's mape: 0.0562828\n"
          ],
          "name": "stdout"
        },
        {
          "output_type": "stream",
          "text": [
            "\n",
            "\n",
            "tune_num_leaves, val_score: 0.056327:  60%|######    | 12/20 [05:29<03:28, 26.11s/it]\u001b[A\u001b[A\n",
            "\n",
            "tune_num_leaves, val_score: 0.056327:  65%|######5   | 13/20 [05:29<03:04, 26.36s/it]\u001b[A\u001b[A"
          ],
          "name": "stderr"
        },
        {
          "output_type": "stream",
          "text": [
            "Early stopping, best iteration is:\n",
            "[91]\ttraining's mape: 0.0543886\tvalid_1's mape: 0.0562724\n"
          ],
          "name": "stdout"
        },
        {
          "output_type": "stream",
          "text": [
            "\u001b[32m[I 2020-04-05 13:58:04,152]\u001b[0m Finished trial#12 with value: 0.05627237546058164 with parameters: {'num_leaves': 248}. Best is trial#2 with value: 0.05632674775621278.\u001b[0m\n",
            "\n",
            "\n",
            "tune_num_leaves, val_score: 0.056327:  65%|######5   | 13/20 [05:29<03:04, 26.36s/it]\u001b[A\u001b[A"
          ],
          "name": "stderr"
        },
        {
          "output_type": "stream",
          "text": [
            "Training until validation scores don't improve for 100 rounds.\n",
            "[100]\ttraining's mape: 0.0544965\tvalid_1's mape: 0.0562772\n",
            "[200]\ttraining's mape: 0.0538352\tvalid_1's mape: 0.0563187\n"
          ],
          "name": "stdout"
        },
        {
          "output_type": "stream",
          "text": [
            "\n",
            "\n",
            "tune_num_leaves, val_score: 0.056327:  65%|######5   | 13/20 [05:55<03:04, 26.36s/it]\u001b[A\u001b[A\n",
            "\n",
            "tune_num_leaves, val_score: 0.056327:  70%|#######   | 14/20 [05:55<02:36, 26.14s/it]\u001b[A\u001b[A"
          ],
          "name": "stderr"
        },
        {
          "output_type": "stream",
          "text": [
            "Early stopping, best iteration is:\n",
            "[104]\ttraining's mape: 0.0544715\tvalid_1's mape: 0.0562665\n"
          ],
          "name": "stdout"
        },
        {
          "output_type": "stream",
          "text": [
            "\u001b[32m[I 2020-04-05 13:58:29,801]\u001b[0m Finished trial#13 with value: 0.05626646312354645 with parameters: {'num_leaves': 202}. Best is trial#2 with value: 0.05632674775621278.\u001b[0m\n",
            "\n",
            "\n",
            "tune_num_leaves, val_score: 0.056327:  70%|#######   | 14/20 [05:55<02:36, 26.14s/it]\u001b[A\u001b[A"
          ],
          "name": "stderr"
        },
        {
          "output_type": "stream",
          "text": [
            "Training until validation scores don't improve for 100 rounds.\n",
            "[100]\ttraining's mape: 0.0547077\tvalid_1's mape: 0.0562496\n"
          ],
          "name": "stdout"
        },
        {
          "output_type": "stream",
          "text": [
            "\n",
            "\n",
            "tune_num_leaves, val_score: 0.056327:  70%|#######   | 14/20 [06:18<02:36, 26.14s/it]\u001b[A\u001b[A\n",
            "\n",
            "tune_num_leaves, val_score: 0.056327:  75%|#######5  | 15/20 [06:18<02:06, 25.30s/it]\u001b[A\u001b[A\u001b[32m[I 2020-04-05 13:58:53,146]\u001b[0m Finished trial#14 with value: 0.05624589636172435 with parameters: {'num_leaves': 165}. Best is trial#2 with value: 0.05632674775621278.\u001b[0m\n",
            "\n",
            "\n",
            "tune_num_leaves, val_score: 0.056327:  75%|#######5  | 15/20 [06:18<02:06, 25.30s/it]\u001b[A\u001b[A"
          ],
          "name": "stderr"
        },
        {
          "output_type": "stream",
          "text": [
            "Early stopping, best iteration is:\n",
            "[97]\ttraining's mape: 0.05473\tvalid_1's mape: 0.0562459\n",
            "Training until validation scores don't improve for 100 rounds.\n",
            "[100]\ttraining's mape: 0.0542702\tvalid_1's mape: 0.0563471\n"
          ],
          "name": "stdout"
        },
        {
          "output_type": "stream",
          "text": [
            "\n",
            "\n",
            "tune_num_leaves, val_score: 0.056334:  75%|#######5  | 15/20 [06:44<02:06, 25.30s/it]\u001b[A\u001b[A\n",
            "\n",
            "tune_num_leaves, val_score: 0.056334:  80%|########  | 16/20 [06:44<01:41, 25.50s/it]\u001b[A\u001b[A"
          ],
          "name": "stderr"
        },
        {
          "output_type": "stream",
          "text": [
            "Early stopping, best iteration is:\n",
            "[80]\ttraining's mape: 0.0545401\tvalid_1's mape: 0.0563336\n"
          ],
          "name": "stdout"
        },
        {
          "output_type": "stream",
          "text": [
            "\u001b[32m[I 2020-04-05 13:59:19,089]\u001b[0m Finished trial#15 with value: 0.0563336167779107 with parameters: {'num_leaves': 249}. Best is trial#15 with value: 0.0563336167779107.\u001b[0m\n",
            "\n",
            "\n",
            "tune_num_leaves, val_score: 0.056334:  80%|########  | 16/20 [06:44<01:41, 25.50s/it]\u001b[A\u001b[A"
          ],
          "name": "stderr"
        },
        {
          "output_type": "stream",
          "text": [
            "Training until validation scores don't improve for 100 rounds.\n",
            "[100]\ttraining's mape: 0.0542069\tvalid_1's mape: 0.0563249\n"
          ],
          "name": "stdout"
        },
        {
          "output_type": "stream",
          "text": [
            "\n",
            "\n",
            "tune_num_leaves, val_score: 0.056334:  80%|########  | 16/20 [07:11<01:41, 25.50s/it]\u001b[A\u001b[A\n",
            "\n",
            "tune_num_leaves, val_score: 0.056334:  85%|########5 | 17/20 [07:11<01:18, 26.02s/it]\u001b[A\u001b[A"
          ],
          "name": "stderr"
        },
        {
          "output_type": "stream",
          "text": [
            "Early stopping, best iteration is:\n",
            "[92]\ttraining's mape: 0.0543323\tvalid_1's mape: 0.0563055\n"
          ],
          "name": "stdout"
        },
        {
          "output_type": "stream",
          "text": [
            "\u001b[32m[I 2020-04-05 13:59:46,341]\u001b[0m Finished trial#16 with value: 0.05630545231297057 with parameters: {'num_leaves': 255}. Best is trial#15 with value: 0.0563336167779107.\u001b[0m\n",
            "\n",
            "\n",
            "tune_num_leaves, val_score: 0.056334:  85%|########5 | 17/20 [07:11<01:18, 26.02s/it]\u001b[A\u001b[A"
          ],
          "name": "stderr"
        },
        {
          "output_type": "stream",
          "text": [
            "Training until validation scores don't improve for 100 rounds.\n",
            "[100]\ttraining's mape: 0.0565674\tvalid_1's mape: 0.0570256\n",
            "[200]\ttraining's mape: 0.0560285\tvalid_1's mape: 0.0562295\n",
            "[300]\ttraining's mape: 0.0558652\tvalid_1's mape: 0.0559997\n",
            "[400]\ttraining's mape: 0.0557493\tvalid_1's mape: 0.0559261\n",
            "[500]\ttraining's mape: 0.0556798\tvalid_1's mape: 0.0558488\n",
            "[600]\ttraining's mape: 0.0556252\tvalid_1's mape: 0.0558317\n",
            "[700]\ttraining's mape: 0.0555841\tvalid_1's mape: 0.0558292\n"
          ],
          "name": "stdout"
        },
        {
          "output_type": "stream",
          "text": [
            "\n",
            "\n",
            "tune_num_leaves, val_score: 0.056334:  85%|########5 | 17/20 [07:45<01:18, 26.02s/it]\u001b[A\u001b[A\n",
            "\n",
            "tune_num_leaves, val_score: 0.056334:  90%|######### | 18/20 [07:45<00:56, 28.41s/it]\u001b[A\u001b[A\u001b[32m[I 2020-04-05 14:00:20,332]\u001b[0m Finished trial#17 with value: 0.05581581406961056 with parameters: {'num_leaves': 4}. Best is trial#15 with value: 0.0563336167779107.\u001b[0m\n",
            "\n",
            "\n",
            "tune_num_leaves, val_score: 0.056334:  90%|######### | 18/20 [07:45<00:56, 28.41s/it]\u001b[A\u001b[A"
          ],
          "name": "stderr"
        },
        {
          "output_type": "stream",
          "text": [
            "Early stopping, best iteration is:\n",
            "[657]\ttraining's mape: 0.0556028\tvalid_1's mape: 0.0558158\n",
            "Training until validation scores don't improve for 100 rounds.\n",
            "[100]\ttraining's mape: 0.0544005\tvalid_1's mape: 0.0562543\n",
            "[200]\ttraining's mape: 0.053726\tvalid_1's mape: 0.0562698\n"
          ],
          "name": "stdout"
        },
        {
          "output_type": "stream",
          "text": [
            "\n",
            "\n",
            "tune_num_leaves, val_score: 0.056334:  90%|######### | 18/20 [08:12<00:56, 28.41s/it]\u001b[A\u001b[A\n",
            "\n",
            "tune_num_leaves, val_score: 0.056334:  95%|#########5| 19/20 [08:12<00:27, 27.84s/it]\u001b[A\u001b[A"
          ],
          "name": "stderr"
        },
        {
          "output_type": "stream",
          "text": [
            "Early stopping, best iteration is:\n",
            "[111]\ttraining's mape: 0.0543176\tvalid_1's mape: 0.0562475\n"
          ],
          "name": "stdout"
        },
        {
          "output_type": "stream",
          "text": [
            "\u001b[32m[I 2020-04-05 14:00:46,821]\u001b[0m Finished trial#18 with value: 0.056247474683147974 with parameters: {'num_leaves': 221}. Best is trial#15 with value: 0.0563336167779107.\u001b[0m\n",
            "\n",
            "\n",
            "tune_num_leaves, val_score: 0.056334:  95%|#########5| 19/20 [08:12<00:27, 27.84s/it]\u001b[A\u001b[A"
          ],
          "name": "stderr"
        },
        {
          "output_type": "stream",
          "text": [
            "Training until validation scores don't improve for 100 rounds.\n",
            "[100]\ttraining's mape: 0.0554055\tvalid_1's mape: 0.0561095\n",
            "[200]\ttraining's mape: 0.0551449\tvalid_1's mape: 0.0560637\n",
            "[300]\ttraining's mape: 0.0549223\tvalid_1's mape: 0.0560796\n"
          ],
          "name": "stdout"
        },
        {
          "output_type": "stream",
          "text": [
            "\n",
            "\n",
            "tune_num_leaves, val_score: 0.056334:  95%|#########5| 19/20 [08:34<00:27, 27.84s/it]\u001b[A\u001b[A\n",
            "\n",
            "tune_num_leaves, val_score: 0.056334: 100%|##########| 20/20 [08:34<00:00, 26.10s/it]\u001b[A\u001b[A\u001b[32m[I 2020-04-05 14:01:08,884]\u001b[0m Finished trial#19 with value: 0.05605949786995295 with parameters: {'num_leaves': 43}. Best is trial#15 with value: 0.0563336167779107.\u001b[0m\n",
            "tune_num_leaves, val_score: 0.056334: 100%|##########| 20/20 [08:34<00:00, 25.71s/it]\n",
            "\n",
            "\n",
            "  0%|          | 0/10 [00:00<?, ?it/s]\u001b[A\u001b[A\n",
            "\n",
            "tune_bagging_fraction_and_bagging_freq, val_score: 0.056334:   0%|          | 0/10 [00:00<?, ?it/s]\u001b[A\u001b[A"
          ],
          "name": "stderr"
        },
        {
          "output_type": "stream",
          "text": [
            "Early stopping, best iteration is:\n",
            "[212]\ttraining's mape: 0.0551215\tvalid_1's mape: 0.0560595\n",
            "Training until validation scores don't improve for 100 rounds.\n",
            "[100]\ttraining's mape: 0.054355\tvalid_1's mape: 0.0563975\n"
          ],
          "name": "stdout"
        },
        {
          "output_type": "stream",
          "text": [
            "\n",
            "\n",
            "tune_bagging_fraction_and_bagging_freq, val_score: 0.056390:   0%|          | 0/10 [00:29<?, ?it/s]\u001b[A\u001b[A\n",
            "\n",
            "tune_bagging_fraction_and_bagging_freq, val_score: 0.056390:  10%|#         | 1/10 [00:29<04:27, 29.78s/it]\u001b[A\u001b[A"
          ],
          "name": "stderr"
        },
        {
          "output_type": "stream",
          "text": [
            "Early stopping, best iteration is:\n",
            "[96]\ttraining's mape: 0.054409\tvalid_1's mape: 0.0563905\n"
          ],
          "name": "stdout"
        },
        {
          "output_type": "stream",
          "text": [
            "\u001b[32m[I 2020-04-05 14:01:38,760]\u001b[0m Finished trial#0 with value: 0.056390472958473575 with parameters: {'bagging_fraction': 0.48212758911553566, 'bagging_freq': 6}. Best is trial#0 with value: 0.056390472958473575.\u001b[0m\n",
            "\n",
            "\n",
            "tune_bagging_fraction_and_bagging_freq, val_score: 0.056390:  10%|#         | 1/10 [00:29<04:27, 29.78s/it]\u001b[A\u001b[A"
          ],
          "name": "stderr"
        },
        {
          "output_type": "stream",
          "text": [
            "Training until validation scores don't improve for 100 rounds.\n",
            "[100]\ttraining's mape: 0.054277\tvalid_1's mape: 0.0563561\n"
          ],
          "name": "stdout"
        },
        {
          "output_type": "stream",
          "text": [
            "\n",
            "\n",
            "tune_bagging_fraction_and_bagging_freq, val_score: 0.056390:  10%|#         | 1/10 [01:02<04:27, 29.78s/it]\u001b[A\u001b[A\n",
            "\n",
            "tune_bagging_fraction_and_bagging_freq, val_score: 0.056390:  20%|##        | 2/10 [01:02<04:04, 30.53s/it]\u001b[A\u001b[A\u001b[32m[I 2020-04-05 14:02:11,030]\u001b[0m Finished trial#1 with value: 0.05632805608909594 with parameters: {'bagging_fraction': 0.7455548439911923, 'bagging_freq': 2}. Best is trial#0 with value: 0.056390472958473575.\u001b[0m\n"
          ],
          "name": "stderr"
        },
        {
          "output_type": "stream",
          "text": [
            "Early stopping, best iteration is:\n",
            "[91]\ttraining's mape: 0.0543764\tvalid_1's mape: 0.0563281\n"
          ],
          "name": "stdout"
        },
        {
          "output_type": "stream",
          "text": [
            "\n",
            "\n",
            "tune_bagging_fraction_and_bagging_freq, val_score: 0.056390:  20%|##        | 2/10 [01:02<04:04, 30.53s/it]\u001b[A\u001b[A"
          ],
          "name": "stderr"
        },
        {
          "output_type": "stream",
          "text": [
            "Training until validation scores don't improve for 100 rounds.\n",
            "[100]\ttraining's mape: 0.0542533\tvalid_1's mape: 0.0563799\n",
            "[200]\ttraining's mape: 0.053275\tvalid_1's mape: 0.0564977\n"
          ],
          "name": "stdout"
        },
        {
          "output_type": "stream",
          "text": [
            "\n",
            "\n",
            "tune_bagging_fraction_and_bagging_freq, val_score: 0.056390:  20%|##        | 2/10 [01:34<04:04, 30.53s/it]\u001b[A\u001b[A\n",
            "\n",
            "tune_bagging_fraction_and_bagging_freq, val_score: 0.056390:  30%|###       | 3/10 [01:34<03:36, 30.96s/it]\u001b[A\u001b[A"
          ],
          "name": "stderr"
        },
        {
          "output_type": "stream",
          "text": [
            "Early stopping, best iteration is:\n",
            "[104]\ttraining's mape: 0.0542016\tvalid_1's mape: 0.0563479\n"
          ],
          "name": "stdout"
        },
        {
          "output_type": "stream",
          "text": [
            "\u001b[32m[I 2020-04-05 14:02:43,014]\u001b[0m Finished trial#2 with value: 0.05634791690886784 with parameters: {'bagging_fraction': 0.755850935302439, 'bagging_freq': 5}. Best is trial#0 with value: 0.056390472958473575.\u001b[0m\n",
            "\n",
            "\n",
            "tune_bagging_fraction_and_bagging_freq, val_score: 0.056390:  30%|###       | 3/10 [01:34<03:36, 30.96s/it]\u001b[A\u001b[A"
          ],
          "name": "stderr"
        },
        {
          "output_type": "stream",
          "text": [
            "Training until validation scores don't improve for 100 rounds.\n",
            "[100]\ttraining's mape: 0.0543052\tvalid_1's mape: 0.0563467\n",
            "[200]\ttraining's mape: 0.0533841\tvalid_1's mape: 0.0564606\n"
          ],
          "name": "stdout"
        },
        {
          "output_type": "stream",
          "text": [
            "\n",
            "\n",
            "tune_bagging_fraction_and_bagging_freq, val_score: 0.056390:  30%|###       | 3/10 [02:09<03:36, 30.96s/it]\u001b[A\u001b[A\n",
            "\n",
            "tune_bagging_fraction_and_bagging_freq, val_score: 0.056390:  40%|####      | 4/10 [02:09<03:14, 32.44s/it]\u001b[A\u001b[A"
          ],
          "name": "stderr"
        },
        {
          "output_type": "stream",
          "text": [
            "Early stopping, best iteration is:\n",
            "[123]\ttraining's mape: 0.0540512\tvalid_1's mape: 0.0563265\n"
          ],
          "name": "stdout"
        },
        {
          "output_type": "stream",
          "text": [
            "\u001b[32m[I 2020-04-05 14:03:18,896]\u001b[0m Finished trial#3 with value: 0.0563264729529102 with parameters: {'bagging_fraction': 0.5538374791751273, 'bagging_freq': 5}. Best is trial#0 with value: 0.056390472958473575.\u001b[0m\n",
            "\n",
            "\n",
            "tune_bagging_fraction_and_bagging_freq, val_score: 0.056390:  40%|####      | 4/10 [02:10<03:14, 32.44s/it]\u001b[A\u001b[A"
          ],
          "name": "stderr"
        },
        {
          "output_type": "stream",
          "text": [
            "Training until validation scores don't improve for 100 rounds.\n",
            "[100]\ttraining's mape: 0.0543875\tvalid_1's mape: 0.0563722\n"
          ],
          "name": "stdout"
        },
        {
          "output_type": "stream",
          "text": [
            "\n",
            "\n",
            "tune_bagging_fraction_and_bagging_freq, val_score: 0.056390:  40%|####      | 4/10 [02:42<03:14, 32.44s/it]\u001b[A\u001b[A\n",
            "\n",
            "tune_bagging_fraction_and_bagging_freq, val_score: 0.056390:  50%|#####     | 5/10 [02:42<02:41, 32.39s/it]\u001b[A\u001b[A"
          ],
          "name": "stderr"
        },
        {
          "output_type": "stream",
          "text": [
            "Early stopping, best iteration is:\n",
            "[94]\ttraining's mape: 0.0544548\tvalid_1's mape: 0.0563427\n"
          ],
          "name": "stdout"
        },
        {
          "output_type": "stream",
          "text": [
            "\u001b[32m[I 2020-04-05 14:03:51,164]\u001b[0m Finished trial#4 with value: 0.056342657475853514 with parameters: {'bagging_fraction': 0.42388656000058944, 'bagging_freq': 3}. Best is trial#0 with value: 0.056390472958473575.\u001b[0m\n",
            "\n",
            "\n",
            "tune_bagging_fraction_and_bagging_freq, val_score: 0.056390:  50%|#####     | 5/10 [02:42<02:41, 32.39s/it]\u001b[A\u001b[A"
          ],
          "name": "stderr"
        },
        {
          "output_type": "stream",
          "text": [
            "Training until validation scores don't improve for 100 rounds.\n",
            "[100]\ttraining's mape: 0.0543041\tvalid_1's mape: 0.0563908\n"
          ],
          "name": "stdout"
        },
        {
          "output_type": "stream",
          "text": [
            "\n",
            "\n",
            "tune_bagging_fraction_and_bagging_freq, val_score: 0.056390:  50%|#####     | 5/10 [03:12<02:41, 32.39s/it]\u001b[A\u001b[A\n",
            "\n",
            "tune_bagging_fraction_and_bagging_freq, val_score: 0.056390:  60%|######    | 6/10 [03:12<02:06, 31.67s/it]\u001b[A\u001b[A\u001b[32m[I 2020-04-05 14:04:21,172]\u001b[0m Finished trial#5 with value: 0.05634807296179165 with parameters: {'bagging_fraction': 0.5427276285608915, 'bagging_freq': 3}. Best is trial#0 with value: 0.056390472958473575.\u001b[0m\n",
            "\n",
            "\n",
            "tune_bagging_fraction_and_bagging_freq, val_score: 0.056390:  60%|######    | 6/10 [03:12<02:06, 31.67s/it]\u001b[A\u001b[A"
          ],
          "name": "stderr"
        },
        {
          "output_type": "stream",
          "text": [
            "Early stopping, best iteration is:\n",
            "[79]\ttraining's mape: 0.0545619\tvalid_1's mape: 0.0563481\n",
            "Training until validation scores don't improve for 100 rounds.\n",
            "[100]\ttraining's mape: 0.0542535\tvalid_1's mape: 0.0563202\n"
          ],
          "name": "stdout"
        },
        {
          "output_type": "stream",
          "text": [
            "\n",
            "\n",
            "tune_bagging_fraction_and_bagging_freq, val_score: 0.056390:  60%|######    | 6/10 [03:45<02:06, 31.67s/it]\u001b[A\u001b[A\n",
            "\n",
            "tune_bagging_fraction_and_bagging_freq, val_score: 0.056390:  70%|#######   | 7/10 [03:45<01:36, 32.18s/it]\u001b[A\u001b[A"
          ],
          "name": "stderr"
        },
        {
          "output_type": "stream",
          "text": [
            "Early stopping, best iteration is:\n",
            "[96]\ttraining's mape: 0.0543075\tvalid_1's mape: 0.0563075\n"
          ],
          "name": "stdout"
        },
        {
          "output_type": "stream",
          "text": [
            "\u001b[32m[I 2020-04-05 14:04:54,536]\u001b[0m Finished trial#6 with value: 0.056307542633266795 with parameters: {'bagging_fraction': 0.8460373921867509, 'bagging_freq': 3}. Best is trial#0 with value: 0.056390472958473575.\u001b[0m\n",
            "\n",
            "\n",
            "tune_bagging_fraction_and_bagging_freq, val_score: 0.056390:  70%|#######   | 7/10 [03:45<01:36, 32.18s/it]\u001b[A\u001b[A"
          ],
          "name": "stderr"
        },
        {
          "output_type": "stream",
          "text": [
            "Training until validation scores don't improve for 100 rounds.\n",
            "[100]\ttraining's mape: 0.0542536\tvalid_1's mape: 0.0563365\n"
          ],
          "name": "stdout"
        },
        {
          "output_type": "stream",
          "text": [
            "\n",
            "\n",
            "tune_bagging_fraction_and_bagging_freq, val_score: 0.056390:  70%|#######   | 7/10 [04:16<01:36, 32.18s/it]\u001b[A\u001b[A\n",
            "\n",
            "tune_bagging_fraction_and_bagging_freq, val_score: 0.056390:  80%|########  | 8/10 [04:16<01:03, 31.95s/it]\u001b[A\u001b[A\u001b[32m[I 2020-04-05 14:05:25,939]\u001b[0m Finished trial#7 with value: 0.056308511910345894 with parameters: {'bagging_fraction': 0.9476295538266155, 'bagging_freq': 6}. Best is trial#0 with value: 0.056390472958473575.\u001b[0m\n",
            "\n",
            "\n",
            "tune_bagging_fraction_and_bagging_freq, val_score: 0.056390:  80%|########  | 8/10 [04:17<01:03, 31.95s/it]\u001b[A\u001b[A"
          ],
          "name": "stderr"
        },
        {
          "output_type": "stream",
          "text": [
            "Early stopping, best iteration is:\n",
            "[84]\ttraining's mape: 0.0544532\tvalid_1's mape: 0.0563085\n",
            "Training until validation scores don't improve for 100 rounds.\n",
            "[100]\ttraining's mape: 0.0542427\tvalid_1's mape: 0.0563424\n"
          ],
          "name": "stdout"
        },
        {
          "output_type": "stream",
          "text": [
            "\n",
            "\n",
            "tune_bagging_fraction_and_bagging_freq, val_score: 0.056390:  80%|########  | 8/10 [04:49<01:03, 31.95s/it]\u001b[A\u001b[A\n",
            "\n",
            "tune_bagging_fraction_and_bagging_freq, val_score: 0.056390:  90%|######### | 9/10 [04:49<00:32, 32.22s/it]\u001b[A\u001b[A"
          ],
          "name": "stderr"
        },
        {
          "output_type": "stream",
          "text": [
            "Early stopping, best iteration is:\n",
            "[90]\ttraining's mape: 0.0543612\tvalid_1's mape: 0.0563193\n"
          ],
          "name": "stdout"
        },
        {
          "output_type": "stream",
          "text": [
            "\u001b[32m[I 2020-04-05 14:05:58,799]\u001b[0m Finished trial#8 with value: 0.056319290467386804 with parameters: {'bagging_fraction': 0.8335370075828279, 'bagging_freq': 2}. Best is trial#0 with value: 0.056390472958473575.\u001b[0m\n",
            "\n",
            "\n",
            "tune_bagging_fraction_and_bagging_freq, val_score: 0.056390:  90%|######### | 9/10 [04:49<00:32, 32.22s/it]\u001b[A\u001b[A"
          ],
          "name": "stderr"
        },
        {
          "output_type": "stream",
          "text": [
            "Training until validation scores don't improve for 100 rounds.\n",
            "[100]\ttraining's mape: 0.0543338\tvalid_1's mape: 0.0563505\n"
          ],
          "name": "stdout"
        },
        {
          "output_type": "stream",
          "text": [
            "\n",
            "\n",
            "tune_bagging_fraction_and_bagging_freq, val_score: 0.056390:  90%|######### | 9/10 [05:18<00:32, 32.22s/it]\u001b[A\u001b[A\n",
            "\n",
            "tune_bagging_fraction_and_bagging_freq, val_score: 0.056390: 100%|##########| 10/10 [05:18<00:00, 31.05s/it]\u001b[A\u001b[A"
          ],
          "name": "stderr"
        },
        {
          "output_type": "stream",
          "text": [
            "Early stopping, best iteration is:\n",
            "[81]\ttraining's mape: 0.054555\tvalid_1's mape: 0.0563173\n"
          ],
          "name": "stdout"
        },
        {
          "output_type": "stream",
          "text": [
            "\u001b[32m[I 2020-04-05 14:06:27,113]\u001b[0m Finished trial#9 with value: 0.05631734718352722 with parameters: {'bagging_fraction': 0.5072211572496723, 'bagging_freq': 5}. Best is trial#0 with value: 0.056390472958473575.\u001b[0m\n",
            "tune_bagging_fraction_and_bagging_freq, val_score: 0.056390: 100%|##########| 10/10 [05:18<00:00, 31.82s/it]\n",
            "\n",
            "\n",
            "  0%|          | 0/6 [00:00<?, ?it/s]\u001b[A\u001b[A\n",
            "\n",
            "tune_feature_fraction, val_score: 0.056390:   0%|          | 0/6 [00:00<?, ?it/s]\u001b[A\u001b[A"
          ],
          "name": "stderr"
        },
        {
          "output_type": "stream",
          "text": [
            "Training until validation scores don't improve for 100 rounds.\n",
            "[100]\ttraining's mape: 0.0543835\tvalid_1's mape: 0.0564311\n",
            "[200]\ttraining's mape: 0.053514\tvalid_1's mape: 0.0565809\n"
          ],
          "name": "stdout"
        },
        {
          "output_type": "stream",
          "text": [
            "\n",
            "\n",
            "tune_feature_fraction, val_score: 0.056422:   0%|          | 0/6 [00:31<?, ?it/s]\u001b[A\u001b[A\n",
            "\n",
            "tune_feature_fraction, val_score: 0.056422:  17%|#6        | 1/6 [00:31<02:35, 31.19s/it]\u001b[A\u001b[A"
          ],
          "name": "stderr"
        },
        {
          "output_type": "stream",
          "text": [
            "Early stopping, best iteration is:\n",
            "[111]\ttraining's mape: 0.0542803\tvalid_1's mape: 0.0564218\n"
          ],
          "name": "stdout"
        },
        {
          "output_type": "stream",
          "text": [
            "\u001b[32m[I 2020-04-05 14:06:58,408]\u001b[0m Finished trial#0 with value: 0.056421804421460706 with parameters: {'feature_fraction': 0.82}. Best is trial#0 with value: 0.056421804421460706.\u001b[0m\n",
            "\n",
            "\n",
            "tune_feature_fraction, val_score: 0.056422:  17%|#6        | 1/6 [00:31<02:35, 31.19s/it]\u001b[A\u001b[A"
          ],
          "name": "stderr"
        },
        {
          "output_type": "stream",
          "text": [
            "Training until validation scores don't improve for 100 rounds.\n",
            "[100]\ttraining's mape: 0.0543829\tvalid_1's mape: 0.0564271\n",
            "[200]\ttraining's mape: 0.0535191\tvalid_1's mape: 0.0565979\n"
          ],
          "name": "stdout"
        },
        {
          "output_type": "stream",
          "text": [
            "\n",
            "\n",
            "tune_feature_fraction, val_score: 0.056422:  17%|#6        | 1/6 [01:02<02:35, 31.19s/it]\u001b[A\u001b[A\n",
            "\n",
            "tune_feature_fraction, val_score: 0.056422:  33%|###3      | 2/6 [01:02<02:04, 31.12s/it]\u001b[A\u001b[A"
          ],
          "name": "stderr"
        },
        {
          "output_type": "stream",
          "text": [
            "Early stopping, best iteration is:\n",
            "[113]\ttraining's mape: 0.0542659\tvalid_1's mape: 0.0563964\n"
          ],
          "name": "stdout"
        },
        {
          "output_type": "stream",
          "text": [
            "\u001b[32m[I 2020-04-05 14:07:29,373]\u001b[0m Finished trial#1 with value: 0.05639635155528438 with parameters: {'feature_fraction': 0.852}. Best is trial#0 with value: 0.056421804421460706.\u001b[0m\n",
            "\n",
            "\n",
            "tune_feature_fraction, val_score: 0.056422:  33%|###3      | 2/6 [01:02<02:04, 31.12s/it]\u001b[A\u001b[A"
          ],
          "name": "stderr"
        },
        {
          "output_type": "stream",
          "text": [
            "Training until validation scores don't improve for 100 rounds.\n",
            "[100]\ttraining's mape: 0.0543466\tvalid_1's mape: 0.0564645\n",
            "[200]\ttraining's mape: 0.053486\tvalid_1's mape: 0.0565686\n"
          ],
          "name": "stdout"
        },
        {
          "output_type": "stream",
          "text": [
            "\n",
            "\n",
            "tune_feature_fraction, val_score: 0.056422:  33%|###3      | 2/6 [01:33<02:04, 31.12s/it]\u001b[A\u001b[A\n",
            "\n",
            "tune_feature_fraction, val_score: 0.056422:  50%|#####     | 3/6 [01:33<01:33, 31.27s/it]\u001b[A\u001b[A"
          ],
          "name": "stderr"
        },
        {
          "output_type": "stream",
          "text": [
            "Early stopping, best iteration is:\n",
            "[115]\ttraining's mape: 0.0542124\tvalid_1's mape: 0.056414\n"
          ],
          "name": "stdout"
        },
        {
          "output_type": "stream",
          "text": [
            "\u001b[32m[I 2020-04-05 14:08:00,992]\u001b[0m Finished trial#2 with value: 0.05641404781069136 with parameters: {'feature_fraction': 0.8839999999999999}. Best is trial#0 with value: 0.056421804421460706.\u001b[0m\n",
            "\n",
            "\n",
            "tune_feature_fraction, val_score: 0.056422:  50%|#####     | 3/6 [01:33<01:33, 31.27s/it]\u001b[A\u001b[A"
          ],
          "name": "stderr"
        },
        {
          "output_type": "stream",
          "text": [
            "Training until validation scores don't improve for 100 rounds.\n",
            "[100]\ttraining's mape: 0.054355\tvalid_1's mape: 0.0563975\n"
          ],
          "name": "stdout"
        },
        {
          "output_type": "stream",
          "text": [
            "\n",
            "\n",
            "tune_feature_fraction, val_score: 0.056422:  50%|#####     | 3/6 [02:03<01:33, 31.27s/it]\u001b[A\u001b[A\n",
            "\n",
            "tune_feature_fraction, val_score: 0.056422:  67%|######6   | 4/6 [02:03<01:01, 30.86s/it]\u001b[A\u001b[A"
          ],
          "name": "stderr"
        },
        {
          "output_type": "stream",
          "text": [
            "Early stopping, best iteration is:\n",
            "[96]\ttraining's mape: 0.054409\tvalid_1's mape: 0.0563905\n"
          ],
          "name": "stdout"
        },
        {
          "output_type": "stream",
          "text": [
            "\u001b[32m[I 2020-04-05 14:08:30,881]\u001b[0m Finished trial#3 with value: 0.056390472958473575 with parameters: {'feature_fraction': 0.9159999999999999}. Best is trial#0 with value: 0.056421804421460706.\u001b[0m\n",
            "\n",
            "\n",
            "tune_feature_fraction, val_score: 0.056422:  67%|######6   | 4/6 [02:03<01:01, 30.86s/it]\u001b[A\u001b[A"
          ],
          "name": "stderr"
        },
        {
          "output_type": "stream",
          "text": [
            "Training until validation scores don't improve for 100 rounds.\n",
            "[100]\ttraining's mape: 0.054358\tvalid_1's mape: 0.0564123\n",
            "[200]\ttraining's mape: 0.0534978\tvalid_1's mape: 0.0565977\n"
          ],
          "name": "stdout"
        },
        {
          "output_type": "stream",
          "text": [
            "\n",
            "\n",
            "tune_feature_fraction, val_score: 0.056422:  67%|######6   | 4/6 [02:35<01:01, 30.86s/it]\u001b[A\u001b[A\n",
            "\n",
            "tune_feature_fraction, val_score: 0.056422:  83%|########3 | 5/6 [02:35<00:31, 31.21s/it]\u001b[A\u001b[A"
          ],
          "name": "stderr"
        },
        {
          "output_type": "stream",
          "text": [
            "Early stopping, best iteration is:\n",
            "[115]\ttraining's mape: 0.0542249\tvalid_1's mape: 0.0563894\n"
          ],
          "name": "stdout"
        },
        {
          "output_type": "stream",
          "text": [
            "\u001b[32m[I 2020-04-05 14:09:02,925]\u001b[0m Finished trial#4 with value: 0.05638935885838905 with parameters: {'feature_fraction': 0.948}. Best is trial#0 with value: 0.056421804421460706.\u001b[0m\n",
            "\n",
            "\n",
            "tune_feature_fraction, val_score: 0.056422:  83%|########3 | 5/6 [02:35<00:31, 31.21s/it]\u001b[A\u001b[A"
          ],
          "name": "stderr"
        },
        {
          "output_type": "stream",
          "text": [
            "Training until validation scores don't improve for 100 rounds.\n",
            "[100]\ttraining's mape: 0.0543509\tvalid_1's mape: 0.0564269\n"
          ],
          "name": "stdout"
        },
        {
          "output_type": "stream",
          "text": [
            "\n",
            "\n",
            "tune_feature_fraction, val_score: 0.056422:  83%|########3 | 5/6 [03:04<00:31, 31.21s/it]\u001b[A\u001b[A\n",
            "\n",
            "tune_feature_fraction, val_score: 0.056422: 100%|##########| 6/6 [03:04<00:00, 30.39s/it]\u001b[A\u001b[A\u001b[32m[I 2020-04-05 14:09:31,391]\u001b[0m Finished trial#5 with value: 0.05639988451401664 with parameters: {'feature_fraction': 0.9799999999999999}. Best is trial#0 with value: 0.056421804421460706.\u001b[0m\n",
            "tune_feature_fraction, val_score: 0.056422: 100%|##########| 6/6 [03:04<00:00, 30.71s/it]\n",
            "\n",
            "\n",
            "  0%|          | 0/20 [00:00<?, ?it/s]\u001b[A\u001b[A\n",
            "\n",
            "tune_lambda_l1_and_lambda_l2, val_score: 0.056422:   0%|          | 0/20 [00:00<?, ?it/s]\u001b[A\u001b[A"
          ],
          "name": "stderr"
        },
        {
          "output_type": "stream",
          "text": [
            "Early stopping, best iteration is:\n",
            "[83]\ttraining's mape: 0.0545451\tvalid_1's mape: 0.0563999\n",
            "Training until validation scores don't improve for 100 rounds.\n",
            "[100]\ttraining's mape: 0.054362\tvalid_1's mape: 0.0564644\n",
            "[200]\ttraining's mape: 0.0534894\tvalid_1's mape: 0.0566486\n"
          ],
          "name": "stdout"
        },
        {
          "output_type": "stream",
          "text": [
            "\n",
            "\n",
            "tune_lambda_l1_and_lambda_l2, val_score: 0.056436:   0%|          | 0/20 [00:30<?, ?it/s]\u001b[A\u001b[A\n",
            "\n",
            "tune_lambda_l1_and_lambda_l2, val_score: 0.056436:   5%|5         | 1/20 [00:30<09:42, 30.64s/it]\u001b[A\u001b[A"
          ],
          "name": "stderr"
        },
        {
          "output_type": "stream",
          "text": [
            "Early stopping, best iteration is:\n",
            "[114]\ttraining's mape: 0.0542268\tvalid_1's mape: 0.0564362\n"
          ],
          "name": "stdout"
        },
        {
          "output_type": "stream",
          "text": [
            "\u001b[32m[I 2020-04-05 14:10:02,134]\u001b[0m Finished trial#0 with value: 0.05643616189791851 with parameters: {'lambda_l1': 9.41454810043498e-06, 'lambda_l2': 0.00015236262606964214}. Best is trial#0 with value: 0.05643616189791851.\u001b[0m\n",
            "\n",
            "\n",
            "tune_lambda_l1_and_lambda_l2, val_score: 0.056436:   5%|5         | 1/20 [00:30<09:42, 30.64s/it]\u001b[A\u001b[A"
          ],
          "name": "stderr"
        },
        {
          "output_type": "stream",
          "text": [
            "Training until validation scores don't improve for 100 rounds.\n",
            "[100]\ttraining's mape: 0.054362\tvalid_1's mape: 0.0564644\n",
            "[200]\ttraining's mape: 0.0534919\tvalid_1's mape: 0.0566351\n"
          ],
          "name": "stdout"
        },
        {
          "output_type": "stream",
          "text": [
            "\n",
            "\n",
            "tune_lambda_l1_and_lambda_l2, val_score: 0.056436:   5%|5         | 1/20 [01:01<09:42, 30.64s/it]\u001b[A\u001b[A\n",
            "\n",
            "tune_lambda_l1_and_lambda_l2, val_score: 0.056436:  10%|#         | 2/20 [01:01<09:13, 30.77s/it]\u001b[A\u001b[A"
          ],
          "name": "stderr"
        },
        {
          "output_type": "stream",
          "text": [
            "Early stopping, best iteration is:\n",
            "[114]\ttraining's mape: 0.0542268\tvalid_1's mape: 0.0564362\n"
          ],
          "name": "stdout"
        },
        {
          "output_type": "stream",
          "text": [
            "\u001b[32m[I 2020-04-05 14:10:33,222]\u001b[0m Finished trial#1 with value: 0.05643616189791851 with parameters: {'lambda_l1': 3.614027623887138e-07, 'lambda_l2': 0.00071388672561218}. Best is trial#0 with value: 0.05643616189791851.\u001b[0m\n",
            "\n",
            "\n",
            "tune_lambda_l1_and_lambda_l2, val_score: 0.056436:  10%|#         | 2/20 [01:01<09:13, 30.77s/it]\u001b[A\u001b[A"
          ],
          "name": "stderr"
        },
        {
          "output_type": "stream",
          "text": [
            "Training until validation scores don't improve for 100 rounds.\n",
            "[100]\ttraining's mape: 0.0543499\tvalid_1's mape: 0.0564317\n",
            "[200]\ttraining's mape: 0.0534893\tvalid_1's mape: 0.0565228\n"
          ],
          "name": "stdout"
        },
        {
          "output_type": "stream",
          "text": [
            "\n",
            "\n",
            "tune_lambda_l1_and_lambda_l2, val_score: 0.056436:  10%|#         | 2/20 [01:33<09:13, 30.77s/it]\u001b[A\u001b[A\n",
            "\n",
            "tune_lambda_l1_and_lambda_l2, val_score: 0.056436:  15%|#5        | 3/20 [01:33<08:48, 31.06s/it]\u001b[A\u001b[A"
          ],
          "name": "stderr"
        },
        {
          "output_type": "stream",
          "text": [
            "Early stopping, best iteration is:\n",
            "[114]\ttraining's mape: 0.0542155\tvalid_1's mape: 0.0563985\n"
          ],
          "name": "stdout"
        },
        {
          "output_type": "stream",
          "text": [
            "\u001b[32m[I 2020-04-05 14:11:04,944]\u001b[0m Finished trial#2 with value: 0.05639854170440655 with parameters: {'lambda_l1': 1.0244963159568103, 'lambda_l2': 0.18722521339522652}. Best is trial#0 with value: 0.05643616189791851.\u001b[0m\n",
            "\n",
            "\n",
            "tune_lambda_l1_and_lambda_l2, val_score: 0.056436:  15%|#5        | 3/20 [01:33<08:48, 31.06s/it]\u001b[A\u001b[A"
          ],
          "name": "stderr"
        },
        {
          "output_type": "stream",
          "text": [
            "Training until validation scores don't improve for 100 rounds.\n",
            "[100]\ttraining's mape: 0.054362\tvalid_1's mape: 0.0564644\n",
            "[200]\ttraining's mape: 0.0534919\tvalid_1's mape: 0.0566351\n"
          ],
          "name": "stdout"
        },
        {
          "output_type": "stream",
          "text": [
            "\n",
            "\n",
            "tune_lambda_l1_and_lambda_l2, val_score: 0.056436:  15%|#5        | 3/20 [02:04<08:48, 31.06s/it]\u001b[A\u001b[A\n",
            "\n",
            "tune_lambda_l1_and_lambda_l2, val_score: 0.056436:  20%|##        | 4/20 [02:04<08:15, 30.99s/it]\u001b[A\u001b[A"
          ],
          "name": "stderr"
        },
        {
          "output_type": "stream",
          "text": [
            "Early stopping, best iteration is:\n",
            "[114]\ttraining's mape: 0.0542268\tvalid_1's mape: 0.0564362\n"
          ],
          "name": "stdout"
        },
        {
          "output_type": "stream",
          "text": [
            "\u001b[32m[I 2020-04-05 14:11:35,776]\u001b[0m Finished trial#3 with value: 0.05643616189791851 with parameters: {'lambda_l1': 2.825164429567529e-05, 'lambda_l2': 3.5605204932203233e-07}. Best is trial#0 with value: 0.05643616189791851.\u001b[0m\n",
            "\n",
            "\n",
            "tune_lambda_l1_and_lambda_l2, val_score: 0.056436:  20%|##        | 4/20 [02:04<08:15, 30.99s/it]\u001b[A\u001b[A"
          ],
          "name": "stderr"
        },
        {
          "output_type": "stream",
          "text": [
            "Training until validation scores don't improve for 100 rounds.\n",
            "[100]\ttraining's mape: 0.0543724\tvalid_1's mape: 0.0564421\n",
            "[200]\ttraining's mape: 0.053513\tvalid_1's mape: 0.0565559\n"
          ],
          "name": "stdout"
        },
        {
          "output_type": "stream",
          "text": [
            "\n",
            "\n",
            "tune_lambda_l1_and_lambda_l2, val_score: 0.056436:  20%|##        | 4/20 [02:36<08:15, 30.99s/it]\u001b[A\u001b[A\n",
            "\n",
            "tune_lambda_l1_and_lambda_l2, val_score: 0.056436:  25%|##5       | 5/20 [02:36<07:49, 31.29s/it]\u001b[A\u001b[A"
          ],
          "name": "stderr"
        },
        {
          "output_type": "stream",
          "text": [
            "Early stopping, best iteration is:\n",
            "[117]\ttraining's mape: 0.0542251\tvalid_1's mape: 0.0564059\n"
          ],
          "name": "stdout"
        },
        {
          "output_type": "stream",
          "text": [
            "\u001b[32m[I 2020-04-05 14:12:07,770]\u001b[0m Finished trial#4 with value: 0.05640590427493444 with parameters: {'lambda_l1': 2.2737051396211003e-05, 'lambda_l2': 0.8340121243059084}. Best is trial#0 with value: 0.05643616189791851.\u001b[0m\n",
            "\n",
            "\n",
            "tune_lambda_l1_and_lambda_l2, val_score: 0.056436:  25%|##5       | 5/20 [02:36<07:49, 31.29s/it]\u001b[A\u001b[A"
          ],
          "name": "stderr"
        },
        {
          "output_type": "stream",
          "text": [
            "Training until validation scores don't improve for 100 rounds.\n",
            "[100]\ttraining's mape: 0.054353\tvalid_1's mape: 0.0563926\n",
            "[200]\ttraining's mape: 0.0534901\tvalid_1's mape: 0.0565474\n"
          ],
          "name": "stdout"
        },
        {
          "output_type": "stream",
          "text": [
            "\n",
            "\n",
            "tune_lambda_l1_and_lambda_l2, val_score: 0.056436:  25%|##5       | 5/20 [03:07<07:49, 31.29s/it]\u001b[A\u001b[A\n",
            "\n",
            "tune_lambda_l1_and_lambda_l2, val_score: 0.056436:  30%|###       | 6/20 [03:07<07:16, 31.18s/it]\u001b[A\u001b[A"
          ],
          "name": "stderr"
        },
        {
          "output_type": "stream",
          "text": [
            "Early stopping, best iteration is:\n",
            "[117]\ttraining's mape: 0.0541946\tvalid_1's mape: 0.0563641\n"
          ],
          "name": "stdout"
        },
        {
          "output_type": "stream",
          "text": [
            "\u001b[32m[I 2020-04-05 14:12:38,680]\u001b[0m Finished trial#5 with value: 0.05636405522793832 with parameters: {'lambda_l1': 0.027027533654214148, 'lambda_l2': 0.0002232384331159577}. Best is trial#0 with value: 0.05643616189791851.\u001b[0m\n",
            "\n",
            "\n",
            "tune_lambda_l1_and_lambda_l2, val_score: 0.056436:  30%|###       | 6/20 [03:07<07:16, 31.18s/it]\u001b[A\u001b[A"
          ],
          "name": "stderr"
        },
        {
          "output_type": "stream",
          "text": [
            "Training until validation scores don't improve for 100 rounds.\n",
            "[100]\ttraining's mape: 0.054362\tvalid_1's mape: 0.0564644\n",
            "[200]\ttraining's mape: 0.0534934\tvalid_1's mape: 0.0565983\n"
          ],
          "name": "stdout"
        },
        {
          "output_type": "stream",
          "text": [
            "\n",
            "\n",
            "tune_lambda_l1_and_lambda_l2, val_score: 0.056436:  30%|###       | 6/20 [03:38<07:16, 31.18s/it]\u001b[A\u001b[A\n",
            "\n",
            "tune_lambda_l1_and_lambda_l2, val_score: 0.056436:  35%|###5      | 7/20 [03:38<06:45, 31.17s/it]\u001b[A\u001b[A"
          ],
          "name": "stderr"
        },
        {
          "output_type": "stream",
          "text": [
            "Early stopping, best iteration is:\n",
            "[114]\ttraining's mape: 0.0542269\tvalid_1's mape: 0.0564358\n"
          ],
          "name": "stdout"
        },
        {
          "output_type": "stream",
          "text": [
            "\u001b[32m[I 2020-04-05 14:13:09,819]\u001b[0m Finished trial#6 with value: 0.056435827959789034 with parameters: {'lambda_l1': 4.8911484612671525e-06, 'lambda_l2': 9.701193182862402e-08}. Best is trial#0 with value: 0.05643616189791851.\u001b[0m\n",
            "\n",
            "\n",
            "tune_lambda_l1_and_lambda_l2, val_score: 0.056436:  35%|###5      | 7/20 [03:38<06:45, 31.17s/it]\u001b[A\u001b[A"
          ],
          "name": "stderr"
        },
        {
          "output_type": "stream",
          "text": [
            "Training until validation scores don't improve for 100 rounds.\n",
            "[100]\ttraining's mape: 0.0543401\tvalid_1's mape: 0.0564223\n",
            "[200]\ttraining's mape: 0.0534441\tvalid_1's mape: 0.0565836\n"
          ],
          "name": "stdout"
        },
        {
          "output_type": "stream",
          "text": [
            "\n",
            "\n",
            "tune_lambda_l1_and_lambda_l2, val_score: 0.056436:  35%|###5      | 7/20 [04:11<06:45, 31.17s/it]\u001b[A\u001b[A\n",
            "\n",
            "tune_lambda_l1_and_lambda_l2, val_score: 0.056436:  40%|####      | 8/20 [04:11<06:20, 31.74s/it]\u001b[A\u001b[A"
          ],
          "name": "stderr"
        },
        {
          "output_type": "stream",
          "text": [
            "Early stopping, best iteration is:\n",
            "[114]\ttraining's mape: 0.0542092\tvalid_1's mape: 0.0563951\n"
          ],
          "name": "stdout"
        },
        {
          "output_type": "stream",
          "text": [
            "\u001b[32m[I 2020-04-05 14:13:42,911]\u001b[0m Finished trial#7 with value: 0.05639506407059248 with parameters: {'lambda_l1': 5.738798683891577e-05, 'lambda_l2': 4.915738177546956}. Best is trial#0 with value: 0.05643616189791851.\u001b[0m\n",
            "\n",
            "\n",
            "tune_lambda_l1_and_lambda_l2, val_score: 0.056436:  40%|####      | 8/20 [04:11<06:20, 31.74s/it]\u001b[A\u001b[A"
          ],
          "name": "stderr"
        },
        {
          "output_type": "stream",
          "text": [
            "Training until validation scores don't improve for 100 rounds.\n",
            "[100]\ttraining's mape: 0.0543725\tvalid_1's mape: 0.0563917\n",
            "[200]\ttraining's mape: 0.0535091\tvalid_1's mape: 0.0565324\n"
          ],
          "name": "stdout"
        },
        {
          "output_type": "stream",
          "text": [
            "\n",
            "\n",
            "tune_lambda_l1_and_lambda_l2, val_score: 0.056436:  40%|####      | 8/20 [04:44<06:20, 31.74s/it]\u001b[A\u001b[A\n",
            "\n",
            "tune_lambda_l1_and_lambda_l2, val_score: 0.056436:  45%|####5     | 9/20 [04:44<05:53, 32.10s/it]\u001b[A\u001b[A"
          ],
          "name": "stderr"
        },
        {
          "output_type": "stream",
          "text": [
            "Early stopping, best iteration is:\n",
            "[114]\ttraining's mape: 0.0542471\tvalid_1's mape: 0.0563697\n"
          ],
          "name": "stdout"
        },
        {
          "output_type": "stream",
          "text": [
            "\u001b[32m[I 2020-04-05 14:14:15,843]\u001b[0m Finished trial#8 with value: 0.05636966353918436 with parameters: {'lambda_l1': 0.0005665578091115815, 'lambda_l2': 1.585038852752845e-07}. Best is trial#0 with value: 0.05643616189791851.\u001b[0m\n",
            "\n",
            "\n",
            "tune_lambda_l1_and_lambda_l2, val_score: 0.056436:  45%|####5     | 9/20 [04:44<05:53, 32.10s/it]\u001b[A\u001b[A"
          ],
          "name": "stderr"
        },
        {
          "output_type": "stream",
          "text": [
            "Training until validation scores don't improve for 100 rounds.\n",
            "[100]\ttraining's mape: 0.0543928\tvalid_1's mape: 0.0564291\n",
            "[200]\ttraining's mape: 0.0536025\tvalid_1's mape: 0.056614\n"
          ],
          "name": "stdout"
        },
        {
          "output_type": "stream",
          "text": [
            "\n",
            "\n",
            "tune_lambda_l1_and_lambda_l2, val_score: 0.056436:  45%|####5     | 9/20 [05:25<05:53, 32.10s/it]\u001b[A\u001b[A\n",
            "\n",
            "tune_lambda_l1_and_lambda_l2, val_score: 0.056436:  50%|#####     | 10/20 [05:25<05:47, 34.73s/it]\u001b[A\u001b[A"
          ],
          "name": "stderr"
        },
        {
          "output_type": "stream",
          "text": [
            "Early stopping, best iteration is:\n",
            "[119]\ttraining's mape: 0.0542306\tvalid_1's mape: 0.0564198\n"
          ],
          "name": "stdout"
        },
        {
          "output_type": "stream",
          "text": [
            "\u001b[32m[I 2020-04-05 14:14:56,723]\u001b[0m Finished trial#9 with value: 0.05641984569803562 with parameters: {'lambda_l1': 8.400778736718143, 'lambda_l2': 8.691468088202881e-06}. Best is trial#0 with value: 0.05643616189791851.\u001b[0m\n",
            "\n",
            "\n",
            "tune_lambda_l1_and_lambda_l2, val_score: 0.056436:  50%|#####     | 10/20 [05:25<05:47, 34.73s/it]\u001b[A\u001b[A"
          ],
          "name": "stderr"
        },
        {
          "output_type": "stream",
          "text": [
            "Training until validation scores don't improve for 100 rounds.\n",
            "[100]\ttraining's mape: 0.0543747\tvalid_1's mape: 0.0563963\n"
          ],
          "name": "stdout"
        },
        {
          "output_type": "stream",
          "text": [
            "\n",
            "\n",
            "tune_lambda_l1_and_lambda_l2, val_score: 0.056436:  50%|#####     | 10/20 [05:56<05:47, 34.73s/it]\u001b[A\u001b[A\n",
            "\n",
            "tune_lambda_l1_and_lambda_l2, val_score: 0.056436:  55%|#####5    | 11/20 [05:56<05:02, 33.66s/it]\u001b[A\u001b[A"
          ],
          "name": "stderr"
        },
        {
          "output_type": "stream",
          "text": [
            "Early stopping, best iteration is:\n",
            "[95]\ttraining's mape: 0.0544441\tvalid_1's mape: 0.0563875\n"
          ],
          "name": "stdout"
        },
        {
          "output_type": "stream",
          "text": [
            "\u001b[32m[I 2020-04-05 14:15:27,865]\u001b[0m Finished trial#10 with value: 0.056387459399953176 with parameters: {'lambda_l1': 1.1678033039198146e-07, 'lambda_l2': 0.003130234644572059}. Best is trial#0 with value: 0.05643616189791851.\u001b[0m\n",
            "\n",
            "\n",
            "tune_lambda_l1_and_lambda_l2, val_score: 0.056436:  55%|#####5    | 11/20 [05:56<05:02, 33.66s/it]\u001b[A\u001b[A"
          ],
          "name": "stderr"
        },
        {
          "output_type": "stream",
          "text": [
            "Training until validation scores don't improve for 100 rounds.\n",
            "[100]\ttraining's mape: 0.0543747\tvalid_1's mape: 0.0563963\n",
            "[200]\ttraining's mape: 0.0535051\tvalid_1's mape: 0.0565508\n"
          ],
          "name": "stdout"
        },
        {
          "output_type": "stream",
          "text": [
            "\n",
            "\n",
            "tune_lambda_l1_and_lambda_l2, val_score: 0.056436:  55%|#####5    | 11/20 [06:27<05:02, 33.66s/it]\u001b[A\u001b[A\n",
            "\n",
            "tune_lambda_l1_and_lambda_l2, val_score: 0.056436:  60%|######    | 12/20 [06:27<04:23, 32.96s/it]\u001b[A\u001b[A"
          ],
          "name": "stderr"
        },
        {
          "output_type": "stream",
          "text": [
            "Early stopping, best iteration is:\n",
            "[117]\ttraining's mape: 0.054209\tvalid_1's mape: 0.0563837\n"
          ],
          "name": "stdout"
        },
        {
          "output_type": "stream",
          "text": [
            "\u001b[32m[I 2020-04-05 14:15:59,185]\u001b[0m Finished trial#11 with value: 0.056383662716795395 with parameters: {'lambda_l1': 1.2423074314304137e-08, 'lambda_l2': 0.002615533787382305}. Best is trial#0 with value: 0.05643616189791851.\u001b[0m\n",
            "\n",
            "\n",
            "tune_lambda_l1_and_lambda_l2, val_score: 0.056436:  60%|######    | 12/20 [06:27<04:23, 32.96s/it]\u001b[A\u001b[A"
          ],
          "name": "stderr"
        },
        {
          "output_type": "stream",
          "text": [
            "Training until validation scores don't improve for 100 rounds.\n",
            "[100]\ttraining's mape: 0.054362\tvalid_1's mape: 0.0564644\n",
            "[200]\ttraining's mape: 0.0534934\tvalid_1's mape: 0.0565983\n"
          ],
          "name": "stdout"
        },
        {
          "output_type": "stream",
          "text": [
            "\n",
            "\n",
            "tune_lambda_l1_and_lambda_l2, val_score: 0.056436:  60%|######    | 12/20 [06:58<04:23, 32.96s/it]\u001b[A\u001b[A\n",
            "\n",
            "tune_lambda_l1_and_lambda_l2, val_score: 0.056436:  65%|######5   | 13/20 [06:58<03:46, 32.31s/it]\u001b[A\u001b[A"
          ],
          "name": "stderr"
        },
        {
          "output_type": "stream",
          "text": [
            "Early stopping, best iteration is:\n",
            "[114]\ttraining's mape: 0.0542269\tvalid_1's mape: 0.0564358\n"
          ],
          "name": "stdout"
        },
        {
          "output_type": "stream",
          "text": [
            "\u001b[32m[I 2020-04-05 14:16:29,989]\u001b[0m Finished trial#12 with value: 0.056435827959789034 with parameters: {'lambda_l1': 3.7851549446119757e-07, 'lambda_l2': 5.01318449551786e-05}. Best is trial#0 with value: 0.05643616189791851.\u001b[0m\n",
            "\n",
            "\n",
            "tune_lambda_l1_and_lambda_l2, val_score: 0.056436:  65%|######5   | 13/20 [06:58<03:46, 32.31s/it]\u001b[A\u001b[A"
          ],
          "name": "stderr"
        },
        {
          "output_type": "stream",
          "text": [
            "Training until validation scores don't improve for 100 rounds.\n",
            "[100]\ttraining's mape: 0.054352\tvalid_1's mape: 0.0564244\n",
            "[200]\ttraining's mape: 0.0535078\tvalid_1's mape: 0.0565828\n"
          ],
          "name": "stdout"
        },
        {
          "output_type": "stream",
          "text": [
            "\n",
            "\n",
            "tune_lambda_l1_and_lambda_l2, val_score: 0.056436:  65%|######5   | 13/20 [07:28<03:46, 32.31s/it]\u001b[A\u001b[A\n",
            "\n",
            "tune_lambda_l1_and_lambda_l2, val_score: 0.056436:  70%|#######   | 14/20 [07:28<03:09, 31.55s/it]\u001b[A\u001b[A"
          ],
          "name": "stderr"
        },
        {
          "output_type": "stream",
          "text": [
            "Early stopping, best iteration is:\n",
            "[103]\ttraining's mape: 0.0543238\tvalid_1's mape: 0.0564156\n"
          ],
          "name": "stdout"
        },
        {
          "output_type": "stream",
          "text": [
            "\u001b[32m[I 2020-04-05 14:16:59,757]\u001b[0m Finished trial#13 with value: 0.05641561718154941 with parameters: {'lambda_l1': 6.536145222231204e-07, 'lambda_l2': 0.019642939440752443}. Best is trial#0 with value: 0.05643616189791851.\u001b[0m\n",
            "\n",
            "\n",
            "tune_lambda_l1_and_lambda_l2, val_score: 0.056436:  70%|#######   | 14/20 [07:28<03:09, 31.55s/it]\u001b[A\u001b[A"
          ],
          "name": "stderr"
        },
        {
          "output_type": "stream",
          "text": [
            "Training until validation scores don't improve for 100 rounds.\n",
            "[100]\ttraining's mape: 0.0543835\tvalid_1's mape: 0.0564311\n",
            "[200]\ttraining's mape: 0.0535045\tvalid_1's mape: 0.056588\n"
          ],
          "name": "stdout"
        },
        {
          "output_type": "stream",
          "text": [
            "\n",
            "\n",
            "tune_lambda_l1_and_lambda_l2, val_score: 0.056436:  70%|#######   | 14/20 [07:58<03:09, 31.55s/it]\u001b[A\u001b[A\n",
            "\n",
            "tune_lambda_l1_and_lambda_l2, val_score: 0.056436:  75%|#######5  | 15/20 [07:58<02:36, 31.24s/it]\u001b[A\u001b[A"
          ],
          "name": "stderr"
        },
        {
          "output_type": "stream",
          "text": [
            "Early stopping, best iteration is:\n",
            "[114]\ttraining's mape: 0.0542465\tvalid_1's mape: 0.0564001\n"
          ],
          "name": "stdout"
        },
        {
          "output_type": "stream",
          "text": [
            "\u001b[32m[I 2020-04-05 14:17:30,276]\u001b[0m Finished trial#14 with value: 0.05640011791110853 with parameters: {'lambda_l1': 1.3610331995501025e-08, 'lambda_l2': 6.539155723735631e-06}. Best is trial#0 with value: 0.05643616189791851.\u001b[0m\n",
            "\n",
            "\n",
            "tune_lambda_l1_and_lambda_l2, val_score: 0.056436:  75%|#######5  | 15/20 [07:58<02:36, 31.24s/it]\u001b[A\u001b[A"
          ],
          "name": "stderr"
        },
        {
          "output_type": "stream",
          "text": [
            "Training until validation scores don't improve for 100 rounds.\n",
            "[100]\ttraining's mape: 0.0543669\tvalid_1's mape: 0.056426\n",
            "[200]\ttraining's mape: 0.0534978\tvalid_1's mape: 0.0565891\n"
          ],
          "name": "stdout"
        },
        {
          "output_type": "stream",
          "text": [
            "\n",
            "\n",
            "tune_lambda_l1_and_lambda_l2, val_score: 0.056436:  75%|#######5  | 15/20 [08:28<02:36, 31.24s/it]\u001b[A\u001b[A\n",
            "\n",
            "tune_lambda_l1_and_lambda_l2, val_score: 0.056436:  80%|########  | 16/20 [08:28<02:02, 30.72s/it]\u001b[A\u001b[A"
          ],
          "name": "stderr"
        },
        {
          "output_type": "stream",
          "text": [
            "Early stopping, best iteration is:\n",
            "[106]\ttraining's mape: 0.0543036\tvalid_1's mape: 0.0564145\n"
          ],
          "name": "stdout"
        },
        {
          "output_type": "stream",
          "text": [
            "\u001b[32m[I 2020-04-05 14:17:59,793]\u001b[0m Finished trial#15 with value: 0.05641454368296487 with parameters: {'lambda_l1': 0.007180429875720216, 'lambda_l2': 0.0013762064149422384}. Best is trial#0 with value: 0.05643616189791851.\u001b[0m\n",
            "\n",
            "\n",
            "tune_lambda_l1_and_lambda_l2, val_score: 0.056436:  80%|########  | 16/20 [08:28<02:02, 30.72s/it]\u001b[A\u001b[A"
          ],
          "name": "stderr"
        },
        {
          "output_type": "stream",
          "text": [
            "Training until validation scores don't improve for 100 rounds.\n",
            "[100]\ttraining's mape: 0.0543706\tvalid_1's mape: 0.0564418\n",
            "[200]\ttraining's mape: 0.0534968\tvalid_1's mape: 0.0566286\n"
          ],
          "name": "stdout"
        },
        {
          "output_type": "stream",
          "text": [
            "\n",
            "\n",
            "tune_lambda_l1_and_lambda_l2, val_score: 0.056436:  80%|########  | 16/20 [09:00<02:02, 30.72s/it]\u001b[A\u001b[A\n",
            "\n",
            "tune_lambda_l1_and_lambda_l2, val_score: 0.056436:  85%|########5 | 17/20 [09:00<01:33, 31.03s/it]\u001b[A\u001b[A"
          ],
          "name": "stderr"
        },
        {
          "output_type": "stream",
          "text": [
            "Early stopping, best iteration is:\n",
            "[120]\ttraining's mape: 0.0541779\tvalid_1's mape: 0.056408\n"
          ],
          "name": "stdout"
        },
        {
          "output_type": "stream",
          "text": [
            "\u001b[32m[I 2020-04-05 14:18:31,549]\u001b[0m Finished trial#16 with value: 0.056407984101795976 with parameters: {'lambda_l1': 0.0006455036764289352, 'lambda_l2': 0.05181689844225435}. Best is trial#0 with value: 0.05643616189791851.\u001b[0m\n",
            "\n",
            "\n",
            "tune_lambda_l1_and_lambda_l2, val_score: 0.056436:  85%|########5 | 17/20 [09:00<01:33, 31.03s/it]\u001b[A\u001b[A"
          ],
          "name": "stderr"
        },
        {
          "output_type": "stream",
          "text": [
            "Training until validation scores don't improve for 100 rounds.\n",
            "[100]\ttraining's mape: 0.054362\tvalid_1's mape: 0.0564644\n",
            "[200]\ttraining's mape: 0.0534934\tvalid_1's mape: 0.0565983\n"
          ],
          "name": "stdout"
        },
        {
          "output_type": "stream",
          "text": [
            "\n",
            "\n",
            "tune_lambda_l1_and_lambda_l2, val_score: 0.056436:  85%|########5 | 17/20 [09:30<01:33, 31.03s/it]\u001b[A\u001b[A\n",
            "\n",
            "tune_lambda_l1_and_lambda_l2, val_score: 0.056436:  90%|######### | 18/20 [09:30<01:01, 30.75s/it]\u001b[A\u001b[A"
          ],
          "name": "stderr"
        },
        {
          "output_type": "stream",
          "text": [
            "Early stopping, best iteration is:\n",
            "[114]\ttraining's mape: 0.0542269\tvalid_1's mape: 0.0564358\n"
          ],
          "name": "stdout"
        },
        {
          "output_type": "stream",
          "text": [
            "\u001b[32m[I 2020-04-05 14:19:01,647]\u001b[0m Finished trial#17 with value: 0.056435827959789034 with parameters: {'lambda_l1': 8.917770652878352e-07, 'lambda_l2': 4.900936225215708e-05}. Best is trial#0 with value: 0.05643616189791851.\u001b[0m\n",
            "\n",
            "\n",
            "tune_lambda_l1_and_lambda_l2, val_score: 0.056436:  90%|######### | 18/20 [09:30<01:01, 30.75s/it]\u001b[A\u001b[A"
          ],
          "name": "stderr"
        },
        {
          "output_type": "stream",
          "text": [
            "Training until validation scores don't improve for 100 rounds.\n",
            "[100]\ttraining's mape: 0.0543835\tvalid_1's mape: 0.0564311\n",
            "[200]\ttraining's mape: 0.0535045\tvalid_1's mape: 0.056588\n"
          ],
          "name": "stdout"
        },
        {
          "output_type": "stream",
          "text": [
            "\n",
            "\n",
            "tune_lambda_l1_and_lambda_l2, val_score: 0.056436:  90%|######### | 18/20 [10:00<01:01, 30.75s/it]\u001b[A\u001b[A\n",
            "\n",
            "tune_lambda_l1_and_lambda_l2, val_score: 0.056436:  95%|#########5| 19/20 [10:00<00:30, 30.52s/it]\u001b[A\u001b[A"
          ],
          "name": "stderr"
        },
        {
          "output_type": "stream",
          "text": [
            "Early stopping, best iteration is:\n",
            "[114]\ttraining's mape: 0.0542465\tvalid_1's mape: 0.0564001\n"
          ],
          "name": "stdout"
        },
        {
          "output_type": "stream",
          "text": [
            "\u001b[32m[I 2020-04-05 14:19:31,643]\u001b[0m Finished trial#18 with value: 0.05640011791110853 with parameters: {'lambda_l1': 1.1634552898839312e-07, 'lambda_l2': 2.9973832374493403e-06}. Best is trial#0 with value: 0.05643616189791851.\u001b[0m\n",
            "\n",
            "\n",
            "tune_lambda_l1_and_lambda_l2, val_score: 0.056436:  95%|#########5| 19/20 [10:00<00:30, 30.52s/it]\u001b[A\u001b[A"
          ],
          "name": "stderr"
        },
        {
          "output_type": "stream",
          "text": [
            "Training until validation scores don't improve for 100 rounds.\n",
            "[100]\ttraining's mape: 0.054362\tvalid_1's mape: 0.0564644\n",
            "[200]\ttraining's mape: 0.0534919\tvalid_1's mape: 0.0566351\n"
          ],
          "name": "stdout"
        },
        {
          "output_type": "stream",
          "text": [
            "\n",
            "\n",
            "tune_lambda_l1_and_lambda_l2, val_score: 0.056436:  95%|#########5| 19/20 [10:30<00:30, 30.52s/it]\u001b[A\u001b[A\n",
            "\n",
            "tune_lambda_l1_and_lambda_l2, val_score: 0.056436: 100%|##########| 20/20 [10:30<00:00, 30.44s/it]\u001b[A\u001b[A"
          ],
          "name": "stderr"
        },
        {
          "output_type": "stream",
          "text": [
            "Early stopping, best iteration is:\n",
            "[114]\ttraining's mape: 0.0542268\tvalid_1's mape: 0.0564362\n"
          ],
          "name": "stdout"
        },
        {
          "output_type": "stream",
          "text": [
            "\u001b[32m[I 2020-04-05 14:20:01,874]\u001b[0m Finished trial#19 with value: 0.05643616189791851 with parameters: {'lambda_l1': 7.809423550162607e-06, 'lambda_l2': 0.00031735961675228105}. Best is trial#0 with value: 0.05643616189791851.\u001b[0m\n",
            "tune_lambda_l1_and_lambda_l2, val_score: 0.056436: 100%|##########| 20/20 [10:30<00:00, 31.52s/it]\n",
            "\n",
            "\n",
            "  0%|          | 0/5 [00:00<?, ?it/s]\u001b[A\u001b[A\n",
            "\n",
            "tune_min_child_samples, val_score: 0.056436:   0%|          | 0/5 [00:00<?, ?it/s]\u001b[A\u001b[A"
          ],
          "name": "stderr"
        },
        {
          "output_type": "stream",
          "text": [
            "Training until validation scores don't improve for 100 rounds.\n",
            "[100]\ttraining's mape: 0.0543858\tvalid_1's mape: 0.0564585\n",
            "[200]\ttraining's mape: 0.0534753\tvalid_1's mape: 0.0565569\n"
          ],
          "name": "stdout"
        },
        {
          "output_type": "stream",
          "text": [
            "\n",
            "\n",
            "tune_min_child_samples, val_score: 0.056436:   0%|          | 0/5 [00:29<?, ?it/s]\u001b[A\u001b[A\n",
            "\n",
            "tune_min_child_samples, val_score: 0.056436:  20%|##        | 1/5 [00:29<01:56, 29.19s/it]\u001b[A\u001b[A"
          ],
          "name": "stderr"
        },
        {
          "output_type": "stream",
          "text": [
            "Early stopping, best iteration is:\n",
            "[114]\ttraining's mape: 0.0542638\tvalid_1's mape: 0.0564319\n"
          ],
          "name": "stdout"
        },
        {
          "output_type": "stream",
          "text": [
            "\u001b[32m[I 2020-04-05 14:20:31,168]\u001b[0m Finished trial#0 with value: 0.0564318644356348 with parameters: {'min_child_samples': 5}. Best is trial#0 with value: 0.0564318644356348.\u001b[0m\n",
            "\n",
            "\n",
            "tune_min_child_samples, val_score: 0.056436:  20%|##        | 1/5 [00:29<01:56, 29.19s/it]\u001b[A\u001b[A"
          ],
          "name": "stderr"
        },
        {
          "output_type": "stream",
          "text": [
            "Training until validation scores don't improve for 100 rounds.\n",
            "[100]\ttraining's mape: 0.0543679\tvalid_1's mape: 0.0563894\n",
            "[200]\ttraining's mape: 0.0534981\tvalid_1's mape: 0.056536\n"
          ],
          "name": "stdout"
        },
        {
          "output_type": "stream",
          "text": [
            "\n",
            "\n",
            "tune_min_child_samples, val_score: 0.056436:  20%|##        | 1/5 [00:58<01:56, 29.19s/it]\u001b[A\u001b[A\n",
            "\n",
            "tune_min_child_samples, val_score: 0.056436:  40%|####      | 2/5 [00:58<01:27, 29.23s/it]\u001b[A\u001b[A"
          ],
          "name": "stderr"
        },
        {
          "output_type": "stream",
          "text": [
            "Early stopping, best iteration is:\n",
            "[112]\ttraining's mape: 0.0542612\tvalid_1's mape: 0.0563677\n"
          ],
          "name": "stdout"
        },
        {
          "output_type": "stream",
          "text": [
            "\u001b[32m[I 2020-04-05 14:21:00,485]\u001b[0m Finished trial#1 with value: 0.05636769901144469 with parameters: {'min_child_samples': 10}. Best is trial#0 with value: 0.0564318644356348.\u001b[0m\n",
            "\n",
            "\n",
            "tune_min_child_samples, val_score: 0.056436:  40%|####      | 2/5 [00:58<01:27, 29.23s/it]\u001b[A\u001b[A"
          ],
          "name": "stderr"
        },
        {
          "output_type": "stream",
          "text": [
            "Training until validation scores don't improve for 100 rounds.\n",
            "[100]\ttraining's mape: 0.0543513\tvalid_1's mape: 0.0564422\n"
          ],
          "name": "stdout"
        },
        {
          "output_type": "stream",
          "text": [
            "\n",
            "\n",
            "tune_min_child_samples, val_score: 0.056436:  40%|####      | 2/5 [01:26<01:27, 29.23s/it]\u001b[A\u001b[A\n",
            "\n",
            "tune_min_child_samples, val_score: 0.056436:  60%|######    | 3/5 [01:26<00:57, 28.85s/it]\u001b[A\u001b[A\u001b[32m[I 2020-04-05 14:21:28,456]\u001b[0m Finished trial#2 with value: 0.056434433948554755 with parameters: {'min_child_samples': 25}. Best is trial#2 with value: 0.056434433948554755.\u001b[0m\n"
          ],
          "name": "stderr"
        },
        {
          "output_type": "stream",
          "text": [
            "Early stopping, best iteration is:\n",
            "[95]\ttraining's mape: 0.0544164\tvalid_1's mape: 0.0564344\n"
          ],
          "name": "stdout"
        },
        {
          "output_type": "stream",
          "text": [
            "\n",
            "\n",
            "tune_min_child_samples, val_score: 0.056436:  60%|######    | 3/5 [01:26<00:57, 28.85s/it]\u001b[A\u001b[A"
          ],
          "name": "stderr"
        },
        {
          "output_type": "stream",
          "text": [
            "Training until validation scores don't improve for 100 rounds.\n",
            "[100]\ttraining's mape: 0.0544134\tvalid_1's mape: 0.056384\n"
          ],
          "name": "stdout"
        },
        {
          "output_type": "stream",
          "text": [
            "\n",
            "\n",
            "tune_min_child_samples, val_score: 0.056436:  60%|######    | 3/5 [01:55<00:57, 28.85s/it]\u001b[A\u001b[A\n",
            "\n",
            "tune_min_child_samples, val_score: 0.056436:  80%|########  | 4/5 [01:55<00:28, 28.97s/it]\u001b[A\u001b[A"
          ],
          "name": "stderr"
        },
        {
          "output_type": "stream",
          "text": [
            "Early stopping, best iteration is:\n",
            "[96]\ttraining's mape: 0.0544601\tvalid_1's mape: 0.0563671\n"
          ],
          "name": "stdout"
        },
        {
          "output_type": "stream",
          "text": [
            "\u001b[32m[I 2020-04-05 14:21:57,708]\u001b[0m Finished trial#3 with value: 0.05636713672549129 with parameters: {'min_child_samples': 50}. Best is trial#2 with value: 0.056434433948554755.\u001b[0m\n",
            "\n",
            "\n",
            "tune_min_child_samples, val_score: 0.056436:  80%|########  | 4/5 [01:55<00:28, 28.97s/it]\u001b[A\u001b[A"
          ],
          "name": "stderr"
        },
        {
          "output_type": "stream",
          "text": [
            "Training until validation scores don't improve for 100 rounds.\n",
            "[100]\ttraining's mape: 0.0544493\tvalid_1's mape: 0.0564348\n",
            "[200]\ttraining's mape: 0.0537017\tvalid_1's mape: 0.0566416\n"
          ],
          "name": "stdout"
        },
        {
          "output_type": "stream",
          "text": [
            "\n",
            "\n",
            "tune_min_child_samples, val_score: 0.056436:  80%|########  | 4/5 [02:28<00:28, 28.97s/it]\u001b[A\u001b[A\n",
            "\n",
            "tune_min_child_samples, val_score: 0.056436: 100%|##########| 5/5 [02:28<00:00, 30.24s/it]\u001b[A\u001b[A"
          ],
          "name": "stderr"
        },
        {
          "output_type": "stream",
          "text": [
            "Early stopping, best iteration is:\n",
            "[115]\ttraining's mape: 0.0543234\tvalid_1's mape: 0.0564155\n"
          ],
          "name": "stdout"
        },
        {
          "output_type": "stream",
          "text": [
            "\u001b[32m[I 2020-04-05 14:22:30,913]\u001b[0m Finished trial#4 with value: 0.056415542684555446 with parameters: {'min_child_samples': 100}. Best is trial#2 with value: 0.056434433948554755.\u001b[0m\n",
            "tune_min_child_samples, val_score: 0.056436: 100%|##########| 5/5 [02:29<00:00, 29.81s/it]"
          ],
          "name": "stderr"
        },
        {
          "output_type": "stream",
          "text": [
            "CPU times: user 56min 11s, sys: 3min 50s, total: 1h 1s\n",
            "Wall time: 32min 40s\n"
          ],
          "name": "stdout"
        },
        {
          "output_type": "stream",
          "text": [
            "\n"
          ],
          "name": "stderr"
        }
      ]
    },
    {
      "cell_type": "code",
      "metadata": {
        "id": "Vn4j7eY6lSJ1",
        "colab_type": "code",
        "colab": {
          "base_uri": "https://localhost:8080/",
          "height": 136
        },
        "outputId": "ebbafeb0-40ca-43ee-f6bf-64ac5e64cfe7"
      },
      "source": [
        "logger.info(pprint.pformat(lgb_best_params))"
      ],
      "execution_count": 71,
      "outputs": [
        {
          "output_type": "stream",
          "text": [
            "INFO:__main__:{'bagging_fraction': 0.48212758911553566,\n",
            " 'bagging_freq': 6,\n",
            " 'feature_fraction': 0.82,\n",
            " 'lambda_l1': 9.41454810043498e-06,\n",
            " 'lambda_l2': 0.00015236262606964214,\n",
            " 'min_child_samples': 20,\n",
            " 'num_leaves': 249}\n"
          ],
          "name": "stderr"
        }
      ]
    },
    {
      "cell_type": "code",
      "metadata": {
        "id": "OjvlHmznfvXM",
        "colab_type": "code",
        "colab": {
          "base_uri": "https://localhost:8080/",
          "height": 1000
        },
        "outputId": "009d6cee-f741-49af-de1f-66c464c50dfb"
      },
      "source": [
        "def show_pred(feature: pd.DataFrame, model: lgb.LGBMModel) -> None:\n",
        "    train_y = feature[\"sales\"]\n",
        "    train_x = feature.reset_index().drop([\"date\", \"sales\"], axis=1)\n",
        "\n",
        "    pred_train = model.predict(train_x, num_iteration=model.best_iteration)\n",
        "\n",
        "    df_pred_train = pd.DataFrame({\n",
        "        \"store\": feature[\"store\"],\n",
        "        \"item\": feature[\"item\"],\n",
        "        \"sales\": train_y,\n",
        "        \"pred\": pred_train,\n",
        "    })\n",
        "\n",
        "    plt.figure(figsize=(18, 12))\n",
        "    df_pred_train_group = df_pred_train.groupby([\"store\", \"item\"])\n",
        "    for key, group in df_pred_train_group:\n",
        "        plt.plot(group.index, group[\"sales\"], color=\"b\")\n",
        "        plt.plot(group.index, group[\"pred\"], color=\"r\")\n",
        "        break\n",
        "    plt.show()\n",
        "    plt.cla()\n",
        "    plt.clf()\n",
        "    plt.close()\n",
        "\n",
        "\n",
        "show_pred(df_train_feature, lgb_model)\n",
        "show_pred(df_test_feature, lgb_model)"
      ],
      "execution_count": 77,
      "outputs": [
        {
          "output_type": "display_data",
          "data": {
            "image/png": "[encoded data removed]",
            "text/plain": [
              "<Figure size 1296x864 with 1 Axes>"
            ]
          },
          "metadata": {
            "tags": []
          }
        },
        {
          "output_type": "display_data",
          "data": {
            "image/png": "[encoded data removed]",
            "text/plain": [
              "<Figure size 1296x864 with 1 Axes>"
            ]
          },
          "metadata": {
            "tags": []
          }
        }
      ]
    }
  ]
}
{
  "nbformat": 4,
  "nbformat_minor": 0,
  "metadata": {
    "colab": {
      "name": "dcgan_tensorflow.ipynb",
      "provenance": [],
      "collapsed_sections": [],
      "toc_visible": true
    },
    "kernelspec": {
      "name": "python3",
      "display_name": "Python 3"
    },
    "accelerator": "GPU"
  },
  "cells": [
    {
      "cell_type": "markdown",
      "metadata": {
        "id": "FpHPaEEoVSUn",
        "colab_type": "text"
      },
      "source": [
        "# DCGAN sample using tensorflow\n",
        "\n",
        "tensorflow を利用して MNIST で DCGAN を実行するサンプルです。\n",
        "\n",
        "- [Deep Convolutional Generative Adversarial Network][tutorial]\n",
        "\n",
        "[tutorial]: https://www.tensorflow.org/tutorials/generative/dcgan"
      ]
    },
    {
      "cell_type": "markdown",
      "metadata": {
        "id": "lcmZkCYOLQvk",
        "colab_type": "text"
      },
      "source": [
        "## 環境の確認"
      ]
    },
    {
      "cell_type": "code",
      "metadata": {
        "id": "LnMGmEyyLT2f",
        "colab_type": "code",
        "outputId": "45144fc0-8267-4774-f710-2089ad258944",
        "colab": {
          "base_uri": "https://localhost:8080/",
          "height": 53
        }
      },
      "source": [
        "!cat /etc/issue"
      ],
      "execution_count": 1,
      "outputs": [
        {
          "output_type": "stream",
          "text": [
            "Ubuntu 18.04.3 LTS \\n \\l\n",
            "\n"
          ],
          "name": "stdout"
        }
      ]
    },
    {
      "cell_type": "code",
      "metadata": {
        "id": "UDMUXlaTLpG2",
        "colab_type": "code",
        "outputId": "913796cf-f9a4-4bf2-8ae6-a0529466b97e",
        "colab": {
          "base_uri": "https://localhost:8080/",
          "height": 71
        }
      },
      "source": [
        "!free -h"
      ],
      "execution_count": 2,
      "outputs": [
        {
          "output_type": "stream",
          "text": [
            "              total        used        free      shared  buff/cache   available\n",
            "Mem:            12G        528M         10G        892K        1.9G         11G\n",
            "Swap:            0B          0B          0B\n"
          ],
          "name": "stdout"
        }
      ]
    },
    {
      "cell_type": "code",
      "metadata": {
        "id": "WHn3f12zLsTw",
        "colab_type": "code",
        "outputId": "b16b4deb-3d0f-4fdf-a0df-7280ffdc9911",
        "colab": {
          "base_uri": "https://localhost:8080/",
          "height": 1000
        }
      },
      "source": [
        "!cat /proc/cpuinfo"
      ],
      "execution_count": 3,
      "outputs": [
        {
          "output_type": "stream",
          "text": [
            "processor\t: 0\n",
            "vendor_id\t: GenuineIntel\n",
            "cpu family\t: 6\n",
            "model\t\t: 63\n",
            "model name\t: Intel(R) Xeon(R) CPU @ 2.30GHz\n",
            "stepping\t: 0\n",
            "microcode\t: 0x1\n",
            "cpu MHz\t\t: 2300.000\n",
            "cache size\t: 46080 KB\n",
            "physical id\t: 0\n",
            "siblings\t: 2\n",
            "core id\t\t: 0\n",
            "cpu cores\t: 1\n",
            "apicid\t\t: 0\n",
            "initial apicid\t: 0\n",
            "fpu\t\t: yes\n",
            "fpu_exception\t: yes\n",
            "cpuid level\t: 13\n",
            "wp\t\t: yes\n",
            "flags\t\t: fpu vme de pse tsc msr pae mce cx8 apic sep mtrr pge mca cmov pat pse36 clflush mmx fxsr sse sse2 ss ht syscall nx pdpe1gb rdtscp lm constant_tsc rep_good nopl xtopology nonstop_tsc cpuid tsc_known_freq pni pclmulqdq ssse3 fma cx16 pcid sse4_1 sse4_2 x2apic movbe popcnt aes xsave avx f16c rdrand hypervisor lahf_lm abm invpcid_single ssbd ibrs ibpb stibp fsgsbase tsc_adjust bmi1 avx2 smep bmi2 erms invpcid xsaveopt arat md_clear arch_capabilities\n",
            "bugs\t\t: cpu_meltdown spectre_v1 spectre_v2 spec_store_bypass l1tf mds swapgs\n",
            "bogomips\t: 4600.00\n",
            "clflush size\t: 64\n",
            "cache_alignment\t: 64\n",
            "address sizes\t: 46 bits physical, 48 bits virtual\n",
            "power management:\n",
            "\n",
            "processor\t: 1\n",
            "vendor_id\t: GenuineIntel\n",
            "cpu family\t: 6\n",
            "model\t\t: 63\n",
            "model name\t: Intel(R) Xeon(R) CPU @ 2.30GHz\n",
            "stepping\t: 0\n",
            "microcode\t: 0x1\n",
            "cpu MHz\t\t: 2300.000\n",
            "cache size\t: 46080 KB\n",
            "physical id\t: 0\n",
            "siblings\t: 2\n",
            "core id\t\t: 0\n",
            "cpu cores\t: 1\n",
            "apicid\t\t: 1\n",
            "initial apicid\t: 1\n",
            "fpu\t\t: yes\n",
            "fpu_exception\t: yes\n",
            "cpuid level\t: 13\n",
            "wp\t\t: yes\n",
            "flags\t\t: fpu vme de pse tsc msr pae mce cx8 apic sep mtrr pge mca cmov pat pse36 clflush mmx fxsr sse sse2 ss ht syscall nx pdpe1gb rdtscp lm constant_tsc rep_good nopl xtopology nonstop_tsc cpuid tsc_known_freq pni pclmulqdq ssse3 fma cx16 pcid sse4_1 sse4_2 x2apic movbe popcnt aes xsave avx f16c rdrand hypervisor lahf_lm abm invpcid_single ssbd ibrs ibpb stibp fsgsbase tsc_adjust bmi1 avx2 smep bmi2 erms invpcid xsaveopt arat md_clear arch_capabilities\n",
            "bugs\t\t: cpu_meltdown spectre_v1 spectre_v2 spec_store_bypass l1tf mds swapgs\n",
            "bogomips\t: 4600.00\n",
            "clflush size\t: 64\n",
            "cache_alignment\t: 64\n",
            "address sizes\t: 46 bits physical, 48 bits virtual\n",
            "power management:\n",
            "\n"
          ],
          "name": "stdout"
        }
      ]
    },
    {
      "cell_type": "code",
      "metadata": {
        "id": "3FUZPKAcL4jO",
        "colab_type": "code",
        "outputId": "fe8f507b-fad4-455e-87e0-de49a1de987f",
        "colab": {
          "base_uri": "https://localhost:8080/",
          "height": 323
        }
      },
      "source": [
        "!nvidia-smi"
      ],
      "execution_count": 4,
      "outputs": [
        {
          "output_type": "stream",
          "text": [
            "Sun Sep 29 09:03:14 2019       \n",
            "+-----------------------------------------------------------------------------+\n",
            "| NVIDIA-SMI 430.40       Driver Version: 418.67       CUDA Version: 10.1     |\n",
            "|-------------------------------+----------------------+----------------------+\n",
            "| GPU  Name        Persistence-M| Bus-Id        Disp.A | Volatile Uncorr. ECC |\n",
            "| Fan  Temp  Perf  Pwr:Usage/Cap|         Memory-Usage | GPU-Util  Compute M. |\n",
            "|===============================+======================+======================|\n",
            "|   0  Tesla K80           Off  | 00000000:00:04.0 Off |                    0 |\n",
            "| N/A   73C    P8    34W / 149W |      0MiB / 11441MiB |      0%      Default |\n",
            "+-------------------------------+----------------------+----------------------+\n",
            "                                                                               \n",
            "+-----------------------------------------------------------------------------+\n",
            "| Processes:                                                       GPU Memory |\n",
            "|  GPU       PID   Type   Process name                             Usage      |\n",
            "|=============================================================================|\n",
            "|  No running processes found                                                 |\n",
            "+-----------------------------------------------------------------------------+\n"
          ],
          "name": "stdout"
        }
      ]
    },
    {
      "cell_type": "code",
      "metadata": {
        "id": "w2V3sVtNPYdT",
        "colab_type": "code",
        "outputId": "a6fbfacf-2f49-420a-a82b-7a0c9125b066",
        "colab": {
          "base_uri": "https://localhost:8080/",
          "height": 35
        }
      },
      "source": [
        "!python --version"
      ],
      "execution_count": 5,
      "outputs": [
        {
          "output_type": "stream",
          "text": [
            "Python 3.6.8\n"
          ],
          "name": "stdout"
        }
      ]
    },
    {
      "cell_type": "code",
      "metadata": {
        "id": "Zyf3UfsENhOf",
        "colab_type": "code",
        "colab": {}
      },
      "source": [
        "from logging import Logger\n",
        "\n",
        "\n",
        "def get_logger() -> Logger:\n",
        "    import logging\n",
        "    logger = logging.getLogger(__name__)\n",
        "\n",
        "    fmt = \"%(asctime)s %(levelname)s %(name)s :%(message)s\"\n",
        "    logging.basicConfig(level=logging.INFO, format=fmt)\n",
        "\n",
        "    return logger\n",
        "\n",
        "\n",
        "logger = get_logger()"
      ],
      "execution_count": 0,
      "outputs": []
    },
    {
      "cell_type": "code",
      "metadata": {
        "id": "EppKsLuHMYjR",
        "colab_type": "code",
        "outputId": "82552424-df85-48da-f25a-6b66654880aa",
        "colab": {
          "base_uri": "https://localhost:8080/",
          "height": 35
        }
      },
      "source": [
        "def check_tf_version() -> None:\n",
        "    import tensorflow as tf\n",
        "    logger.info(tf.__version__)\n",
        "\n",
        "\n",
        "check_tf_version()"
      ],
      "execution_count": 7,
      "outputs": [
        {
          "output_type": "stream",
          "text": [
            "2019-09-29 09:03:20,231 INFO __main__ :1.14.0\n"
          ],
          "name": "stderr"
        }
      ]
    },
    {
      "cell_type": "markdown",
      "metadata": {
        "id": "SKyYk7oMY21S",
        "colab_type": "text"
      },
      "source": [
        "## ソースコードの取得"
      ]
    },
    {
      "cell_type": "code",
      "metadata": {
        "id": "PjgDKO_RV_U5",
        "colab_type": "code",
        "outputId": "a80b4b94-64d3-450f-84f6-c65ba3889e30",
        "colab": {
          "base_uri": "https://localhost:8080/",
          "height": 395
        }
      },
      "source": [
        "# 対象のコードを取得\n",
        "!git clone -n https://github.com/iimuz/til.git\n",
        "%cd til\n",
        "!git checkout fdfa134\n",
        "%cd python/dcgan_tensorflow"
      ],
      "execution_count": 8,
      "outputs": [
        {
          "output_type": "stream",
          "text": [
            "Cloning into 'til'...\n",
            "remote: Enumerating objects: 586, done.\u001b[K\n",
            "remote: Counting objects: 100% (586/586), done.\u001b[K\n",
            "remote: Compressing objects: 100% (380/380), done.\u001b[K\n",
            "remote: Total 586 (delta 222), reused 528 (delta 174), pack-reused 0\u001b[K\n",
            "Receiving objects: 100% (586/586), 2.27 MiB | 2.52 MiB/s, done.\n",
            "Resolving deltas: 100% (222/222), done.\n",
            "/content/til\n",
            "Note: checking out 'fdfa134'.\n",
            "\n",
            "You are in 'detached HEAD' state. You can look around, make experimental\n",
            "changes and commit them, and you can discard any commits you make in this\n",
            "state without impacting any branches by performing another checkout.\n",
            "\n",
            "If you want to create a new branch to retain commits you create, you may\n",
            "do so (now or later) by using -b with the checkout command again. Example:\n",
            "\n",
            "  git checkout -b <new-branch-name>\n",
            "\n",
            "HEAD is now at fdfa134 fix: epoch 単位の loss 計算の場所を修正\n",
            "/content/til/python/dcgan_tensorflow\n"
          ],
          "name": "stdout"
        }
      ]
    },
    {
      "cell_type": "markdown",
      "metadata": {
        "id": "_vUlewGLYtT1",
        "colab_type": "text"
      },
      "source": [
        "## 実行"
      ]
    },
    {
      "cell_type": "markdown",
      "metadata": {
        "id": "J4llcBuDKMus",
        "colab_type": "text"
      },
      "source": [
        "### 事前準備"
      ]
    },
    {
      "cell_type": "code",
      "metadata": {
        "id": "H8Ng5oAwIevW",
        "colab_type": "code",
        "colab": {}
      },
      "source": [
        "import tensorflow.compat.v1 as tfv1\n",
        "\n",
        "\n",
        "tfv1.enable_eager_execution()"
      ],
      "execution_count": 0,
      "outputs": []
    },
    {
      "cell_type": "markdown",
      "metadata": {
        "id": "NDZFpP_IKKCr",
        "colab_type": "text"
      },
      "source": [
        "### データセットの確認"
      ]
    },
    {
      "cell_type": "code",
      "metadata": {
        "id": "8AwAXG4UHZ7V",
        "colab_type": "code",
        "outputId": "ce17000a-df4a-48f1-dd97-d4895f0cf8e3",
        "colab": {
          "base_uri": "https://localhost:8080/",
          "height": 599
        }
      },
      "source": [
        "%run -i dataset.py"
      ],
      "execution_count": 10,
      "outputs": [
        {
          "output_type": "stream",
          "text": [
            "Downloading data from https://storage.googleapis.com/tensorflow/tf-keras-datasets/mnist.npz\n",
            "11493376/11490434 [==============================] - 0s 0us/step\n"
          ],
          "name": "stdout"
        },
        {
          "output_type": "display_data",
          "data": {
            "image/png": "[encoded data removed]",
            "text/plain": [
              "<Figure size 432x288 with 1 Axes>"
            ]
          },
          "metadata": {
            "tags": []
          }
        },
        {
          "output_type": "display_data",
          "data": {
            "text/plain": [
              "<Figure size 432x288 with 0 Axes>"
            ]
          },
          "metadata": {
            "tags": []
          }
        },
        {
          "output_type": "display_data",
          "data": {
            "image/png": "[encoded data removed]",
            "text/plain": [
              "<Figure size 432x288 with 1 Axes>"
            ]
          },
          "metadata": {
            "tags": []
          }
        }
      ]
    },
    {
      "cell_type": "code",
      "metadata": {
        "id": "nv1OyOv3I9f4",
        "colab_type": "code",
        "outputId": "4c17d097-54b0-45e8-9592-50f57c0e91e2",
        "colab": {
          "base_uri": "https://localhost:8080/",
          "height": 91
        }
      },
      "source": [
        "import dataset\n",
        "\n",
        "\n",
        "raw_train, raw_test = dataset.get_batch_dataset()"
      ],
      "execution_count": 11,
      "outputs": [
        {
          "output_type": "stream",
          "text": [
            "2019-09-29 09:03:32,799 WARNING tensorflow :From /usr/local/lib/python3.6/dist-packages/tensorflow/python/data/util/random_seed.py:58: add_dispatch_support.<locals>.wrapper (from tensorflow.python.ops.array_ops) is deprecated and will be removed in a future version.\n",
            "Instructions for updating:\n",
            "Use tf.where in 2.0, which has the same broadcast rule as np.where\n"
          ],
          "name": "stderr"
        }
      ]
    },
    {
      "cell_type": "markdown",
      "metadata": {
        "id": "leX-NiQxKRHh",
        "colab_type": "text"
      },
      "source": [
        "### ネットワークの確認"
      ]
    },
    {
      "cell_type": "code",
      "metadata": {
        "id": "sLKS5JeWHdNl",
        "colab_type": "code",
        "outputId": "5d339bc2-6492-4a75-daa5-59bfdd2dd6a4",
        "colab": {
          "base_uri": "https://localhost:8080/",
          "height": 1000
        }
      },
      "source": [
        "%run -i network.py"
      ],
      "execution_count": 12,
      "outputs": [
        {
          "output_type": "stream",
          "text": [
            "Model: \"sequential\"\n",
            "_________________________________________________________________\n",
            "Layer (type)                 Output Shape              Param #   \n",
            "=================================================================\n",
            "dense (Dense)                (None, 12544)             1254400   \n",
            "_________________________________________________________________\n",
            "batch_normalization (BatchNo (None, 12544)             50176     \n",
            "_________________________________________________________________\n",
            "leaky_re_lu (LeakyReLU)      (None, 12544)             0         \n",
            "_________________________________________________________________\n",
            "reshape (Reshape)            (None, 7, 7, 256)         0         \n",
            "_________________________________________________________________\n",
            "conv2d_transpose (Conv2DTran (None, 7, 7, 128)         819200    \n",
            "_________________________________________________________________\n",
            "batch_normalization_1 (Batch (None, 7, 7, 128)         512       \n",
            "_________________________________________________________________\n",
            "leaky_re_lu_1 (LeakyReLU)    (None, 7, 7, 128)         0         \n",
            "_________________________________________________________________\n",
            "conv2d_transpose_1 (Conv2DTr (None, 14, 14, 64)        204800    \n",
            "_________________________________________________________________\n",
            "batch_normalization_2 (Batch (None, 14, 14, 64)        256       \n",
            "_________________________________________________________________\n",
            "leaky_re_lu_2 (LeakyReLU)    (None, 14, 14, 64)        0         \n",
            "_________________________________________________________________\n",
            "conv2d_transpose_2 (Conv2DTr (None, 28, 28, 1)         1600      \n",
            "=================================================================\n",
            "Total params: 2,330,944\n",
            "Trainable params: 2,305,472\n",
            "Non-trainable params: 25,472\n",
            "_________________________________________________________________\n"
          ],
          "name": "stdout"
        },
        {
          "output_type": "display_data",
          "data": {
            "text/plain": [
              "<Figure size 432x288 with 0 Axes>"
            ]
          },
          "metadata": {
            "tags": []
          }
        },
        {
          "output_type": "display_data",
          "data": {
            "image/png": "[encoded data removed]",
            "text/plain": [
              "<Figure size 432x288 with 1 Axes>"
            ]
          },
          "metadata": {
            "tags": []
          }
        },
        {
          "output_type": "stream",
          "text": [
            "2019-09-29 09:03:36,308 INFO __main__ :decision result: [[0.00207541]]\n"
          ],
          "name": "stderr"
        },
        {
          "output_type": "stream",
          "text": [
            "Model: \"sequential_1\"\n",
            "_________________________________________________________________\n",
            "Layer (type)                 Output Shape              Param #   \n",
            "=================================================================\n",
            "conv2d (Conv2D)              (None, 14, 14, 64)        1664      \n",
            "_________________________________________________________________\n",
            "leaky_re_lu_3 (LeakyReLU)    (None, 14, 14, 64)        0         \n",
            "_________________________________________________________________\n",
            "dropout (Dropout)            (None, 14, 14, 64)        0         \n",
            "_________________________________________________________________\n",
            "conv2d_1 (Conv2D)            (None, 7, 7, 128)         204928    \n",
            "_________________________________________________________________\n",
            "leaky_re_lu_4 (LeakyReLU)    (None, 7, 7, 128)         0         \n",
            "_________________________________________________________________\n",
            "dropout_1 (Dropout)          (None, 7, 7, 128)         0         \n",
            "_________________________________________________________________\n",
            "flatten (Flatten)            (None, 6272)              0         \n",
            "_________________________________________________________________\n",
            "dense_1 (Dense)              (None, 1)                 6273      \n",
            "=================================================================\n",
            "Total params: 212,865\n",
            "Trainable params: 212,865\n",
            "Non-trainable params: 0\n",
            "_________________________________________________________________\n"
          ],
          "name": "stdout"
        }
      ]
    },
    {
      "cell_type": "markdown",
      "metadata": {
        "id": "lpsueOcOJRrK",
        "colab_type": "text"
      },
      "source": [
        "### 学習の実行"
      ]
    },
    {
      "cell_type": "code",
      "metadata": {
        "id": "H60exsmWJWPo",
        "colab_type": "code",
        "colab": {
          "base_uri": "https://localhost:8080/",
          "height": 550
        },
        "outputId": "0ada8b18-fcb6-4632-fe63-5ccc76fee25d"
      },
      "source": [
        "import train\n",
        "\n",
        "\n",
        "train.train(raw_train, batch_size=256, epochs=100, gen_input_dim=100, disc_input_shape=(28, 28, 1))"
      ],
      "execution_count": 13,
      "outputs": [
        {
          "output_type": "stream",
          "text": [
            "2019-09-29 09:57:12,043 INFO train :Epoch 99, Generator Loss: 0.9266701936721802, Discriminator Loss: 1.235046625137329, Time: 35.134628772735596 sec\n"
          ],
          "name": "stderr"
        },
        {
          "output_type": "display_data",
          "data": {
            "image/png": "[encoded data removed]",
            "text/plain": [
              "<Figure size 432x288 with 16 Axes>"
            ]
          },
          "metadata": {
            "tags": []
          }
        },
        {
          "output_type": "display_data",
          "data": {
            "image/png": "[encoded data removed]",
            "text/plain": [
              "<Figure size 432x288 with 1 Axes>"
            ]
          },
          "metadata": {
            "tags": []
          }
        }
      ]
    },
    {
      "cell_type": "markdown",
      "metadata": {
        "id": "0QiTCqIlJtMG",
        "colab_type": "text"
      },
      "source": [
        "### 結果"
      ]
    },
    {
      "cell_type": "code",
      "metadata": {
        "id": "J83wMaOaJvSA",
        "colab_type": "code",
        "colab": {
          "base_uri": "https://localhost:8080/",
          "height": 377
        },
        "outputId": "5bbc75d7-a678-47fd-80a1-249a955ff5bc"
      },
      "source": [
        "import utils\n",
        "\n",
        "import IPython\n",
        "from IPython import display\n",
        "\n",
        "def show_generated_images():\n",
        "    filepath = \"_data/dcgan.gif\"\n",
        "    utils.save_gif(\"_data/\", \"image_at_epoch_*\", filepath)\n",
        "\n",
        "    try:\n",
        "        from google.colab import files\n",
        "    except ImportError:\n",
        "        pass\n",
        "    else:\n",
        "        files.download(filepath)\n",
        "\n",
        "\n",
        "show_generated_images()"
      ],
      "execution_count": 0,
      "outputs": [
        {
          "output_type": "stream",
          "text": [
            "2019-09-29 09:57:13,332 INFO utils :write gif from _data/image_at_epoch_0000.png\n",
            "2019-09-29 09:57:13,351 INFO utils :write gif from _data/image_at_epoch_0001.png\n",
            "2019-09-29 09:57:13,372 INFO utils :write gif from _data/image_at_epoch_0002.png\n",
            "2019-09-29 09:57:13,393 INFO utils :write gif from _data/image_at_epoch_0004.png\n",
            "2019-09-29 09:57:13,410 INFO utils :write gif from _data/image_at_epoch_0006.png\n",
            "2019-09-29 09:57:13,428 INFO utils :write gif from _data/image_at_epoch_0008.png\n",
            "2019-09-29 09:57:13,445 INFO utils :write gif from _data/image_at_epoch_0011.png\n",
            "2019-09-29 09:57:13,463 INFO utils :write gif from _data/image_at_epoch_0015.png\n",
            "2019-09-29 09:57:13,480 INFO utils :write gif from _data/image_at_epoch_0019.png\n",
            "2019-09-29 09:57:13,498 INFO utils :write gif from _data/image_at_epoch_0023.png\n",
            "2019-09-29 09:57:13,515 INFO utils :write gif from _data/image_at_epoch_0028.png\n",
            "2019-09-29 09:57:13,532 INFO utils :write gif from _data/image_at_epoch_0034.png\n",
            "2019-09-29 09:57:13,549 INFO utils :write gif from _data/image_at_epoch_0040.png\n",
            "2019-09-29 09:57:13,567 INFO utils :write gif from _data/image_at_epoch_0046.png\n",
            "2019-09-29 09:57:13,585 INFO utils :write gif from _data/image_at_epoch_0053.png\n",
            "2019-09-29 09:57:13,602 INFO utils :write gif from _data/image_at_epoch_0061.png\n",
            "2019-09-29 09:57:13,619 INFO utils :write gif from _data/image_at_epoch_0069.png\n",
            "2019-09-29 09:57:13,636 INFO utils :write gif from _data/image_at_epoch_0077.png\n",
            "2019-09-29 09:57:13,654 INFO utils :write gif from _data/image_at_epoch_0086.png\n",
            "2019-09-29 09:57:13,670 INFO utils :write gif from _data/image_at_epoch_0096.png\n"
          ],
          "name": "stderr"
        }
      ]
    }
  ]
}
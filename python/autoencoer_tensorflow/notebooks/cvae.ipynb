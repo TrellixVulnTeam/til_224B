{
  "nbformat": 4,
  "nbformat_minor": 0,
  "metadata": {
    "colab": {
      "name": "cvae_tensorflow.ipynb",
      "provenance": [],
      "collapsed_sections": [],
      "toc_visible": true
    },
    "kernelspec": {
      "name": "python3",
      "display_name": "Python 3"
    },
    "accelerator": "GPU"
  },
  "cells": [
    {
      "cell_type": "markdown",
      "metadata": {
        "id": "FpHPaEEoVSUn",
        "colab_type": "text"
      },
      "source": [
        "# Convolutional Variational Auto Encoder sample using tensorflow\n",
        "\n",
        "tensorflow を利用して MNIST で CVAE を実行するサンプルです。\n",
        "\n",
        "- [Convolutional Variational Autoencoder][tutorial]\n",
        "\n",
        "[tutorial]: https://www.tensorflow.org/tutorials/generative/cvae"
      ]
    },
    {
      "cell_type": "markdown",
      "metadata": {
        "id": "lcmZkCYOLQvk",
        "colab_type": "text"
      },
      "source": [
        "## 環境の確認"
      ]
    },
    {
      "cell_type": "code",
      "metadata": {
        "id": "LnMGmEyyLT2f",
        "colab_type": "code",
        "outputId": "47ba74eb-95ba-4f50-ddb8-cf33cd2875b6",
        "colab": {
          "base_uri": "https://localhost:8080/",
          "height": 53
        }
      },
      "source": [
        "!cat /etc/issue"
      ],
      "execution_count": 1,
      "outputs": [
        {
          "output_type": "stream",
          "text": [
            "Ubuntu 18.04.3 LTS \\n \\l\n",
            "\n"
          ],
          "name": "stdout"
        }
      ]
    },
    {
      "cell_type": "code",
      "metadata": {
        "id": "UDMUXlaTLpG2",
        "colab_type": "code",
        "outputId": "ce3e24e1-a423-484c-f925-a4999e1d9e9c",
        "colab": {
          "base_uri": "https://localhost:8080/",
          "height": 71
        }
      },
      "source": [
        "!free -h"
      ],
      "execution_count": 2,
      "outputs": [
        {
          "output_type": "stream",
          "text": [
            "              total        used        free      shared  buff/cache   available\n",
            "Mem:            12G        545M         10G        892K        2.0G         11G\n",
            "Swap:            0B          0B          0B\n"
          ],
          "name": "stdout"
        }
      ]
    },
    {
      "cell_type": "code",
      "metadata": {
        "id": "WHn3f12zLsTw",
        "colab_type": "code",
        "outputId": "87e9ae85-dcfc-43ed-f53d-30dc5b7356c3",
        "colab": {
          "base_uri": "https://localhost:8080/",
          "height": 1000
        }
      },
      "source": [
        "!cat /proc/cpuinfo"
      ],
      "execution_count": 3,
      "outputs": [
        {
          "output_type": "stream",
          "text": [
            "processor\t: 0\n",
            "vendor_id\t: GenuineIntel\n",
            "cpu family\t: 6\n",
            "model\t\t: 79\n",
            "model name\t: Intel(R) Xeon(R) CPU @ 2.20GHz\n",
            "stepping\t: 0\n",
            "microcode\t: 0x1\n",
            "cpu MHz\t\t: 2200.000\n",
            "cache size\t: 56320 KB\n",
            "physical id\t: 0\n",
            "siblings\t: 2\n",
            "core id\t\t: 0\n",
            "cpu cores\t: 1\n",
            "apicid\t\t: 0\n",
            "initial apicid\t: 0\n",
            "fpu\t\t: yes\n",
            "fpu_exception\t: yes\n",
            "cpuid level\t: 13\n",
            "wp\t\t: yes\n",
            "flags\t\t: fpu vme de pse tsc msr pae mce cx8 apic sep mtrr pge mca cmov pat pse36 clflush mmx fxsr sse sse2 ss ht syscall nx pdpe1gb rdtscp lm constant_tsc rep_good nopl xtopology nonstop_tsc cpuid tsc_known_freq pni pclmulqdq ssse3 fma cx16 pcid sse4_1 sse4_2 x2apic movbe popcnt aes xsave avx f16c rdrand hypervisor lahf_lm abm 3dnowprefetch invpcid_single ssbd ibrs ibpb stibp fsgsbase tsc_adjust bmi1 hle avx2 smep bmi2 erms invpcid rtm rdseed adx smap xsaveopt arat md_clear arch_capabilities\n",
            "bugs\t\t: cpu_meltdown spectre_v1 spectre_v2 spec_store_bypass l1tf mds swapgs\n",
            "bogomips\t: 4400.00\n",
            "clflush size\t: 64\n",
            "cache_alignment\t: 64\n",
            "address sizes\t: 46 bits physical, 48 bits virtual\n",
            "power management:\n",
            "\n",
            "processor\t: 1\n",
            "vendor_id\t: GenuineIntel\n",
            "cpu family\t: 6\n",
            "model\t\t: 79\n",
            "model name\t: Intel(R) Xeon(R) CPU @ 2.20GHz\n",
            "stepping\t: 0\n",
            "microcode\t: 0x1\n",
            "cpu MHz\t\t: 2200.000\n",
            "cache size\t: 56320 KB\n",
            "physical id\t: 0\n",
            "siblings\t: 2\n",
            "core id\t\t: 0\n",
            "cpu cores\t: 1\n",
            "apicid\t\t: 1\n",
            "initial apicid\t: 1\n",
            "fpu\t\t: yes\n",
            "fpu_exception\t: yes\n",
            "cpuid level\t: 13\n",
            "wp\t\t: yes\n",
            "flags\t\t: fpu vme de pse tsc msr pae mce cx8 apic sep mtrr pge mca cmov pat pse36 clflush mmx fxsr sse sse2 ss ht syscall nx pdpe1gb rdtscp lm constant_tsc rep_good nopl xtopology nonstop_tsc cpuid tsc_known_freq pni pclmulqdq ssse3 fma cx16 pcid sse4_1 sse4_2 x2apic movbe popcnt aes xsave avx f16c rdrand hypervisor lahf_lm abm 3dnowprefetch invpcid_single ssbd ibrs ibpb stibp fsgsbase tsc_adjust bmi1 hle avx2 smep bmi2 erms invpcid rtm rdseed adx smap xsaveopt arat md_clear arch_capabilities\n",
            "bugs\t\t: cpu_meltdown spectre_v1 spectre_v2 spec_store_bypass l1tf mds swapgs\n",
            "bogomips\t: 4400.00\n",
            "clflush size\t: 64\n",
            "cache_alignment\t: 64\n",
            "address sizes\t: 46 bits physical, 48 bits virtual\n",
            "power management:\n",
            "\n"
          ],
          "name": "stdout"
        }
      ]
    },
    {
      "cell_type": "code",
      "metadata": {
        "id": "3FUZPKAcL4jO",
        "colab_type": "code",
        "outputId": "8b4392da-cd32-4790-ce53-a1b09f6cbcd0",
        "colab": {
          "base_uri": "https://localhost:8080/",
          "height": 323
        }
      },
      "source": [
        "!nvidia-smi"
      ],
      "execution_count": 4,
      "outputs": [
        {
          "output_type": "stream",
          "text": [
            "Fri Oct 11 09:09:08 2019       \n",
            "+-----------------------------------------------------------------------------+\n",
            "| NVIDIA-SMI 430.40       Driver Version: 418.67       CUDA Version: 10.1     |\n",
            "|-------------------------------+----------------------+----------------------+\n",
            "| GPU  Name        Persistence-M| Bus-Id        Disp.A | Volatile Uncorr. ECC |\n",
            "| Fan  Temp  Perf  Pwr:Usage/Cap|         Memory-Usage | GPU-Util  Compute M. |\n",
            "|===============================+======================+======================|\n",
            "|   0  Tesla K80           Off  | 00000000:00:04.0 Off |                    0 |\n",
            "| N/A   36C    P8    28W / 149W |      0MiB / 11441MiB |      0%      Default |\n",
            "+-------------------------------+----------------------+----------------------+\n",
            "                                                                               \n",
            "+-----------------------------------------------------------------------------+\n",
            "| Processes:                                                       GPU Memory |\n",
            "|  GPU       PID   Type   Process name                             Usage      |\n",
            "|=============================================================================|\n",
            "|  No running processes found                                                 |\n",
            "+-----------------------------------------------------------------------------+\n"
          ],
          "name": "stdout"
        }
      ]
    },
    {
      "cell_type": "code",
      "metadata": {
        "id": "w2V3sVtNPYdT",
        "colab_type": "code",
        "outputId": "4f4dfac7-4192-4656-ad45-d8cc1cc5640b",
        "colab": {
          "base_uri": "https://localhost:8080/",
          "height": 35
        }
      },
      "source": [
        "!python --version"
      ],
      "execution_count": 5,
      "outputs": [
        {
          "output_type": "stream",
          "text": [
            "Python 3.6.8\n"
          ],
          "name": "stdout"
        }
      ]
    },
    {
      "cell_type": "code",
      "metadata": {
        "id": "Zyf3UfsENhOf",
        "colab_type": "code",
        "colab": {}
      },
      "source": [
        "from logging import Logger\n",
        "\n",
        "\n",
        "def get_logger() -> Logger:\n",
        "    import logging\n",
        "    logger = logging.getLogger(__name__)\n",
        "\n",
        "    fmt = \"%(asctime)s %(levelname)s %(name)s :%(message)s\"\n",
        "    logging.basicConfig(level=logging.INFO, format=fmt)\n",
        "\n",
        "    return logger\n",
        "\n",
        "\n",
        "logger = get_logger()"
      ],
      "execution_count": 0,
      "outputs": []
    },
    {
      "cell_type": "code",
      "metadata": {
        "id": "EppKsLuHMYjR",
        "colab_type": "code",
        "outputId": "54d0129f-18b7-44c2-f865-297c96b7a9fe",
        "colab": {
          "base_uri": "https://localhost:8080/",
          "height": 125
        }
      },
      "source": [
        "!pip install -q tensorflow-gpu==2.0.0\n",
        "def check_tf_version() -> None:\n",
        "    import tensorflow as tf\n",
        "    logger.info(tf.__version__)\n",
        "\n",
        "\n",
        "check_tf_version()"
      ],
      "execution_count": 7,
      "outputs": [
        {
          "output_type": "stream",
          "text": [
            "\u001b[K     |████████████████████████████████| 380.8MB 69kB/s \n",
            "\u001b[K     |████████████████████████████████| 3.8MB 32.7MB/s \n",
            "\u001b[K     |████████████████████████████████| 450kB 42.5MB/s \n",
            "\u001b[31mERROR: tensorflow 1.15.0rc3 has requirement tensorboard<1.16.0,>=1.15.0, but you'll have tensorboard 2.0.0 which is incompatible.\u001b[0m\n",
            "\u001b[31mERROR: tensorflow 1.15.0rc3 has requirement tensorflow-estimator==1.15.1, but you'll have tensorflow-estimator 2.0.0 which is incompatible.\u001b[0m\n",
            "\u001b[?25h"
          ],
          "name": "stdout"
        },
        {
          "output_type": "stream",
          "text": [
            "2019-10-11 09:09:56,133 INFO __main__ :2.0.0\n"
          ],
          "name": "stderr"
        }
      ]
    },
    {
      "cell_type": "markdown",
      "metadata": {
        "id": "SKyYk7oMY21S",
        "colab_type": "text"
      },
      "source": [
        "## ソースコードの取得"
      ]
    },
    {
      "cell_type": "code",
      "metadata": {
        "id": "PjgDKO_RV_U5",
        "colab_type": "code",
        "outputId": "77fc4d14-91fd-4091-af59-488835f0cfb3",
        "colab": {
          "base_uri": "https://localhost:8080/",
          "height": 395
        }
      },
      "source": [
        "# 対象のコードを取得\n",
        "!git clone -n https://github.com/iimuz/til.git\n",
        "%cd til\n",
        "!git checkout 184b032\n",
        "%cd python/cvae_tensorflow"
      ],
      "execution_count": 8,
      "outputs": [
        {
          "output_type": "stream",
          "text": [
            "Cloning into 'til'...\n",
            "remote: Enumerating objects: 679, done.\u001b[K\n",
            "remote: Counting objects: 100% (679/679), done.\u001b[K\n",
            "remote: Compressing objects: 100% (436/436), done.\u001b[K\n",
            "remote: Total 679 (delta 275), reused 603 (delta 211), pack-reused 0\u001b[K\n",
            "Receiving objects: 100% (679/679), 2.34 MiB | 7.15 MiB/s, done.\n",
            "Resolving deltas: 100% (275/275), done.\n",
            "/content/til\n",
            "Note: checking out '184b032'.\n",
            "\n",
            "You are in 'detached HEAD' state. You can look around, make experimental\n",
            "changes and commit them, and you can discard any commits you make in this\n",
            "state without impacting any branches by performing another checkout.\n",
            "\n",
            "If you want to create a new branch to retain commits you create, you may\n",
            "do so (now or later) by using -b with the checkout command again. Example:\n",
            "\n",
            "  git checkout -b <new-branch-name>\n",
            "\n",
            "HEAD is now at 184b032 refact: フォルダ構成を修正\n",
            "/content/til/python/cvae_tensorflow\n"
          ],
          "name": "stdout"
        }
      ]
    },
    {
      "cell_type": "markdown",
      "metadata": {
        "id": "_vUlewGLYtT1",
        "colab_type": "text"
      },
      "source": [
        "## 実行"
      ]
    },
    {
      "cell_type": "markdown",
      "metadata": {
        "id": "NDZFpP_IKKCr",
        "colab_type": "text"
      },
      "source": [
        "### データセットの確認"
      ]
    },
    {
      "cell_type": "code",
      "metadata": {
        "id": "8AwAXG4UHZ7V",
        "colab_type": "code",
        "outputId": "b21c0920-ddfc-400f-f5fd-3c623b72bdf1",
        "colab": {
          "base_uri": "https://localhost:8080/",
          "height": 353
        }
      },
      "source": [
        "%run -i dataset.py"
      ],
      "execution_count": 9,
      "outputs": [
        {
          "output_type": "stream",
          "text": [
            "2019-10-11 09:09:59,586 INFO __main__ :eager execution: True\n"
          ],
          "name": "stderr"
        },
        {
          "output_type": "stream",
          "text": [
            "Downloading data from https://storage.googleapis.com/tensorflow/tf-keras-datasets/mnist.npz\n",
            "11493376/11490434 [==============================] - 0s 0us/step\n"
          ],
          "name": "stdout"
        },
        {
          "output_type": "stream",
          "text": [
            "2019-10-11 09:10:01,716 INFO __main__ :train_dataset: <class 'tensorflow.python.data.ops.dataset_ops.BatchDataset'>\n"
          ],
          "name": "stderr"
        },
        {
          "output_type": "display_data",
          "data": {
            "image/png": "[encoded data removed]",
            "text/plain": [
              "<Figure size 432x288 with 1 Axes>"
            ]
          },
          "metadata": {
            "tags": []
          }
        }
      ]
    },
    {
      "cell_type": "code",
      "metadata": {
        "id": "nv1OyOv3I9f4",
        "colab_type": "code",
        "colab": {}
      },
      "source": [
        "import dataset\n",
        "\n",
        "\n",
        "raw_train, raw_test = dataset.get_batch_dataset()"
      ],
      "execution_count": 0,
      "outputs": []
    },
    {
      "cell_type": "markdown",
      "metadata": {
        "id": "leX-NiQxKRHh",
        "colab_type": "text"
      },
      "source": [
        "### ネットワークの確認"
      ]
    },
    {
      "cell_type": "code",
      "metadata": {
        "id": "sLKS5JeWHdNl",
        "colab_type": "code",
        "outputId": "12c7f331-d467-46ec-86a1-734e527fc3f4",
        "colab": {
          "base_uri": "https://localhost:8080/",
          "height": 647
        }
      },
      "source": [
        "%run -i network.py"
      ],
      "execution_count": 11,
      "outputs": [
        {
          "output_type": "stream",
          "text": [
            "2019-10-11 09:10:03,645 INFO __main__ :eager execution: True\n"
          ],
          "name": "stderr"
        },
        {
          "output_type": "stream",
          "text": [
            "Model: \"sequential\"\n",
            "_________________________________________________________________\n",
            "Layer (type)                 Output Shape              Param #   \n",
            "=================================================================\n",
            "conv2d (Conv2D)              (None, 13, 13, 32)        320       \n",
            "_________________________________________________________________\n",
            "conv2d_1 (Conv2D)            (None, 6, 6, 64)          18496     \n",
            "_________________________________________________________________\n",
            "flatten (Flatten)            (None, 2304)              0         \n",
            "_________________________________________________________________\n",
            "dense (Dense)                (None, 100)               230500    \n",
            "=================================================================\n",
            "Total params: 249,316\n",
            "Trainable params: 249,316\n",
            "Non-trainable params: 0\n",
            "_________________________________________________________________\n",
            "Model: \"sequential_1\"\n",
            "_________________________________________________________________\n",
            "Layer (type)                 Output Shape              Param #   \n",
            "=================================================================\n",
            "dense_1 (Dense)              (None, 1568)              79968     \n",
            "_________________________________________________________________\n",
            "reshape (Reshape)            (None, 7, 7, 32)          0         \n",
            "_________________________________________________________________\n",
            "conv2d_transpose (Conv2DTran (None, 14, 14, 64)        18496     \n",
            "_________________________________________________________________\n",
            "conv2d_transpose_1 (Conv2DTr (None, 28, 28, 32)        18464     \n",
            "_________________________________________________________________\n",
            "conv2d_transpose_2 (Conv2DTr (None, 28, 28, 1)         289       \n",
            "=================================================================\n",
            "Total params: 117,217\n",
            "Trainable params: 117,217\n",
            "Non-trainable params: 0\n",
            "_________________________________________________________________\n"
          ],
          "name": "stdout"
        }
      ]
    },
    {
      "cell_type": "markdown",
      "metadata": {
        "id": "lpsueOcOJRrK",
        "colab_type": "text"
      },
      "source": [
        "### 学習の実行"
      ]
    },
    {
      "cell_type": "code",
      "metadata": {
        "id": "H60exsmWJWPo",
        "colab_type": "code",
        "outputId": "c9cdab95-46de-4bc6-bd3c-9e8309df751b",
        "colab": {
          "base_uri": "https://localhost:8080/",
          "height": 550
        }
      },
      "source": [
        "import time\n",
        "\n",
        "from IPython import display\n",
        "\n",
        "import dataset\n",
        "import train\n",
        "import utils\n",
        "\n",
        "def training() -> None:\n",
        "    logger.info(f\"eager execution: {tf.executing_eagerly()}\")\n",
        "\n",
        "    epochs = 100\n",
        "    latent_dim = 50\n",
        "    num_example_to_generate = 16\n",
        "    random_vector_for_generation = tf.random.normal(\n",
        "        shape=[num_example_to_generate, latent_dim]\n",
        "    )\n",
        "    history_filepath = \"_data/history.pkl\"\n",
        "    history_image_filepath = \"_data/history.png\"\n",
        "\n",
        "    train_dataset, test_dataset = dataset.get_batch_dataset(\n",
        "        train_buff=60000, batch_size=128\n",
        "    )\n",
        "    model = CVAE(latent_dim)\n",
        "    optimizer = tf.keras.optimizers.Adam(1e-4)\n",
        "\n",
        "    checkpoint, checkpoint_manager = utils.get_checkpoint_and_manager(\n",
        "        save_dir=\"_data/ckpts\", max_to_keep=3, model=model, optimizer=optimizer\n",
        "    )\n",
        "    utils.restore_latest(checkpoint, checkpoint_manager)\n",
        "    elbo_history = train.restore_history(history_filepath)\n",
        "\n",
        "    start_epoch = checkpoint.save_counter.numpy()\n",
        "    for epoch in range(start_epoch, epochs):\n",
        "        start_time = time.time()\n",
        "        for train_x in train_dataset:\n",
        "            train.compute_apply_gradients(model, train_x, optimizer)\n",
        "        end_time = time.time()\n",
        "\n",
        "        checkpoint_manager.save()\n",
        "\n",
        "        loss = tf.keras.metrics.Mean()\n",
        "        for test_x in test_dataset:\n",
        "            loss(train.compute_loss(model, test_x))\n",
        "        elbo_history.append(-loss.result())\n",
        "\n",
        "        if display is not None:\n",
        "            display.clear_output(wait=False)\n",
        "        logger.info(\n",
        "            f\"Epoch: {epoch}\"\n",
        "            f\", Test set ELBO: {elbo_history[-1]}\"\n",
        "            f\", time elapse for current epoch {end_time - start_time}\"\n",
        "        )\n",
        "        predictions = model.sample(random_vector_for_generation)\n",
        "        train.show_and_save_images(predictions, f\"_data/image_at_epoch_{epoch:04d}.png\")\n",
        "        train.show_and_save_history(elbo_history, history_image_filepath)\n",
        "        train.save_history(elbo_history, history_filepath)\n",
        "\n",
        "\n",
        "training()"
      ],
      "execution_count": 12,
      "outputs": [
        {
          "output_type": "stream",
          "text": [
            "2019-10-11 09:23:26,003 INFO __main__ :Epoch: 99, Test set ELBO: -78.64562225341797, time elapse for current epoch 6.0481181144714355\n"
          ],
          "name": "stderr"
        },
        {
          "output_type": "display_data",
          "data": {
            "image/png": "[encoded data removed]",
            "text/plain": [
              "<Figure size 432x288 with 16 Axes>"
            ]
          },
          "metadata": {
            "tags": []
          }
        },
        {
          "output_type": "display_data",
          "data": {
            "image/png": "[encoded data removed]",
            "text/plain": [
              "<Figure size 432x288 with 1 Axes>"
            ]
          },
          "metadata": {
            "tags": []
          }
        }
      ]
    },
    {
      "cell_type": "markdown",
      "metadata": {
        "id": "0QiTCqIlJtMG",
        "colab_type": "text"
      },
      "source": [
        "### 結果"
      ]
    },
    {
      "cell_type": "code",
      "metadata": {
        "id": "J83wMaOaJvSA",
        "colab_type": "code",
        "outputId": "6cb3fa83-3d28-4e14-97eb-f71e8772f804",
        "colab": {
          "base_uri": "https://localhost:8080/",
          "height": 1000
        }
      },
      "source": [
        "import utils\n",
        "\n",
        "import IPython\n",
        "from IPython import display\n",
        "\n",
        "def show_generated_images():\n",
        "    filepath = \"_data/dcgan.gif\"\n",
        "    utils.save_gif(\"_data/\", \"image_at_epoch_*\", filepath)\n",
        "\n",
        "    try:\n",
        "        from google.colab import files\n",
        "    except ImportError:\n",
        "        pass\n",
        "    else:\n",
        "        files.download(filepath)\n",
        "\n",
        "\n",
        "show_generated_images()"
      ],
      "execution_count": 13,
      "outputs": [
        {
          "output_type": "stream",
          "text": [
            "2019-10-11 09:23:27,274 INFO utils :write gif from _data/image_at_epoch_0000.png\n",
            "2019-10-11 09:23:27,294 INFO utils :write gif from _data/image_at_epoch_0001.png\n",
            "2019-10-11 09:23:27,313 INFO utils :write gif from _data/image_at_epoch_0002.png\n",
            "2019-10-11 09:23:27,334 INFO utils :write gif from _data/image_at_epoch_0003.png\n",
            "2019-10-11 09:23:27,352 INFO utils :write gif from _data/image_at_epoch_0004.png\n",
            "2019-10-11 09:23:27,371 INFO utils :write gif from _data/image_at_epoch_0005.png\n",
            "2019-10-11 09:23:27,391 INFO utils :write gif from _data/image_at_epoch_0006.png\n",
            "2019-10-11 09:23:27,415 INFO utils :write gif from _data/image_at_epoch_0007.png\n",
            "2019-10-11 09:23:27,433 INFO utils :write gif from _data/image_at_epoch_0008.png\n",
            "2019-10-11 09:23:27,451 INFO utils :write gif from _data/image_at_epoch_0009.png\n",
            "2019-10-11 09:23:27,470 INFO utils :write gif from _data/image_at_epoch_0010.png\n",
            "2019-10-11 09:23:27,489 INFO utils :write gif from _data/image_at_epoch_0011.png\n",
            "2019-10-11 09:23:27,507 INFO utils :write gif from _data/image_at_epoch_0012.png\n",
            "2019-10-11 09:23:27,525 INFO utils :write gif from _data/image_at_epoch_0013.png\n",
            "2019-10-11 09:23:27,544 INFO utils :write gif from _data/image_at_epoch_0014.png\n",
            "2019-10-11 09:23:27,564 INFO utils :write gif from _data/image_at_epoch_0015.png\n",
            "2019-10-11 09:23:27,584 INFO utils :write gif from _data/image_at_epoch_0016.png\n",
            "2019-10-11 09:23:27,603 INFO utils :write gif from _data/image_at_epoch_0017.png\n",
            "2019-10-11 09:23:27,621 INFO utils :write gif from _data/image_at_epoch_0018.png\n",
            "2019-10-11 09:23:27,639 INFO utils :write gif from _data/image_at_epoch_0019.png\n",
            "2019-10-11 09:23:27,657 INFO utils :write gif from _data/image_at_epoch_0020.png\n",
            "2019-10-11 09:23:27,677 INFO utils :write gif from _data/image_at_epoch_0021.png\n",
            "2019-10-11 09:23:27,694 INFO utils :write gif from _data/image_at_epoch_0022.png\n",
            "2019-10-11 09:23:27,712 INFO utils :write gif from _data/image_at_epoch_0023.png\n",
            "2019-10-11 09:23:27,732 INFO utils :write gif from _data/image_at_epoch_0024.png\n",
            "2019-10-11 09:23:27,749 INFO utils :write gif from _data/image_at_epoch_0025.png\n",
            "2019-10-11 09:23:27,772 INFO utils :write gif from _data/image_at_epoch_0026.png\n",
            "2019-10-11 09:23:27,793 INFO utils :write gif from _data/image_at_epoch_0027.png\n",
            "2019-10-11 09:23:27,811 INFO utils :write gif from _data/image_at_epoch_0028.png\n",
            "2019-10-11 09:23:27,829 INFO utils :write gif from _data/image_at_epoch_0029.png\n",
            "2019-10-11 09:23:27,847 INFO utils :write gif from _data/image_at_epoch_0030.png\n",
            "2019-10-11 09:23:27,865 INFO utils :write gif from _data/image_at_epoch_0031.png\n",
            "2019-10-11 09:23:27,883 INFO utils :write gif from _data/image_at_epoch_0032.png\n",
            "2019-10-11 09:23:27,900 INFO utils :write gif from _data/image_at_epoch_0033.png\n",
            "2019-10-11 09:23:27,918 INFO utils :write gif from _data/image_at_epoch_0034.png\n",
            "2019-10-11 09:23:27,936 INFO utils :write gif from _data/image_at_epoch_0035.png\n",
            "2019-10-11 09:23:27,954 INFO utils :write gif from _data/image_at_epoch_0036.png\n",
            "2019-10-11 09:23:27,973 INFO utils :write gif from _data/image_at_epoch_0037.png\n",
            "2019-10-11 09:23:27,993 INFO utils :write gif from _data/image_at_epoch_0038.png\n",
            "2019-10-11 09:23:28,015 INFO utils :write gif from _data/image_at_epoch_0039.png\n",
            "2019-10-11 09:23:28,035 INFO utils :write gif from _data/image_at_epoch_0040.png\n",
            "2019-10-11 09:23:28,056 INFO utils :write gif from _data/image_at_epoch_0041.png\n",
            "2019-10-11 09:23:28,074 INFO utils :write gif from _data/image_at_epoch_0042.png\n",
            "2019-10-11 09:23:28,096 INFO utils :write gif from _data/image_at_epoch_0043.png\n",
            "2019-10-11 09:23:28,114 INFO utils :write gif from _data/image_at_epoch_0044.png\n",
            "2019-10-11 09:23:28,133 INFO utils :write gif from _data/image_at_epoch_0045.png\n",
            "2019-10-11 09:23:28,151 INFO utils :write gif from _data/image_at_epoch_0046.png\n",
            "2019-10-11 09:23:28,171 INFO utils :write gif from _data/image_at_epoch_0047.png\n",
            "2019-10-11 09:23:28,188 INFO utils :write gif from _data/image_at_epoch_0048.png\n",
            "2019-10-11 09:23:28,206 INFO utils :write gif from _data/image_at_epoch_0049.png\n",
            "2019-10-11 09:23:28,224 INFO utils :write gif from _data/image_at_epoch_0050.png\n",
            "2019-10-11 09:23:28,241 INFO utils :write gif from _data/image_at_epoch_0051.png\n",
            "2019-10-11 09:23:28,261 INFO utils :write gif from _data/image_at_epoch_0052.png\n",
            "2019-10-11 09:23:28,279 INFO utils :write gif from _data/image_at_epoch_0053.png\n",
            "2019-10-11 09:23:28,298 INFO utils :write gif from _data/image_at_epoch_0054.png\n",
            "2019-10-11 09:23:28,316 INFO utils :write gif from _data/image_at_epoch_0055.png\n",
            "2019-10-11 09:23:28,334 INFO utils :write gif from _data/image_at_epoch_0056.png\n",
            "2019-10-11 09:23:28,352 INFO utils :write gif from _data/image_at_epoch_0057.png\n",
            "2019-10-11 09:23:28,374 INFO utils :write gif from _data/image_at_epoch_0058.png\n",
            "2019-10-11 09:23:28,392 INFO utils :write gif from _data/image_at_epoch_0059.png\n",
            "2019-10-11 09:23:28,410 INFO utils :write gif from _data/image_at_epoch_0060.png\n",
            "2019-10-11 09:23:28,427 INFO utils :write gif from _data/image_at_epoch_0061.png\n",
            "2019-10-11 09:23:28,446 INFO utils :write gif from _data/image_at_epoch_0062.png\n",
            "2019-10-11 09:23:28,464 INFO utils :write gif from _data/image_at_epoch_0063.png\n",
            "2019-10-11 09:23:28,488 INFO utils :write gif from _data/image_at_epoch_0064.png\n",
            "2019-10-11 09:23:28,505 INFO utils :write gif from _data/image_at_epoch_0065.png\n",
            "2019-10-11 09:23:28,524 INFO utils :write gif from _data/image_at_epoch_0066.png\n",
            "2019-10-11 09:23:28,541 INFO utils :write gif from _data/image_at_epoch_0067.png\n",
            "2019-10-11 09:23:28,560 INFO utils :write gif from _data/image_at_epoch_0068.png\n",
            "2019-10-11 09:23:28,578 INFO utils :write gif from _data/image_at_epoch_0069.png\n",
            "2019-10-11 09:23:28,595 INFO utils :write gif from _data/image_at_epoch_0070.png\n",
            "2019-10-11 09:23:28,614 INFO utils :write gif from _data/image_at_epoch_0071.png\n",
            "2019-10-11 09:23:28,632 INFO utils :write gif from _data/image_at_epoch_0072.png\n",
            "2019-10-11 09:23:28,651 INFO utils :write gif from _data/image_at_epoch_0073.png\n",
            "2019-10-11 09:23:28,669 INFO utils :write gif from _data/image_at_epoch_0074.png\n",
            "2019-10-11 09:23:28,688 INFO utils :write gif from _data/image_at_epoch_0075.png\n",
            "2019-10-11 09:23:28,708 INFO utils :write gif from _data/image_at_epoch_0076.png\n",
            "2019-10-11 09:23:28,727 INFO utils :write gif from _data/image_at_epoch_0077.png\n",
            "2019-10-11 09:23:28,745 INFO utils :write gif from _data/image_at_epoch_0078.png\n",
            "2019-10-11 09:23:28,763 INFO utils :write gif from _data/image_at_epoch_0079.png\n",
            "2019-10-11 09:23:28,781 INFO utils :write gif from _data/image_at_epoch_0080.png\n",
            "2019-10-11 09:23:28,804 INFO utils :write gif from _data/image_at_epoch_0081.png\n",
            "2019-10-11 09:23:28,825 INFO utils :write gif from _data/image_at_epoch_0082.png\n",
            "2019-10-11 09:23:28,843 INFO utils :write gif from _data/image_at_epoch_0083.png\n",
            "2019-10-11 09:23:28,861 INFO utils :write gif from _data/image_at_epoch_0084.png\n",
            "2019-10-11 09:23:28,880 INFO utils :write gif from _data/image_at_epoch_0085.png\n",
            "2019-10-11 09:23:28,898 INFO utils :write gif from _data/image_at_epoch_0086.png\n",
            "2019-10-11 09:23:28,916 INFO utils :write gif from _data/image_at_epoch_0087.png\n",
            "2019-10-11 09:23:28,934 INFO utils :write gif from _data/image_at_epoch_0088.png\n",
            "2019-10-11 09:23:28,954 INFO utils :write gif from _data/image_at_epoch_0089.png\n",
            "2019-10-11 09:23:28,971 INFO utils :write gif from _data/image_at_epoch_0090.png\n",
            "2019-10-11 09:23:28,991 INFO utils :write gif from _data/image_at_epoch_0091.png\n",
            "2019-10-11 09:23:29,011 INFO utils :write gif from _data/image_at_epoch_0092.png\n",
            "2019-10-11 09:23:29,031 INFO utils :write gif from _data/image_at_epoch_0093.png\n",
            "2019-10-11 09:23:29,049 INFO utils :write gif from _data/image_at_epoch_0094.png\n",
            "2019-10-11 09:23:29,067 INFO utils :write gif from _data/image_at_epoch_0095.png\n",
            "2019-10-11 09:23:29,085 INFO utils :write gif from _data/image_at_epoch_0096.png\n",
            "2019-10-11 09:23:29,104 INFO utils :write gif from _data/image_at_epoch_0097.png\n",
            "2019-10-11 09:23:29,122 INFO utils :write gif from _data/image_at_epoch_0098.png\n",
            "2019-10-11 09:23:29,139 INFO utils :write gif from _data/image_at_epoch_0099.png\n"
          ],
          "name": "stderr"
        },
        {
          "output_type": "error",
          "ename": "KeyboardInterrupt",
          "evalue": "ignored",
          "traceback": [
            "\u001b[0;31m---------------------------------------------------------------------------\u001b[0m",
            "\u001b[0;31mKeyboardInterrupt\u001b[0m                         Traceback (most recent call last)",
            "\u001b[0;32m/content/til/python/cvae_tensorflow/network.py\u001b[0m in \u001b[0;36m<module>\u001b[0;34m()\u001b[0m\n\u001b[1;32m     16\u001b[0m \u001b[0;34m\u001b[0m\u001b[0m\n\u001b[1;32m     17\u001b[0m \u001b[0;34m\u001b[0m\u001b[0m\n\u001b[0;32m---> 18\u001b[0;31m \u001b[0mshow_generated_images\u001b[0m\u001b[0;34m(\u001b[0m\u001b[0;34m)\u001b[0m\u001b[0;34m\u001b[0m\u001b[0;34m\u001b[0m\u001b[0m\n\u001b[0m",
            "\u001b[0;32m/content/til/python/cvae_tensorflow/network.py\u001b[0m in \u001b[0;36mshow_generated_images\u001b[0;34m()\u001b[0m\n\u001b[1;32m     13\u001b[0m         \u001b[0;32mpass\u001b[0m\u001b[0;34m\u001b[0m\u001b[0;34m\u001b[0m\u001b[0m\n\u001b[1;32m     14\u001b[0m     \u001b[0;32melse\u001b[0m\u001b[0;34m:\u001b[0m\u001b[0;34m\u001b[0m\u001b[0;34m\u001b[0m\u001b[0m\n\u001b[0;32m---> 15\u001b[0;31m         \u001b[0mfiles\u001b[0m\u001b[0;34m.\u001b[0m\u001b[0mdownload\u001b[0m\u001b[0;34m(\u001b[0m\u001b[0mfilepath\u001b[0m\u001b[0;34m)\u001b[0m\u001b[0;34m\u001b[0m\u001b[0;34m\u001b[0m\u001b[0m\n\u001b[0m\u001b[1;32m     16\u001b[0m \u001b[0;34m\u001b[0m\u001b[0m\n\u001b[1;32m     17\u001b[0m \u001b[0;34m\u001b[0m\u001b[0m\n",
            "\u001b[0;32m/usr/local/lib/python3.6/dist-packages/google/colab/files.py\u001b[0m in \u001b[0;36mdownload\u001b[0;34m(filename)\u001b[0m\n\u001b[1;32m    176\u001b[0m       \u001b[0;34m'port'\u001b[0m\u001b[0;34m:\u001b[0m \u001b[0mport\u001b[0m\u001b[0;34m,\u001b[0m\u001b[0;34m\u001b[0m\u001b[0;34m\u001b[0m\u001b[0m\n\u001b[1;32m    177\u001b[0m       \u001b[0;34m'path'\u001b[0m\u001b[0;34m:\u001b[0m \u001b[0m_os\u001b[0m\u001b[0;34m.\u001b[0m\u001b[0mpath\u001b[0m\u001b[0;34m.\u001b[0m\u001b[0mabspath\u001b[0m\u001b[0;34m(\u001b[0m\u001b[0mfilename\u001b[0m\u001b[0;34m)\u001b[0m\u001b[0;34m,\u001b[0m\u001b[0;34m\u001b[0m\u001b[0;34m\u001b[0m\u001b[0m\n\u001b[0;32m--> 178\u001b[0;31m       \u001b[0;34m'name'\u001b[0m\u001b[0;34m:\u001b[0m \u001b[0m_os\u001b[0m\u001b[0;34m.\u001b[0m\u001b[0mpath\u001b[0m\u001b[0;34m.\u001b[0m\u001b[0mbasename\u001b[0m\u001b[0;34m(\u001b[0m\u001b[0mfilename\u001b[0m\u001b[0;34m)\u001b[0m\u001b[0;34m,\u001b[0m\u001b[0;34m\u001b[0m\u001b[0;34m\u001b[0m\u001b[0m\n\u001b[0m\u001b[1;32m    179\u001b[0m   })\n",
            "\u001b[0;32m/usr/local/lib/python3.6/dist-packages/google/colab/output/_js.py\u001b[0m in \u001b[0;36meval_js\u001b[0;34m(script, ignore_result)\u001b[0m\n\u001b[1;32m     37\u001b[0m   \u001b[0;32mif\u001b[0m \u001b[0mignore_result\u001b[0m\u001b[0;34m:\u001b[0m\u001b[0;34m\u001b[0m\u001b[0;34m\u001b[0m\u001b[0m\n\u001b[1;32m     38\u001b[0m     \u001b[0;32mreturn\u001b[0m\u001b[0;34m\u001b[0m\u001b[0;34m\u001b[0m\u001b[0m\n\u001b[0;32m---> 39\u001b[0;31m   \u001b[0;32mreturn\u001b[0m \u001b[0m_message\u001b[0m\u001b[0;34m.\u001b[0m\u001b[0mread_reply_from_input\u001b[0m\u001b[0;34m(\u001b[0m\u001b[0mrequest_id\u001b[0m\u001b[0;34m)\u001b[0m\u001b[0;34m\u001b[0m\u001b[0;34m\u001b[0m\u001b[0m\n\u001b[0m\u001b[1;32m     40\u001b[0m \u001b[0;34m\u001b[0m\u001b[0m\n\u001b[1;32m     41\u001b[0m \u001b[0;34m\u001b[0m\u001b[0m\n",
            "\u001b[0;32m/usr/local/lib/python3.6/dist-packages/google/colab/_message.py\u001b[0m in \u001b[0;36mread_reply_from_input\u001b[0;34m(message_id, timeout_sec)\u001b[0m\n\u001b[1;32m     99\u001b[0m     \u001b[0mreply\u001b[0m \u001b[0;34m=\u001b[0m \u001b[0m_read_next_input_message\u001b[0m\u001b[0;34m(\u001b[0m\u001b[0;34m)\u001b[0m\u001b[0;34m\u001b[0m\u001b[0;34m\u001b[0m\u001b[0m\n\u001b[1;32m    100\u001b[0m     \u001b[0;32mif\u001b[0m \u001b[0mreply\u001b[0m \u001b[0;34m==\u001b[0m \u001b[0m_NOT_READY\u001b[0m \u001b[0;32mor\u001b[0m \u001b[0;32mnot\u001b[0m \u001b[0misinstance\u001b[0m\u001b[0;34m(\u001b[0m\u001b[0mreply\u001b[0m\u001b[0;34m,\u001b[0m \u001b[0mdict\u001b[0m\u001b[0;34m)\u001b[0m\u001b[0;34m:\u001b[0m\u001b[0;34m\u001b[0m\u001b[0;34m\u001b[0m\u001b[0m\n\u001b[0;32m--> 101\u001b[0;31m       \u001b[0mtime\u001b[0m\u001b[0;34m.\u001b[0m\u001b[0msleep\u001b[0m\u001b[0;34m(\u001b[0m\u001b[0;36m0.025\u001b[0m\u001b[0;34m)\u001b[0m\u001b[0;34m\u001b[0m\u001b[0;34m\u001b[0m\u001b[0m\n\u001b[0m\u001b[1;32m    102\u001b[0m       \u001b[0;32mcontinue\u001b[0m\u001b[0;34m\u001b[0m\u001b[0;34m\u001b[0m\u001b[0m\n\u001b[1;32m    103\u001b[0m     if (reply.get('type') == 'colab_reply' and\n",
            "\u001b[0;31mKeyboardInterrupt\u001b[0m: "
          ]
        }
      ]
    }
  ]
}
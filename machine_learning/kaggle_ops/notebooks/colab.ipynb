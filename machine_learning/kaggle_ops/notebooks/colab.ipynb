{
  "nbformat": 4,
  "nbformat_minor": 0,
  "metadata": {
    "colab": {
      "name": "kaggle-ops_run.ipynb",
      "provenance": [],
      "collapsed_sections": [
        "GCIR5c7CTKid",
        "zgGBfLNZS8JY",
        "eokGJTXv37dv",
        "zl9f5ye-7U1H",
        "c9eYqSJF4NO-",
        "ZWlfS_HlQO_Q"
      ]
    },
    "kernelspec": {
      "name": "python3",
      "display_name": "Python 3"
    },
    "accelerator": "GPU"
  },
  "cells": [
    {
      "cell_type": "markdown",
      "metadata": {
        "id": "4pYhyJ6AR91U"
      },
      "source": [
        "# KaggleOps Template"
      ]
    },
    {
      "cell_type": "markdown",
      "metadata": {
        "id": "EbN8Pp-SSQea"
      },
      "source": [
        "## Overview\r\n",
        "\r\n",
        "KaggleOpsで利用するための実行用ノートブックのひな形です。"
      ]
    },
    {
      "cell_type": "markdown",
      "metadata": {
        "id": "X_Ax0PhcS2m-"
      },
      "source": [
        "## Import packages"
      ]
    },
    {
      "cell_type": "code",
      "metadata": {
        "id": "ehd_luWDS5hU"
      },
      "source": [
        "# default packages\r\n",
        "import logging\r\n",
        "import os\r\n",
        "import pathlib\r\n",
        "import typing as t"
      ],
      "execution_count": null,
      "outputs": []
    },
    {
      "cell_type": "code",
      "metadata": {
        "id": "epypOPLErmcX"
      },
      "source": [
        "# third party packages\r\n",
        "import google.cloud.storage as gcs\r\n",
        "import toml\r\n",
        "import yaml"
      ],
      "execution_count": null,
      "outputs": []
    },
    {
      "cell_type": "markdown",
      "metadata": {
        "id": "cnOJtyxfS9zT"
      },
      "source": [
        "## Preset"
      ]
    },
    {
      "cell_type": "code",
      "metadata": {
        "id": "l0_qLa8PmGEI"
      },
      "source": [
        "# mode\r\n",
        "MODE_DEBUG = True"
      ],
      "execution_count": null,
      "outputs": []
    },
    {
      "cell_type": "code",
      "metadata": {
        "id": "Qp3UZPqNTCIF"
      },
      "source": [
        "# logger\r\n",
        "_logger = logging.getLogger(__name__)\r\n",
        "logging.basicConfig(\r\n",
        "    level=logging.DEBUG if MODE_DEBUG else logging.INFO\r\n",
        ")"
      ],
      "execution_count": null,
      "outputs": []
    },
    {
      "cell_type": "code",
      "metadata": {
        "id": "JI4x0bsuUCsD"
      },
      "source": [
        "# git info\r\n",
        "GIT_REPOSITORY = \"iimuz/til\"\r\n",
        "GIT_BRANCH = \"master\"\r\n",
        "PROJECT_DIR = \"machine_learning/kaggle_ops\""
      ],
      "execution_count": null,
      "outputs": []
    },
    {
      "cell_type": "code",
      "metadata": {
        "id": "Q83d3ML9ADSW"
      },
      "source": [
        "# env\r\n",
        "DOTENV_PATH = pathlib.Path(\"/content/.env\")"
      ],
      "execution_count": null,
      "outputs": []
    },
    {
      "cell_type": "code",
      "metadata": {
        "id": "aKpTNIeiw2Mm"
      },
      "source": [
        "# training\r\n",
        "CONFIG_PATH = pathlib.Path(\"models/config.yml\")"
      ],
      "execution_count": null,
      "outputs": []
    },
    {
      "cell_type": "markdown",
      "metadata": {
        "id": "GCIR5c7CTKid"
      },
      "source": [
        "## Check gpu"
      ]
    },
    {
      "cell_type": "code",
      "metadata": {
        "id": "p5724Pp7Sa3U"
      },
      "source": [
        "def show_gpu_info() -> None:\r\n",
        "    \"\"\"GPU情報を確認する.\"\"\"\r\n",
        "    gpu_info = !nvidia-smi\r\n",
        "    gpu_info = \"\\n\".join(gpu_info)\r\n",
        "    _logger.info(gpu_info)\r\n",
        "\r\n",
        "\r\n",
        "show_gpu_info()"
      ],
      "execution_count": null,
      "outputs": []
    },
    {
      "cell_type": "markdown",
      "metadata": {
        "id": "zgGBfLNZS8JY"
      },
      "source": [
        "## Clone repository"
      ]
    },
    {
      "cell_type": "code",
      "metadata": {
        "id": "wG__ZHqgT9Df"
      },
      "source": [
        "def clone_git(repository: str,branch: str, project_dir: str) -> None:\r\n",
        "    \"\"\"git repositoryをクローンして、利用するディレクトリに移動する.\"\"\"\r\n",
        "    clone_path = pathlib.Path(\"/content\").joinpath(repository.split(\"/\")[-1])\r\n",
        "\r\n",
        "    if not clone_path.exists():\r\n",
        "        !git clone https://github.com/{repository}.git {clone_path}\r\n",
        "        %cd {clone_path}\r\n",
        "        !git checkout -b {branch} origin/{branch}\r\n",
        "    else:\r\n",
        "        %cd {clone_path}\r\n",
        "        !git fetch origin --prune\r\n",
        "        !git merge --ff origin/{branch}\r\n",
        "\r\n",
        "    %cd {project_dir}\r\n",
        "    _logger.info(f\"current direcotry: {pathlib.Path().resolve()}\")\r\n",
        "\r\n",
        "\r\n",
        "clone_git(GIT_REPOSITORY, GIT_BRANCH, PROJECT_DIR)"
      ],
      "execution_count": null,
      "outputs": []
    },
    {
      "cell_type": "markdown",
      "metadata": {
        "id": "eokGJTXv37dv"
      },
      "source": [
        "## Install packages"
      ]
    },
    {
      "cell_type": "code",
      "metadata": {
        "id": "uyOQUcVRlSZC"
      },
      "source": [
        "def install_packages() -> None:\r\n",
        "    \"\"\"pyprojectから依存パッケージを導入する.\r\n",
        "    \r\n",
        "    Notes:\r\n",
        "        poetryをインストールして、poetry installを利用すると、\r\n",
        "        colabで必要なパッケージの依存関係を壊すようなのでpipでインストール.\r\n",
        "    \"\"\"\r\n",
        "    config = toml.load(\"pyproject.toml\")\r\n",
        "    package_list = config[\"tool\"][\"poetry\"][\"dependencies\"]\r\n",
        "    for package in package_list.keys():\r\n",
        "        if package == \"python\":\r\n",
        "            continue\r\n",
        "\r\n",
        "        !pip install -q {package}\r\n",
        "\r\n",
        "\r\n",
        "install_packages()"
      ],
      "execution_count": null,
      "outputs": []
    },
    {
      "cell_type": "markdown",
      "metadata": {
        "id": "zl9f5ye-7U1H"
      },
      "source": [
        "## Set environments"
      ]
    },
    {
      "cell_type": "code",
      "metadata": {
        "id": "SRcb5Ajh_8Bk"
      },
      "source": [
        "import dotenv"
      ],
      "execution_count": null,
      "outputs": []
    },
    {
      "cell_type": "code",
      "metadata": {
        "id": "RErXKrzp7Y7Y"
      },
      "source": [
        "def load_env(filepath: pathlib.Path) -> None:\r\n",
        "    dotenv.load_dotenv(filepath)\r\n",
        "\r\n",
        "\r\n",
        "load_env(DOTENV_PATH)"
      ],
      "execution_count": null,
      "outputs": []
    },
    {
      "cell_type": "markdown",
      "metadata": {
        "id": "-QtfZXQ0C20T"
      },
      "source": [
        "## GCloud settings"
      ]
    },
    {
      "cell_type": "code",
      "metadata": {
        "id": "R2TP8WCABGmu"
      },
      "source": [
        "GCLOUD_PROJECT = os.environ.get(\"GCLOUD_PROJECT_ID\", \"\")\r\n",
        "GCS_BUCKET_NAME = os.environ.get(\"GCS_BUCKET_NAME\", \"\")"
      ],
      "execution_count": null,
      "outputs": []
    },
    {
      "cell_type": "code",
      "metadata": {
        "id": "vwPGzGcMDVfC"
      },
      "source": [
        "try:\r\n",
        "    import google.colab.auth as gca\r\n",
        "    gca.authenticate_user()\r\n",
        "except ImportError as e:\r\n",
        "    _logger.debug(e)"
      ],
      "execution_count": null,
      "outputs": []
    },
    {
      "cell_type": "code",
      "metadata": {
        "id": "udYcV_MMJ9Ps"
      },
      "source": [
        "!gcloud config set project {GCLOUD_PROJECT}\r\n",
        "!gcloud config set core/disable_usage_reporting False"
      ],
      "execution_count": null,
      "outputs": []
    },
    {
      "cell_type": "code",
      "metadata": {
        "id": "nr6PrgqcK3q_"
      },
      "source": [
        "os.environ[\"GOOGLE_CLOUD_PROJECT\"] = GCLOUD_PROJECT"
      ],
      "execution_count": null,
      "outputs": []
    },
    {
      "cell_type": "markdown",
      "metadata": {
        "id": "c9eYqSJF4NO-"
      },
      "source": [
        "## Download mlruns"
      ]
    },
    {
      "cell_type": "code",
      "metadata": {
        "id": "sGQf9G_T4TB0"
      },
      "source": [
        "def download_mlruns(project: str, bucket_name: str) -> None:\r\n",
        "    \"\"\"mlrunsをGCSから復元する.\r\n",
        "\r\n",
        "    Notes:\r\n",
        "        実験の再開はしない前提で meta.yaml のみ復元。\r\n",
        "    \"\"\"\r\n",
        "    client = gcs.Client(project=project)\r\n",
        "\r\n",
        "    mlflow_tracking_uri = os.environ.get(\"MLFLOW_TRACKING_URI\", \"data/processed/mlruns\")\r\n",
        "\r\n",
        "    blobs = client.list_blobs(bucket_name)\r\n",
        "    for blob in blobs:\r\n",
        "        filepath = pathlib.Path(blob.name)\r\n",
        "\r\n",
        "        dirname_top = str(filepath.parents[len(filepath.parents) - 2])\r\n",
        "        filename = str(filepath.name)\r\n",
        "        if (dirname_top == \"mlruns\") and (filename == \"meta.yaml\"):\r\n",
        "            download_path = pathlib.Path(mlflow_tracking_uri).joinpath(\r\n",
        "                \"/\".join(str(filepath).split(\"/\")[1:])\r\n",
        "            )\r\n",
        "            download_path.parent.mkdir(exist_ok=True, parents=True)\r\n",
        "            blob.download_to_filename(download_path)\r\n",
        "\r\n",
        "\r\n",
        "download_mlruns(GCLOUD_PROJECT, GCS_BUCKET_NAME)"
      ],
      "execution_count": null,
      "outputs": []
    },
    {
      "cell_type": "markdown",
      "metadata": {
        "id": "ouqEKjKTPk1U"
      },
      "source": [
        "## Run a experiment"
      ]
    },
    {
      "cell_type": "code",
      "metadata": {
        "id": "uq8CxPmCP1WV"
      },
      "source": [
        "%%writefile {CONFIG_PATH}\r\n",
        "experiment_name: \"ColabTest\"\r\n",
        "uri: \"/content/til/machine_learning/kaggle_ops/\"\r\n",
        "git_version: null"
      ],
      "execution_count": null,
      "outputs": []
    },
    {
      "cell_type": "code",
      "metadata": {
        "id": "qQLiBWgtPnka"
      },
      "source": [
        "# ここではPYTHONPATHは書き換えられない\r\n",
        "!env $(cat {DOTENV_PATH} | xargs) | python src/models/mlproject.py {CONFIG_PATH}"
      ],
      "execution_count": null,
      "outputs": []
    },
    {
      "cell_type": "markdown",
      "metadata": {
        "id": "ZWlfS_HlQO_Q"
      },
      "source": [
        "## Upload mlruns to GCS"
      ]
    },
    {
      "cell_type": "code",
      "metadata": {
        "id": "z3iSx0Ahe53L"
      },
      "source": [
        "def load_yaml(filepath: pathlib.Path) -> t.Dict:\r\n",
        "    \"\"\"yamlファイルを読み込んだ辞書を返す.\"\"\"\r\n",
        "    with open(filepath, \"r\") as f:\r\n",
        "        data = yaml.load(f, Loader=yaml.SafeLoader)\r\n",
        "\r\n",
        "    return data\r\n",
        "\r\n",
        "\r\n",
        "def search_experiment_dir(\r\n",
        "    mlruns_dir: pathlib.Path,\r\n",
        "    experiment_name: str,\r\n",
        ") -> pathlib.Path:\r\n",
        "    \"\"\"対象の実験フォルダのみを選択.\"\"\"\r\n",
        "    exp_dirs = pathlib.Path(mlruns_dir).glob(\"*\")\r\n",
        "    for exp_dir in exp_dirs:\r\n",
        "        try:\r\n",
        "            meta_path = exp_dir.joinpath(\"meta.yaml\")\r\n",
        "            meta = load_yaml(meta_path)\r\n",
        "        except FileNotFoundError as e:\r\n",
        "            _logger.debug(e)\r\n",
        "\r\n",
        "        if meta[\"name\"] == experiment_name:\r\n",
        "            return exp_dir\r\n",
        "\r\n",
        "    return pathlib.Path()\r\n",
        "\r\n",
        "\r\n",
        "def mlruns_files(experiment_dir: pathlib.Path) -> t.Dict[str, pathlib.Path]:\r\n",
        "    \"\"\"(blob name, filepath)で保存するファイル一覧を生成.\"\"\"\r\n",
        "    filepath_list = [\r\n",
        "        filepath\r\n",
        "        for filepath in experiment_dir.glob(\"**/*\")\r\n",
        "        if filepath.is_file()\r\n",
        "    ]\r\n",
        "    files = {\r\n",
        "        str(\r\n",
        "            pathlib.Path(f\"mlruns/{experiment_dir.stem}\").joinpath(\r\n",
        "                filepath.relative_to(experiment_dir)\r\n",
        "            )\r\n",
        "        ): filepath\r\n",
        "        for filepath in filepath_list\r\n",
        "    }\r\n",
        "\r\n",
        "    return files\r\n",
        "\r\n",
        "\r\n",
        "def upload_mlruns_to_gcs(\r\n",
        "    config_path: pathlib.Path,\r\n",
        "    project_name: str,\r\n",
        "    bucket_name: str,\r\n",
        ") -> None:\r\n",
        "    import pprint\r\n",
        "\r\n",
        "    config = load_yaml(config_path)\r\n",
        "    experiment_name = config[\"experiment_name\"]\r\n",
        "\r\n",
        "    mlflow_tracking_uri = os.environ.get(\"MLFLOW_TRACKING_URI\", \"data/processed/mlruns\")\r\n",
        "    exp_dir = search_experiment_dir(mlflow_tracking_uri, experiment_name)\r\n",
        "    candidates = mlruns_files(exp_dir)\r\n",
        "\r\n",
        "    client = gcs.Client(project=project_name)\r\n",
        "    files_in_bucket = [f.name for f in client.list_blobs(bucket_name)]\r\n",
        "    bucket = client.get_bucket(bucket_name)\r\n",
        "\r\n",
        "    blob_names = set(candidates.keys()) - set(files_in_bucket)\r\n",
        "    for blob_name in blob_names:\r\n",
        "        filepath = candidates[blob_name]\r\n",
        "        blob = bucket.blob(blob_name)\r\n",
        "        blob.upload_from_filename(str(filepath))\r\n",
        "\r\n",
        "\r\n",
        "upload_mlruns_to_gcs(CONFIG_PATH, GCLOUD_PROJECT, GCS_BUCKET_NAME)"
      ],
      "execution_count": null,
      "outputs": []
    }
  ]
}